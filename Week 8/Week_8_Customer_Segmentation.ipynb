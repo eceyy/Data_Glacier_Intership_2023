{
  "cells": [
    {
      "cell_type": "markdown",
      "metadata": {
        "id": "NMZS4liDB2lj"
      },
      "source": [
        "# **Customer Segmentation**\n",
        "**Problem Statement:** XYZ bank wants to roll out Christmas offers to their customers. But Bank does not want to roll out same offer to all customers  instead they want to roll out personalized offer to particular set of customers. If they manually start understanding the category of customer then this will be not efficient and also they will not be able to uncover the hidden pattern in the data ( pattern which group certain kind of customer in one category). Bank approached ABC analytics company to solve their problem. Bank also shared information with ABC analytics that they don't want more than 5 group as this will be inefficient for their campaign.\n",
        "\n",
        "**ML Problem:** ABC analytics proposed customer segmentation approach to Bank.\n",
        "\n",
        "ABC analytics assigned this talk to their analytics team and instructed their team to come up with the approach and feature which group similar behavior customer in one category and others in different category\n",
        "\n"
      ]
    },
    {
      "cell_type": "code",
      "execution_count": 1,
      "metadata": {
        "id": "92P49iaN6g2R"
      },
      "outputs": [],
      "source": [
        "import numpy as np\n",
        "import pandas as pd\n",
        "import seaborn as sns\n",
        "import matplotlib.pyplot as plt"
      ]
    },
    {
      "cell_type": "code",
      "execution_count": 2,
      "metadata": {
        "id": "I5ctr441-Yst"
      },
      "outputs": [],
      "source": [
        "data=pd.read_csv('custt_seg.csv',sep=',',index_col=False,dtype='unicode')"
      ]
    },
    {
      "cell_type": "markdown",
      "metadata": {
        "id": "5F3C3Kfm_ubW"
      },
      "source": [
        "**Week 8: Data understanding(number of NA values, outliers , skewed etc)**\n",
        "\n",
        "*   changing some column names\n",
        "*   fixing incorret data types\n",
        "*   outliers detection and treatment"
      ]
    },
    {
      "cell_type": "code",
      "execution_count": 3,
      "metadata": {
        "colab": {
          "base_uri": "https://localhost:8080/",
          "height": 505
        },
        "id": "5pES6YUBCZm5",
        "outputId": "ab72edf5-4101-4156-93ae-31277e52daa1"
      },
      "outputs": [
        {
          "output_type": "execute_result",
          "data": {
            "text/plain": [
              "       Unnamed: 0  fecha_dato ncodpers ind_empleado pais_residencia sexo age  \\\n",
              "0               0  28.01.2015  1375586            N              ES    H  35   \n",
              "1               1  28.01.2015  1050611            N              ES    V  23   \n",
              "2               2  28.01.2015  1050612            N              ES    V  23   \n",
              "3               3  28.01.2015  1050613            N              ES    H  22   \n",
              "4               4  28.01.2015  1050614            N              ES    V  23   \n",
              "...           ...         ...      ...          ...             ...  ...  ..   \n",
              "999995     999995  28.02.2015  1183296            N              ES    H  27   \n",
              "999996     999996  28.02.2015  1183295            N              ES    H  56   \n",
              "999997     999997  28.02.2015  1183294            N              ES    V  39   \n",
              "999998     999998  28.02.2015  1183293            N              ES    V  36   \n",
              "999999     999999  28.02.2015  1183289            N              ES    H  38   \n",
              "\n",
              "        fecha_alta ind_nuevo antiguedad  ... ind_hip_fin_ult1  \\\n",
              "0       12.01.2015         0          6  ...                0   \n",
              "1       10.08.2012         0         35  ...                0   \n",
              "2       10.08.2012         0         35  ...                0   \n",
              "3       10.08.2012         0         35  ...                0   \n",
              "4       10.08.2012         0         35  ...                0   \n",
              "...            ...       ...        ...  ...              ...   \n",
              "999995  25.09.2013         0         22  ...                0   \n",
              "999996  25.09.2013         0         22  ...                0   \n",
              "999997  25.09.2013         0         22  ...                0   \n",
              "999998  25.09.2013         0         22  ...                0   \n",
              "999999  25.09.2013         0         22  ...                0   \n",
              "\n",
              "       ind_plan_fin_ult1 ind_pres_fin_ult1 ind_reca_fin_ult1  \\\n",
              "0                      0                 0                 0   \n",
              "1                      0                 0                 0   \n",
              "2                      0                 0                 0   \n",
              "3                      0                 0                 0   \n",
              "4                      0                 0                 0   \n",
              "...                  ...               ...               ...   \n",
              "999995                 0                 0                 0   \n",
              "999996                 0                 0                 0   \n",
              "999997                 0                 0                 0   \n",
              "999998                 0                 0                 0   \n",
              "999999                 0                 0                 0   \n",
              "\n",
              "       ind_tjcr_fin_ult1 ind_valo_fin_ult1 ind_viv_fin_ult1 ind_nomina_ult1  \\\n",
              "0                      0                 0                0               0   \n",
              "1                      0                 0                0               0   \n",
              "2                      0                 0                0               0   \n",
              "3                      0                 0                0               0   \n",
              "4                      0                 0                0               0   \n",
              "...                  ...               ...              ...             ...   \n",
              "999995                 0                 0                0               0   \n",
              "999996                 0                 0                0               0   \n",
              "999997                 0                 0                0               0   \n",
              "999998                 0                 0                0               0   \n",
              "999999                 0                 0                0               0   \n",
              "\n",
              "       ind_nom_pens_ult1 ind_recibo_ult1  \n",
              "0                      0               0  \n",
              "1                      0               0  \n",
              "2                      0               0  \n",
              "3                      0               0  \n",
              "4                      0               0  \n",
              "...                  ...             ...  \n",
              "999995                 0               1  \n",
              "999996                 0               0  \n",
              "999997                 0               1  \n",
              "999998                 0               1  \n",
              "999999                 0               1  \n",
              "\n",
              "[1000000 rows x 48 columns]"
            ],
            "text/html": [
              "\n",
              "  <div id=\"df-1ddff479-5629-452d-856f-3b8999392e1f\">\n",
              "    <div class=\"colab-df-container\">\n",
              "      <div>\n",
              "<style scoped>\n",
              "    .dataframe tbody tr th:only-of-type {\n",
              "        vertical-align: middle;\n",
              "    }\n",
              "\n",
              "    .dataframe tbody tr th {\n",
              "        vertical-align: top;\n",
              "    }\n",
              "\n",
              "    .dataframe thead th {\n",
              "        text-align: right;\n",
              "    }\n",
              "</style>\n",
              "<table border=\"1\" class=\"dataframe\">\n",
              "  <thead>\n",
              "    <tr style=\"text-align: right;\">\n",
              "      <th></th>\n",
              "      <th>Unnamed: 0</th>\n",
              "      <th>fecha_dato</th>\n",
              "      <th>ncodpers</th>\n",
              "      <th>ind_empleado</th>\n",
              "      <th>pais_residencia</th>\n",
              "      <th>sexo</th>\n",
              "      <th>age</th>\n",
              "      <th>fecha_alta</th>\n",
              "      <th>ind_nuevo</th>\n",
              "      <th>antiguedad</th>\n",
              "      <th>...</th>\n",
              "      <th>ind_hip_fin_ult1</th>\n",
              "      <th>ind_plan_fin_ult1</th>\n",
              "      <th>ind_pres_fin_ult1</th>\n",
              "      <th>ind_reca_fin_ult1</th>\n",
              "      <th>ind_tjcr_fin_ult1</th>\n",
              "      <th>ind_valo_fin_ult1</th>\n",
              "      <th>ind_viv_fin_ult1</th>\n",
              "      <th>ind_nomina_ult1</th>\n",
              "      <th>ind_nom_pens_ult1</th>\n",
              "      <th>ind_recibo_ult1</th>\n",
              "    </tr>\n",
              "  </thead>\n",
              "  <tbody>\n",
              "    <tr>\n",
              "      <th>0</th>\n",
              "      <td>0</td>\n",
              "      <td>28.01.2015</td>\n",
              "      <td>1375586</td>\n",
              "      <td>N</td>\n",
              "      <td>ES</td>\n",
              "      <td>H</td>\n",
              "      <td>35</td>\n",
              "      <td>12.01.2015</td>\n",
              "      <td>0</td>\n",
              "      <td>6</td>\n",
              "      <td>...</td>\n",
              "      <td>0</td>\n",
              "      <td>0</td>\n",
              "      <td>0</td>\n",
              "      <td>0</td>\n",
              "      <td>0</td>\n",
              "      <td>0</td>\n",
              "      <td>0</td>\n",
              "      <td>0</td>\n",
              "      <td>0</td>\n",
              "      <td>0</td>\n",
              "    </tr>\n",
              "    <tr>\n",
              "      <th>1</th>\n",
              "      <td>1</td>\n",
              "      <td>28.01.2015</td>\n",
              "      <td>1050611</td>\n",
              "      <td>N</td>\n",
              "      <td>ES</td>\n",
              "      <td>V</td>\n",
              "      <td>23</td>\n",
              "      <td>10.08.2012</td>\n",
              "      <td>0</td>\n",
              "      <td>35</td>\n",
              "      <td>...</td>\n",
              "      <td>0</td>\n",
              "      <td>0</td>\n",
              "      <td>0</td>\n",
              "      <td>0</td>\n",
              "      <td>0</td>\n",
              "      <td>0</td>\n",
              "      <td>0</td>\n",
              "      <td>0</td>\n",
              "      <td>0</td>\n",
              "      <td>0</td>\n",
              "    </tr>\n",
              "    <tr>\n",
              "      <th>2</th>\n",
              "      <td>2</td>\n",
              "      <td>28.01.2015</td>\n",
              "      <td>1050612</td>\n",
              "      <td>N</td>\n",
              "      <td>ES</td>\n",
              "      <td>V</td>\n",
              "      <td>23</td>\n",
              "      <td>10.08.2012</td>\n",
              "      <td>0</td>\n",
              "      <td>35</td>\n",
              "      <td>...</td>\n",
              "      <td>0</td>\n",
              "      <td>0</td>\n",
              "      <td>0</td>\n",
              "      <td>0</td>\n",
              "      <td>0</td>\n",
              "      <td>0</td>\n",
              "      <td>0</td>\n",
              "      <td>0</td>\n",
              "      <td>0</td>\n",
              "      <td>0</td>\n",
              "    </tr>\n",
              "    <tr>\n",
              "      <th>3</th>\n",
              "      <td>3</td>\n",
              "      <td>28.01.2015</td>\n",
              "      <td>1050613</td>\n",
              "      <td>N</td>\n",
              "      <td>ES</td>\n",
              "      <td>H</td>\n",
              "      <td>22</td>\n",
              "      <td>10.08.2012</td>\n",
              "      <td>0</td>\n",
              "      <td>35</td>\n",
              "      <td>...</td>\n",
              "      <td>0</td>\n",
              "      <td>0</td>\n",
              "      <td>0</td>\n",
              "      <td>0</td>\n",
              "      <td>0</td>\n",
              "      <td>0</td>\n",
              "      <td>0</td>\n",
              "      <td>0</td>\n",
              "      <td>0</td>\n",
              "      <td>0</td>\n",
              "    </tr>\n",
              "    <tr>\n",
              "      <th>4</th>\n",
              "      <td>4</td>\n",
              "      <td>28.01.2015</td>\n",
              "      <td>1050614</td>\n",
              "      <td>N</td>\n",
              "      <td>ES</td>\n",
              "      <td>V</td>\n",
              "      <td>23</td>\n",
              "      <td>10.08.2012</td>\n",
              "      <td>0</td>\n",
              "      <td>35</td>\n",
              "      <td>...</td>\n",
              "      <td>0</td>\n",
              "      <td>0</td>\n",
              "      <td>0</td>\n",
              "      <td>0</td>\n",
              "      <td>0</td>\n",
              "      <td>0</td>\n",
              "      <td>0</td>\n",
              "      <td>0</td>\n",
              "      <td>0</td>\n",
              "      <td>0</td>\n",
              "    </tr>\n",
              "    <tr>\n",
              "      <th>...</th>\n",
              "      <td>...</td>\n",
              "      <td>...</td>\n",
              "      <td>...</td>\n",
              "      <td>...</td>\n",
              "      <td>...</td>\n",
              "      <td>...</td>\n",
              "      <td>...</td>\n",
              "      <td>...</td>\n",
              "      <td>...</td>\n",
              "      <td>...</td>\n",
              "      <td>...</td>\n",
              "      <td>...</td>\n",
              "      <td>...</td>\n",
              "      <td>...</td>\n",
              "      <td>...</td>\n",
              "      <td>...</td>\n",
              "      <td>...</td>\n",
              "      <td>...</td>\n",
              "      <td>...</td>\n",
              "      <td>...</td>\n",
              "      <td>...</td>\n",
              "    </tr>\n",
              "    <tr>\n",
              "      <th>999995</th>\n",
              "      <td>999995</td>\n",
              "      <td>28.02.2015</td>\n",
              "      <td>1183296</td>\n",
              "      <td>N</td>\n",
              "      <td>ES</td>\n",
              "      <td>H</td>\n",
              "      <td>27</td>\n",
              "      <td>25.09.2013</td>\n",
              "      <td>0</td>\n",
              "      <td>22</td>\n",
              "      <td>...</td>\n",
              "      <td>0</td>\n",
              "      <td>0</td>\n",
              "      <td>0</td>\n",
              "      <td>0</td>\n",
              "      <td>0</td>\n",
              "      <td>0</td>\n",
              "      <td>0</td>\n",
              "      <td>0</td>\n",
              "      <td>0</td>\n",
              "      <td>1</td>\n",
              "    </tr>\n",
              "    <tr>\n",
              "      <th>999996</th>\n",
              "      <td>999996</td>\n",
              "      <td>28.02.2015</td>\n",
              "      <td>1183295</td>\n",
              "      <td>N</td>\n",
              "      <td>ES</td>\n",
              "      <td>H</td>\n",
              "      <td>56</td>\n",
              "      <td>25.09.2013</td>\n",
              "      <td>0</td>\n",
              "      <td>22</td>\n",
              "      <td>...</td>\n",
              "      <td>0</td>\n",
              "      <td>0</td>\n",
              "      <td>0</td>\n",
              "      <td>0</td>\n",
              "      <td>0</td>\n",
              "      <td>0</td>\n",
              "      <td>0</td>\n",
              "      <td>0</td>\n",
              "      <td>0</td>\n",
              "      <td>0</td>\n",
              "    </tr>\n",
              "    <tr>\n",
              "      <th>999997</th>\n",
              "      <td>999997</td>\n",
              "      <td>28.02.2015</td>\n",
              "      <td>1183294</td>\n",
              "      <td>N</td>\n",
              "      <td>ES</td>\n",
              "      <td>V</td>\n",
              "      <td>39</td>\n",
              "      <td>25.09.2013</td>\n",
              "      <td>0</td>\n",
              "      <td>22</td>\n",
              "      <td>...</td>\n",
              "      <td>0</td>\n",
              "      <td>0</td>\n",
              "      <td>0</td>\n",
              "      <td>0</td>\n",
              "      <td>0</td>\n",
              "      <td>0</td>\n",
              "      <td>0</td>\n",
              "      <td>0</td>\n",
              "      <td>0</td>\n",
              "      <td>1</td>\n",
              "    </tr>\n",
              "    <tr>\n",
              "      <th>999998</th>\n",
              "      <td>999998</td>\n",
              "      <td>28.02.2015</td>\n",
              "      <td>1183293</td>\n",
              "      <td>N</td>\n",
              "      <td>ES</td>\n",
              "      <td>V</td>\n",
              "      <td>36</td>\n",
              "      <td>25.09.2013</td>\n",
              "      <td>0</td>\n",
              "      <td>22</td>\n",
              "      <td>...</td>\n",
              "      <td>0</td>\n",
              "      <td>0</td>\n",
              "      <td>0</td>\n",
              "      <td>0</td>\n",
              "      <td>0</td>\n",
              "      <td>0</td>\n",
              "      <td>0</td>\n",
              "      <td>0</td>\n",
              "      <td>0</td>\n",
              "      <td>1</td>\n",
              "    </tr>\n",
              "    <tr>\n",
              "      <th>999999</th>\n",
              "      <td>999999</td>\n",
              "      <td>28.02.2015</td>\n",
              "      <td>1183289</td>\n",
              "      <td>N</td>\n",
              "      <td>ES</td>\n",
              "      <td>H</td>\n",
              "      <td>38</td>\n",
              "      <td>25.09.2013</td>\n",
              "      <td>0</td>\n",
              "      <td>22</td>\n",
              "      <td>...</td>\n",
              "      <td>0</td>\n",
              "      <td>0</td>\n",
              "      <td>0</td>\n",
              "      <td>0</td>\n",
              "      <td>0</td>\n",
              "      <td>0</td>\n",
              "      <td>0</td>\n",
              "      <td>0</td>\n",
              "      <td>0</td>\n",
              "      <td>1</td>\n",
              "    </tr>\n",
              "  </tbody>\n",
              "</table>\n",
              "<p>1000000 rows × 48 columns</p>\n",
              "</div>\n",
              "      <button class=\"colab-df-convert\" onclick=\"convertToInteractive('df-1ddff479-5629-452d-856f-3b8999392e1f')\"\n",
              "              title=\"Convert this dataframe to an interactive table.\"\n",
              "              style=\"display:none;\">\n",
              "        \n",
              "  <svg xmlns=\"http://www.w3.org/2000/svg\" height=\"24px\"viewBox=\"0 0 24 24\"\n",
              "       width=\"24px\">\n",
              "    <path d=\"M0 0h24v24H0V0z\" fill=\"none\"/>\n",
              "    <path d=\"M18.56 5.44l.94 2.06.94-2.06 2.06-.94-2.06-.94-.94-2.06-.94 2.06-2.06.94zm-11 1L8.5 8.5l.94-2.06 2.06-.94-2.06-.94L8.5 2.5l-.94 2.06-2.06.94zm10 10l.94 2.06.94-2.06 2.06-.94-2.06-.94-.94-2.06-.94 2.06-2.06.94z\"/><path d=\"M17.41 7.96l-1.37-1.37c-.4-.4-.92-.59-1.43-.59-.52 0-1.04.2-1.43.59L10.3 9.45l-7.72 7.72c-.78.78-.78 2.05 0 2.83L4 21.41c.39.39.9.59 1.41.59.51 0 1.02-.2 1.41-.59l7.78-7.78 2.81-2.81c.8-.78.8-2.07 0-2.86zM5.41 20L4 18.59l7.72-7.72 1.47 1.35L5.41 20z\"/>\n",
              "  </svg>\n",
              "      </button>\n",
              "      \n",
              "  <style>\n",
              "    .colab-df-container {\n",
              "      display:flex;\n",
              "      flex-wrap:wrap;\n",
              "      gap: 12px;\n",
              "    }\n",
              "\n",
              "    .colab-df-convert {\n",
              "      background-color: #E8F0FE;\n",
              "      border: none;\n",
              "      border-radius: 50%;\n",
              "      cursor: pointer;\n",
              "      display: none;\n",
              "      fill: #1967D2;\n",
              "      height: 32px;\n",
              "      padding: 0 0 0 0;\n",
              "      width: 32px;\n",
              "    }\n",
              "\n",
              "    .colab-df-convert:hover {\n",
              "      background-color: #E2EBFA;\n",
              "      box-shadow: 0px 1px 2px rgba(60, 64, 67, 0.3), 0px 1px 3px 1px rgba(60, 64, 67, 0.15);\n",
              "      fill: #174EA6;\n",
              "    }\n",
              "\n",
              "    [theme=dark] .colab-df-convert {\n",
              "      background-color: #3B4455;\n",
              "      fill: #D2E3FC;\n",
              "    }\n",
              "\n",
              "    [theme=dark] .colab-df-convert:hover {\n",
              "      background-color: #434B5C;\n",
              "      box-shadow: 0px 1px 3px 1px rgba(0, 0, 0, 0.15);\n",
              "      filter: drop-shadow(0px 1px 2px rgba(0, 0, 0, 0.3));\n",
              "      fill: #FFFFFF;\n",
              "    }\n",
              "  </style>\n",
              "\n",
              "      <script>\n",
              "        const buttonEl =\n",
              "          document.querySelector('#df-1ddff479-5629-452d-856f-3b8999392e1f button.colab-df-convert');\n",
              "        buttonEl.style.display =\n",
              "          google.colab.kernel.accessAllowed ? 'block' : 'none';\n",
              "\n",
              "        async function convertToInteractive(key) {\n",
              "          const element = document.querySelector('#df-1ddff479-5629-452d-856f-3b8999392e1f');\n",
              "          const dataTable =\n",
              "            await google.colab.kernel.invokeFunction('convertToInteractive',\n",
              "                                                     [key], {});\n",
              "          if (!dataTable) return;\n",
              "\n",
              "          const docLinkHtml = 'Like what you see? Visit the ' +\n",
              "            '<a target=\"_blank\" href=https://colab.research.google.com/notebooks/data_table.ipynb>data table notebook</a>'\n",
              "            + ' to learn more about interactive tables.';\n",
              "          element.innerHTML = '';\n",
              "          dataTable['output_type'] = 'display_data';\n",
              "          await google.colab.output.renderOutput(dataTable, element);\n",
              "          const docLink = document.createElement('div');\n",
              "          docLink.innerHTML = docLinkHtml;\n",
              "          element.appendChild(docLink);\n",
              "        }\n",
              "      </script>\n",
              "    </div>\n",
              "  </div>\n",
              "  "
            ]
          },
          "metadata": {},
          "execution_count": 3
        }
      ],
      "source": [
        "data"
      ]
    },
    {
      "cell_type": "code",
      "source": [
        "data.shape"
      ],
      "metadata": {
        "colab": {
          "base_uri": "https://localhost:8080/"
        },
        "id": "yOj0xTWNe_QF",
        "outputId": "07c38544-41c1-4044-e7eb-4e931f9cb368"
      },
      "execution_count": 4,
      "outputs": [
        {
          "output_type": "execute_result",
          "data": {
            "text/plain": [
              "(1000000, 48)"
            ]
          },
          "metadata": {},
          "execution_count": 4
        }
      ]
    },
    {
      "cell_type": "code",
      "execution_count": 5,
      "metadata": {
        "id": "5fkdg-11Lc71"
      },
      "outputs": [],
      "source": [
        "data.drop('ult_fec_cli_1t',axis=1, inplace=True)\n",
        "data.drop('conyuemp',axis=1, inplace=True)\n",
        "data.drop('ind_aval_fin_ult1',axis=1, inplace=True)"
      ]
    },
    {
      "cell_type": "code",
      "execution_count": 6,
      "metadata": {
        "id": "eiy54Uorjc2u"
      },
      "outputs": [],
      "source": [
        "#changing some column name\n",
        "data.rename({'ncodpers':'cust_code', 'ind_empleado':'employee_index', 'fecha_alta': 'date_regist'}, axis=1, inplace=True)\n",
        "data.rename({'Unnamed: 0':'ıd','pais_residencia':'custom_country_residence', 'ind_nuevo':'new_cust_ındex', 'antiguedad':'cust_seniority'}, axis=1, inplace=True)\n",
        "data.rename({'indrel':'primary_cust', 'ult_fec_cli_1t':'last_data_primary_cust', 'indrel_1mes': 'cust_type'}, axis=1, inplace=True)\n",
        "data.rename({'tiprel_1mes':'cust_relation_type', 'indresi':'residence_index', 'indext': 'foreigner_index'}, axis=1, inplace=True)\n",
        "data.rename({'conyuemp':'spouse_index', 'canal_entrada':'channel', 'indfall':'deceased_index','tipodom':'addres_type'}, axis=1, inplace=True)\n",
        "data.rename({'nomprov':'province_name', 'ind_actividad_cliente':'activity_index', 'renta': 'gross_income','ind_ahor_fin_ult1':'save_account'}, axis=1, inplace=True)\n",
        "data.rename({'ind_cco_fin_ult1':'current_account', 'ind_cder_fin_ult1':'derivada_account', 'ind_cno_fin_ult1':'payroll_account','ind_ctju_fin_ult1':'junior_account'}, axis=1, inplace=True)\n",
        "data.rename({'ind_ctma_fin_ult1':'mas_particu_account', 'ind_ctop_fin_ult1':'particu_account','ind_ctpp_fin_ult1':'particu_plus_account'}, axis=1, inplace=True)\n",
        "data.rename({'ind_deco_fin_ult1':'short_term_deposit', 'ind_deme_fin_ult1':'medium_term_deposit', 'ind_dela_fin_ult1':'long_term_deposit','ind_ecue_fin_ult1':'e_account'}, axis=1, inplace=True)\n",
        "data.rename({'ind_fond_fin_ult1':'funds', 'ind_hip_fin_ult1':'mortgage', 'ind_plan_fin_ult1':'pensions','ind_pres_fin_ult1':'loans'}, axis=1, inplace=True)\n",
        "data.rename({'ind_reca_fin_ult1':'taxes', 'ind_tjcr_fin_ult1':'credit_card', 'ind_valo_fin_ult1':'securities','ind_viv_fin_ult1':'home_account'}, axis=1, inplace=True)\n",
        "data.rename({'ind_nomina_ult1':'payroll', 'ind_nom_pens_ult1':'a_pension', 'ind_recibo_ult1':'direct_debit'}, axis=1, inplace=True)"
      ]
    },
    {
      "cell_type": "code",
      "execution_count": 8,
      "metadata": {
        "colab": {
          "base_uri": "https://localhost:8080/"
        },
        "id": "zlUi4DQ1aHag",
        "outputId": "abcc7740-dfb5-4686-9fe0-011d1f626621"
      },
      "outputs": [
        {
          "output_type": "stream",
          "name": "stdout",
          "text": [
            "<class 'pandas.core.frame.DataFrame'>\n",
            "RangeIndex: 1000000 entries, 0 to 999999\n",
            "Data columns (total 45 columns):\n",
            " #   Column                    Non-Null Count    Dtype \n",
            "---  ------                    --------------    ----- \n",
            " 0   ıd                        1000000 non-null  object\n",
            " 1   fecha_dato                1000000 non-null  object\n",
            " 2   cust_code                 1000000 non-null  object\n",
            " 3   employee_index            989218 non-null   object\n",
            " 4   custom_country_residence  989218 non-null   object\n",
            " 5   sexo                      989214 non-null   object\n",
            " 6   age                       989218 non-null   object\n",
            " 7   date_regist               989218 non-null   object\n",
            " 8   new_cust_ındex            989218 non-null   object\n",
            " 9   cust_seniority            989218 non-null   object\n",
            " 10  primary_cust              989218 non-null   object\n",
            " 11  cust_type                 989218 non-null   object\n",
            " 12  cust_relation_type        989218 non-null   object\n",
            " 13  residence_index           989218 non-null   object\n",
            " 14  foreigner_index           989218 non-null   object\n",
            " 15  channel                   989139 non-null   object\n",
            " 16  deceased_index            989218 non-null   object\n",
            " 17  addres_type               989218 non-null   object\n",
            " 18  cod_prov                  982266 non-null   object\n",
            " 19  province_name             982266 non-null   object\n",
            " 20  activity_index            989218 non-null   object\n",
            " 21  gross_income              824817 non-null   object\n",
            " 22  save_account              1000000 non-null  object\n",
            " 23  current_account           1000000 non-null  object\n",
            " 24  derivada_account          1000000 non-null  object\n",
            " 25  payroll_account           1000000 non-null  object\n",
            " 26  junior_account            1000000 non-null  object\n",
            " 27  mas_particu_account       1000000 non-null  object\n",
            " 28  particu_account           1000000 non-null  object\n",
            " 29  particu_plus_account      1000000 non-null  object\n",
            " 30  short_term_deposit        1000000 non-null  object\n",
            " 31  medium_term_deposit       1000000 non-null  object\n",
            " 32  long_term_deposit         1000000 non-null  object\n",
            " 33  e_account                 1000000 non-null  object\n",
            " 34  funds                     1000000 non-null  object\n",
            " 35  mortgage                  1000000 non-null  object\n",
            " 36  pensions                  1000000 non-null  object\n",
            " 37  loans                     1000000 non-null  object\n",
            " 38  taxes                     1000000 non-null  object\n",
            " 39  credit_card               1000000 non-null  object\n",
            " 40  securities                1000000 non-null  object\n",
            " 41  home_account              1000000 non-null  object\n",
            " 42  payroll                   994598 non-null   object\n",
            " 43  a_pension                 994598 non-null   object\n",
            " 44  direct_debit              1000000 non-null  object\n",
            "dtypes: object(45)\n",
            "memory usage: 343.3+ MB\n"
          ]
        }
      ],
      "source": [
        "data.info()"
      ]
    },
    {
      "cell_type": "code",
      "execution_count": 9,
      "metadata": {
        "colab": {
          "base_uri": "https://localhost:8080/"
        },
        "id": "_J-oo2DYqowq",
        "outputId": "37c955c5-8ad2-42a5-d104-eb2dc6097a29"
      },
      "outputs": [
        {
          "output_type": "execute_result",
          "data": {
            "text/plain": [
              "Yes    982264\n",
              "No       6954\n",
              "Name: residence_index, dtype: int64"
            ]
          },
          "metadata": {},
          "execution_count": 9
        }
      ],
      "source": [
        "data['residence_index']=data['residence_index'].replace('S','Yes').replace('N','No')\n",
        "data['residence_index'].value_counts()"
      ]
    },
    {
      "cell_type": "code",
      "execution_count": 10,
      "metadata": {
        "id": "7CfIY4h1FXbv",
        "colab": {
          "base_uri": "https://localhost:8080/"
        },
        "outputId": "ddd32478-5c9b-4237-81d7-99c7f5e98d17"
      },
      "outputs": [
        {
          "output_type": "stream",
          "name": "stderr",
          "text": [
            "<ipython-input-10-5f7ef62f3299>:1: UserWarning: Parsing dates in DD/MM/YYYY format when dayfirst=False (the default) was specified. This may lead to inconsistently parsed dates! Specify a format to ensure consistent parsing.\n",
            "  data['fecha_dato']=pd.to_datetime(data['fecha_dato'],unit='ns')\n"
          ]
        }
      ],
      "source": [
        "data['fecha_dato']=pd.to_datetime(data['fecha_dato'],unit='ns')\n",
        "data['date_regist']=pd.to_datetime(data['fecha_dato'],unit='ns')"
      ]
    },
    {
      "cell_type": "code",
      "execution_count": 11,
      "metadata": {
        "colab": {
          "base_uri": "https://localhost:8080/"
        },
        "id": "mYfNjzxhY2GJ",
        "outputId": "08eec142-c6e3-4742-941d-ce433c8b117c"
      },
      "outputs": [
        {
          "output_type": "stream",
          "name": "stdout",
          "text": [
            "N    988260\n",
            "B       387\n",
            "A       287\n",
            "F       282\n",
            "S         2\n",
            "Name: employee_index, dtype: int64\n",
            "10782\n"
          ]
        }
      ],
      "source": [
        "#Employee index: A active, B ex employed, F filial, N not employee, P pasive\n",
        "print(data['employee_index'].value_counts())\n",
        "print(data['employee_index'].isnull().sum())"
      ]
    },
    {
      "cell_type": "code",
      "execution_count": 12,
      "metadata": {
        "colab": {
          "base_uri": "https://localhost:8080/"
        },
        "id": "ICUcWTQsZZLE",
        "outputId": "5d97221c-6ea3-4483-f0e9-2f326c83f421"
      },
      "outputs": [
        {
          "output_type": "stream",
          "name": "stdout",
          "text": [
            "0    988734\n",
            "1       484\n",
            "Name: new_cust_ındex, dtype: int64\n",
            "10782\n"
          ]
        }
      ],
      "source": [
        "print(data['new_cust_ındex'].value_counts())\n",
        "print(data['new_cust_ındex'].isnull().sum())"
      ]
    },
    {
      "cell_type": "code",
      "execution_count": 13,
      "metadata": {
        "colab": {
          "base_uri": "https://localhost:8080/"
        },
        "id": "yo5deKSJdwm9",
        "outputId": "e7f52bc9-f17c-4252-b97e-c7b45777b35c"
      },
      "outputs": [
        {
          "output_type": "execute_result",
          "data": {
            "text/plain": [
              "1     988117\n",
              "99      1101\n",
              "Name: primary_cust, dtype: int64"
            ]
          },
          "metadata": {},
          "execution_count": 13
        }
      ],
      "source": [
        "#1(First/Primary), 99 (Primary customer during the month but not at the end of the month)\n",
        "data['primary_cust'].value_counts()"
      ]
    },
    {
      "cell_type": "code",
      "source": [
        "data['cust_type'].value_counts()"
      ],
      "metadata": {
        "colab": {
          "base_uri": "https://localhost:8080/"
        },
        "id": "O9lk7mzeKZKA",
        "outputId": "4f860997-0565-4ee4-ac95-3ee3eb8c724e"
      },
      "execution_count": 14,
      "outputs": [
        {
          "output_type": "execute_result",
          "data": {
            "text/plain": [
              "1    989175\n",
              "3        41\n",
              "2         2\n",
              "Name: cust_type, dtype: int64"
            ]
          },
          "metadata": {},
          "execution_count": 14
        }
      ]
    },
    {
      "cell_type": "code",
      "source": [
        "print(data['cust_code'].isnull().sum())"
      ],
      "metadata": {
        "colab": {
          "base_uri": "https://localhost:8080/"
        },
        "id": "_ThI6r7x2bYY",
        "outputId": "45815113-e87f-4227-8c94-e5473d722e79"
      },
      "execution_count": 71,
      "outputs": [
        {
          "output_type": "stream",
          "name": "stdout",
          "text": [
            "0\n"
          ]
        }
      ]
    },
    {
      "cell_type": "code",
      "source": [
        "#Customer relation type at the beginning of the month, A (active), I (inactive), P (former customer),R (Potential)\n",
        "print(data['cust_relation_type'].value_counts())\n",
        "print(data['cust_relation_type'].isnull().sum())"
      ],
      "metadata": {
        "colab": {
          "base_uri": "https://localhost:8080/"
        },
        "id": "tgs4hRW_frns",
        "outputId": "b101b182-aa3c-42df-8431-8ae0a62323af"
      },
      "execution_count": 17,
      "outputs": [
        {
          "output_type": "stream",
          "name": "stdout",
          "text": [
            "A    547800\n",
            "I    441377\n",
            "P        41\n",
            "Name: cust_relation_type, dtype: int64\n",
            "10782\n"
          ]
        }
      ]
    },
    {
      "cell_type": "code",
      "source": [
        "data['foreigner_index']=data['foreigner_index'].replace('S','Yes').replace('N','No')\n",
        "print(data['foreigner_index'].value_counts())\n",
        "print(data['foreigner_index'].isnull().sum())"
      ],
      "metadata": {
        "colab": {
          "base_uri": "https://localhost:8080/"
        },
        "id": "rETIPwZPhwj_",
        "outputId": "e01b526f-743c-4031-93e0-454aeaaac11d"
      },
      "execution_count": 18,
      "outputs": [
        {
          "output_type": "stream",
          "name": "stdout",
          "text": [
            "No     946328\n",
            "Yes     42890\n",
            "Name: foreigner_index, dtype: int64\n",
            "10782\n"
          ]
        }
      ]
    },
    {
      "cell_type": "code",
      "source": [
        "print(data['deceased_index'].value_counts())\n",
        "print(data['deceased_index'].isnull().sum())"
      ],
      "metadata": {
        "colab": {
          "base_uri": "https://localhost:8080/"
        },
        "id": "uMbMGwmCCCkt",
        "outputId": "bfe624d2-9ee9-48fe-a52e-eaf2f375877d"
      },
      "execution_count": 19,
      "outputs": [
        {
          "output_type": "stream",
          "name": "stdout",
          "text": [
            "N    986107\n",
            "S      3111\n",
            "Name: deceased_index, dtype: int64\n",
            "10782\n"
          ]
        }
      ]
    },
    {
      "cell_type": "code",
      "source": [
        "print(data['channel'].value_counts())\n",
        "print(data['channel'].isnull().sum())"
      ],
      "metadata": {
        "colab": {
          "base_uri": "https://localhost:8080/"
        },
        "id": "EC2hJSIp4OS_",
        "outputId": "208d0bec-0b1b-4a87-e987-74b9e409eb0a"
      },
      "execution_count": 20,
      "outputs": [
        {
          "output_type": "stream",
          "name": "stdout",
          "text": [
            "KAT    313944\n",
            "KFC    259035\n",
            "KHE    249254\n",
            "KFA     37733\n",
            "KAS      8190\n",
            "        ...  \n",
            "KDI         2\n",
            "KDB         2\n",
            "KBN         2\n",
            "KGN         1\n",
            "KGC         1\n",
            "Name: channel, Length: 156, dtype: int64\n",
            "10861\n"
          ]
        }
      ]
    },
    {
      "cell_type": "code",
      "source": [
        "print(data['addres_type'].value_counts())\n",
        "print(data['addres_type'].isnull().sum())\n",
        "data['addres_type']"
      ],
      "metadata": {
        "colab": {
          "base_uri": "https://localhost:8080/"
        },
        "id": "MyfnpRMwCbvJ",
        "outputId": "3ac5cc06-8a24-48ed-af21-cb574377b4b0"
      },
      "execution_count": 21,
      "outputs": [
        {
          "output_type": "stream",
          "name": "stdout",
          "text": [
            "1    989218\n",
            "Name: addres_type, dtype: int64\n",
            "10782\n"
          ]
        },
        {
          "output_type": "execute_result",
          "data": {
            "text/plain": [
              "0         1\n",
              "1         1\n",
              "2         1\n",
              "3         1\n",
              "4         1\n",
              "         ..\n",
              "999995    1\n",
              "999996    1\n",
              "999997    1\n",
              "999998    1\n",
              "999999    1\n",
              "Name: addres_type, Length: 1000000, dtype: object"
            ]
          },
          "metadata": {},
          "execution_count": 21
        }
      ]
    },
    {
      "cell_type": "code",
      "source": [
        "print(data['custom_country_residence'].value_counts())\n",
        "print(data['custom_country_residence'].isnull().sum())"
      ],
      "metadata": {
        "colab": {
          "base_uri": "https://localhost:8080/"
        },
        "id": "dqApD1Yg1-e1",
        "outputId": "17de9faf-2565-482a-9a57-be8e6a8902d0"
      },
      "execution_count": 22,
      "outputs": [
        {
          "output_type": "stream",
          "name": "stdout",
          "text": [
            "ES    982264\n",
            "FR       546\n",
            "AR       542\n",
            "DE       487\n",
            "GB       480\n",
            "       ...  \n",
            "TN         2\n",
            "LB         2\n",
            "GE         2\n",
            "BZ         2\n",
            "AL         1\n",
            "Name: custom_country_residence, Length: 113, dtype: int64\n",
            "10782\n"
          ]
        }
      ]
    },
    {
      "cell_type": "code",
      "source": [
        "print(data['activity_index'].value_counts())\n",
        "print(data['activity_index'].isnull().sum())"
      ],
      "metadata": {
        "colab": {
          "base_uri": "https://localhost:8080/"
        },
        "id": "KNCoCJMghgB1",
        "outputId": "3b9b25eb-c867-4d15-fdb2-72ac19d5966b"
      },
      "execution_count": 23,
      "outputs": [
        {
          "output_type": "stream",
          "name": "stdout",
          "text": [
            "1    558879\n",
            "0    430339\n",
            "Name: activity_index, dtype: int64\n",
            "10782\n"
          ]
        }
      ]
    },
    {
      "cell_type": "code",
      "source": [
        "print(data['save_account'].value_counts())\n",
        "print(data['save_account'].isnull().sum())"
      ],
      "metadata": {
        "colab": {
          "base_uri": "https://localhost:8080/"
        },
        "id": "JtGT4B2riKjI",
        "outputId": "f2c1f19f-934d-4b86-e17d-5f6e16984030"
      },
      "execution_count": 24,
      "outputs": [
        {
          "output_type": "stream",
          "name": "stdout",
          "text": [
            "0    999823\n",
            "1       177\n",
            "Name: save_account, dtype: int64\n",
            "0\n"
          ]
        }
      ]
    },
    {
      "cell_type": "code",
      "source": [
        "print(data['current_account'].value_counts())\n",
        "print(data['current_account'].isnull().sum())"
      ],
      "metadata": {
        "colab": {
          "base_uri": "https://localhost:8080/"
        },
        "id": "eCP8Aih0j9ux",
        "outputId": "529bab64-0bbe-4784-ccad-aba369b7ac40"
      },
      "execution_count": 25,
      "outputs": [
        {
          "output_type": "stream",
          "name": "stdout",
          "text": [
            "1    749626\n",
            "0    250374\n",
            "Name: current_account, dtype: int64\n",
            "0\n"
          ]
        }
      ]
    },
    {
      "cell_type": "code",
      "source": [
        "print(data['derivada_account'].value_counts())\n",
        "print(data['derivada_account'].isnull().sum())"
      ],
      "metadata": {
        "colab": {
          "base_uri": "https://localhost:8080/"
        },
        "id": "2Qa6slKfkXH9",
        "outputId": "9cce864e-2393-4f32-a884-ac4b6521eb38"
      },
      "execution_count": 26,
      "outputs": [
        {
          "output_type": "stream",
          "name": "stdout",
          "text": [
            "0    999409\n",
            "1       591\n",
            "Name: derivada_account, dtype: int64\n",
            "0\n"
          ]
        }
      ]
    },
    {
      "cell_type": "code",
      "source": [
        "print(data['payroll_account'].value_counts())\n",
        "print(data['payroll_account'].isnull().sum())"
      ],
      "metadata": {
        "colab": {
          "base_uri": "https://localhost:8080/"
        },
        "id": "fTkD1q17k0Bc",
        "outputId": "8bbec0cf-93c0-44b6-c594-2688c1dfb2cf"
      },
      "execution_count": 27,
      "outputs": [
        {
          "output_type": "stream",
          "name": "stdout",
          "text": [
            "0    894704\n",
            "1    105296\n",
            "Name: payroll_account, dtype: int64\n",
            "0\n"
          ]
        }
      ]
    },
    {
      "cell_type": "code",
      "source": [
        "print(data['junior_account'].value_counts())\n",
        "print(data['junior_account'].isnull().sum())"
      ],
      "metadata": {
        "colab": {
          "base_uri": "https://localhost:8080/"
        },
        "id": "Qleks2wSmbaT",
        "outputId": "23ccf7c5-cc81-4854-d6db-2d97db9a1968"
      },
      "execution_count": 28,
      "outputs": [
        {
          "output_type": "stream",
          "name": "stdout",
          "text": [
            "0    986377\n",
            "1     13623\n",
            "Name: junior_account, dtype: int64\n",
            "0\n"
          ]
        }
      ]
    },
    {
      "cell_type": "code",
      "source": [
        "print(data['mas_particu_account'].value_counts())\n",
        "print(data['mas_particu_account'].isnull().sum())"
      ],
      "metadata": {
        "colab": {
          "base_uri": "https://localhost:8080/"
        },
        "id": "gMvWYKlunEX9",
        "outputId": "6bdf9cb1-a838-47c7-d5c8-590269d6b024"
      },
      "execution_count": 29,
      "outputs": [
        {
          "output_type": "stream",
          "name": "stdout",
          "text": [
            "0    990106\n",
            "1      9894\n",
            "Name: mas_particu_account, dtype: int64\n",
            "0\n"
          ]
        }
      ]
    },
    {
      "cell_type": "code",
      "source": [
        "print(data['particu_account'].value_counts())\n",
        "print(data['particu_account'].isnull().sum())"
      ],
      "metadata": {
        "colab": {
          "base_uri": "https://localhost:8080/"
        },
        "id": "d5x1l6rKniE9",
        "outputId": "2acc1b9d-42a9-4a58-dbbc-81bdfc912e92"
      },
      "execution_count": 30,
      "outputs": [
        {
          "output_type": "stream",
          "name": "stdout",
          "text": [
            "0    787514\n",
            "1    212486\n",
            "Name: particu_account, dtype: int64\n",
            "0\n"
          ]
        }
      ]
    },
    {
      "cell_type": "code",
      "source": [
        "print(data['particu_plus_account'].value_counts())\n",
        "print(data['particu_plus_account'].isnull().sum())"
      ],
      "metadata": {
        "colab": {
          "base_uri": "https://localhost:8080/"
        },
        "id": "bzyNcZsOojhj",
        "outputId": "b28aca6d-49f4-4dae-fd91-489a95a92ce9"
      },
      "execution_count": 31,
      "outputs": [
        {
          "output_type": "stream",
          "name": "stdout",
          "text": [
            "0    927921\n",
            "1     72079\n",
            "Name: particu_plus_account, dtype: int64\n",
            "0\n"
          ]
        }
      ]
    },
    {
      "cell_type": "code",
      "source": [
        "print(data['short_term_deposit'].value_counts())\n",
        "print(data['short_term_deposit'].isnull().sum())"
      ],
      "metadata": {
        "colab": {
          "base_uri": "https://localhost:8080/"
        },
        "id": "Rdfij6Mro9x6",
        "outputId": "09535b4b-6bb9-49c1-8d87-d83859eaf04e"
      },
      "execution_count": 32,
      "outputs": [
        {
          "output_type": "stream",
          "name": "stdout",
          "text": [
            "0    997842\n",
            "1      2158\n",
            "Name: short_term_deposit, dtype: int64\n",
            "0\n"
          ]
        }
      ]
    },
    {
      "cell_type": "code",
      "source": [
        "print(data['medium_term_deposit'].value_counts())\n",
        "print(data['medium_term_deposit'].isnull().sum())"
      ],
      "metadata": {
        "colab": {
          "base_uri": "https://localhost:8080/"
        },
        "id": "tyW2Z7ZYpUhr",
        "outputId": "cfe8c72c-3bc1-4a89-ca7f-c2efd9458be4"
      },
      "execution_count": 33,
      "outputs": [
        {
          "output_type": "stream",
          "name": "stdout",
          "text": [
            "0    996850\n",
            "1      3150\n",
            "Name: medium_term_deposit, dtype: int64\n",
            "0\n"
          ]
        }
      ]
    },
    {
      "cell_type": "code",
      "source": [
        "print(data['long_term_deposit'].value_counts())\n",
        "print(data['long_term_deposit'].isnull().sum())"
      ],
      "metadata": {
        "colab": {
          "base_uri": "https://localhost:8080/"
        },
        "id": "WaRhzH-CpvXv",
        "outputId": "151a7647-35fe-4d38-d558-dc853c019308"
      },
      "execution_count": 34,
      "outputs": [
        {
          "output_type": "stream",
          "name": "stdout",
          "text": [
            "0    933119\n",
            "1     66881\n",
            "Name: long_term_deposit, dtype: int64\n",
            "0\n"
          ]
        }
      ]
    },
    {
      "cell_type": "code",
      "source": [
        "print(data['e_account'].value_counts())\n",
        "print(data['e_account'].isnull().sum())"
      ],
      "metadata": {
        "colab": {
          "base_uri": "https://localhost:8080/"
        },
        "id": "4VoeM862ruzs",
        "outputId": "0987807a-75ad-4c86-b7c1-ab612ed1311c"
      },
      "execution_count": 35,
      "outputs": [
        {
          "output_type": "stream",
          "name": "stdout",
          "text": [
            "0    893733\n",
            "1    106267\n",
            "Name: e_account, dtype: int64\n",
            "0\n"
          ]
        }
      ]
    },
    {
      "cell_type": "code",
      "source": [
        "print(data['funds'].value_counts())\n",
        "print(data['funds'].isnull().sum())"
      ],
      "metadata": {
        "colab": {
          "base_uri": "https://localhost:8080/"
        },
        "id": "682jBEcrs-z5",
        "outputId": "31b4fcc5-e8de-4ac0-cffb-8eae0d686f06"
      },
      "execution_count": 36,
      "outputs": [
        {
          "output_type": "stream",
          "name": "stdout",
          "text": [
            "0    972818\n",
            "1     27182\n",
            "Name: funds, dtype: int64\n",
            "0\n"
          ]
        }
      ]
    },
    {
      "cell_type": "code",
      "source": [
        "print(data['mortgage'].value_counts())\n",
        "print(data['mortgage'].isnull().sum())"
      ],
      "metadata": {
        "colab": {
          "base_uri": "https://localhost:8080/"
        },
        "id": "TFVs3Hyhtaib",
        "outputId": "c88c8bfe-de94-406d-efcc-73b4b03c7456"
      },
      "execution_count": 37,
      "outputs": [
        {
          "output_type": "stream",
          "name": "stdout",
          "text": [
            "0    990018\n",
            "1      9982\n",
            "Name: mortgage, dtype: int64\n",
            "0\n"
          ]
        }
      ]
    },
    {
      "cell_type": "code",
      "source": [
        "print(data['pensions'].value_counts())\n",
        "print(data['pensions'].isnull().sum())"
      ],
      "metadata": {
        "colab": {
          "base_uri": "https://localhost:8080/"
        },
        "id": "D8k92a4gt5fr",
        "outputId": "7112f6dc-96a8-4b2e-b28a-e2c4ff1804ec"
      },
      "execution_count": 38,
      "outputs": [
        {
          "output_type": "stream",
          "name": "stdout",
          "text": [
            "0    985447\n",
            "1     14553\n",
            "Name: pensions, dtype: int64\n",
            "0\n"
          ]
        }
      ]
    },
    {
      "cell_type": "code",
      "source": [
        "print(data['loans'].value_counts())\n",
        "print(data['loans'].isnull().sum())"
      ],
      "metadata": {
        "colab": {
          "base_uri": "https://localhost:8080/"
        },
        "id": "4v8Q6iW3t5i7",
        "outputId": "60a4b8a8-b8a7-4d75-d882-8b69a40ceda9"
      },
      "execution_count": 39,
      "outputs": [
        {
          "output_type": "stream",
          "name": "stdout",
          "text": [
            "0    995339\n",
            "1      4661\n",
            "Name: loans, dtype: int64\n",
            "0\n"
          ]
        }
      ]
    },
    {
      "cell_type": "code",
      "source": [
        "print(data['taxes'].value_counts())\n",
        "print(data['taxes'].isnull().sum())"
      ],
      "metadata": {
        "colab": {
          "base_uri": "https://localhost:8080/"
        },
        "id": "oDSGCwHcuRPu",
        "outputId": "be64bd76-7d8d-4664-e8c5-b7677f28d307"
      },
      "execution_count": 40,
      "outputs": [
        {
          "output_type": "stream",
          "name": "stdout",
          "text": [
            "0    927419\n",
            "1     72581\n",
            "Name: taxes, dtype: int64\n",
            "0\n"
          ]
        }
      ]
    },
    {
      "cell_type": "code",
      "source": [
        "print(data['credit_card'].value_counts())\n",
        "print(data['credit_card'].isnull().sum())"
      ],
      "metadata": {
        "colab": {
          "base_uri": "https://localhost:8080/"
        },
        "id": "uK5oBYALvmXJ",
        "outputId": "38797770-bded-4ae1-fa53-1e1dcbe502ab"
      },
      "execution_count": 41,
      "outputs": [
        {
          "output_type": "stream",
          "name": "stdout",
          "text": [
            "0    933916\n",
            "1     66084\n",
            "Name: credit_card, dtype: int64\n",
            "0\n"
          ]
        }
      ]
    },
    {
      "cell_type": "code",
      "source": [
        "print(data['securities'].value_counts())\n",
        "print(data['securities'].isnull().sum())"
      ],
      "metadata": {
        "colab": {
          "base_uri": "https://localhost:8080/"
        },
        "id": "0AaUOnLdwjOv",
        "outputId": "c862456c-ed1b-40ce-b79f-498c23aeaf50"
      },
      "execution_count": 42,
      "outputs": [
        {
          "output_type": "stream",
          "name": "stdout",
          "text": [
            "0    960622\n",
            "1     39378\n",
            "Name: securities, dtype: int64\n",
            "0\n"
          ]
        }
      ]
    },
    {
      "cell_type": "code",
      "source": [
        "print(data['home_account'].value_counts())\n",
        "print(data['home_account'].isnull().sum())"
      ],
      "metadata": {
        "colab": {
          "base_uri": "https://localhost:8080/"
        },
        "id": "XJSmEIZaxXTQ",
        "outputId": "3697c08a-bce4-46a8-ae80-ac544ffc3309"
      },
      "execution_count": 43,
      "outputs": [
        {
          "output_type": "stream",
          "name": "stdout",
          "text": [
            "0    993558\n",
            "1      6442\n",
            "Name: home_account, dtype: int64\n",
            "0\n"
          ]
        }
      ]
    },
    {
      "cell_type": "code",
      "source": [
        "print(data['payroll'].value_counts())\n",
        "print(data['payroll'].isnull().sum())"
      ],
      "metadata": {
        "colab": {
          "base_uri": "https://localhost:8080/"
        },
        "id": "AW2AV9HBxoUx",
        "outputId": "0cabede1-2e25-46ea-a3d3-6aa83304d454"
      },
      "execution_count": 44,
      "outputs": [
        {
          "output_type": "stream",
          "name": "stdout",
          "text": [
            "0    923356\n",
            "1     71242\n",
            "Name: payroll, dtype: int64\n",
            "5402\n"
          ]
        }
      ]
    },
    {
      "cell_type": "code",
      "source": [
        "print(data['a_pension'].value_counts())\n",
        "print(data['a_pension'].isnull().sum())"
      ],
      "metadata": {
        "colab": {
          "base_uri": "https://localhost:8080/"
        },
        "id": "V4vHB2OeyO6p",
        "outputId": "f1ea6551-0a06-4885-ef64-ee1a370897c3"
      },
      "execution_count": 45,
      "outputs": [
        {
          "output_type": "stream",
          "name": "stdout",
          "text": [
            "0    915485\n",
            "1     79113\n",
            "Name: a_pension, dtype: int64\n",
            "5402\n"
          ]
        }
      ]
    },
    {
      "cell_type": "code",
      "source": [
        "print(data['direct_debit'].value_counts())\n",
        "print(data['direct_debit'].isnull().sum())"
      ],
      "metadata": {
        "colab": {
          "base_uri": "https://localhost:8080/"
        },
        "id": "pKmCviLjy2oS",
        "outputId": "675fca8a-4a49-4661-cf61-6a4e30fdd6ab"
      },
      "execution_count": 46,
      "outputs": [
        {
          "output_type": "stream",
          "name": "stdout",
          "text": [
            "0    833725\n",
            "1    166275\n",
            "Name: direct_debit, dtype: int64\n",
            "0\n"
          ]
        }
      ]
    },
    {
      "cell_type": "code",
      "source": [
        "print(data['sexo'].value_counts())\n",
        "print(data['sexo'].isnull().sum())"
      ],
      "metadata": {
        "colab": {
          "base_uri": "https://localhost:8080/"
        },
        "id": "44XSE72kj56Z",
        "outputId": "4a269048-ae0d-4cf3-d637-0e79d75ddcd1"
      },
      "execution_count": 47,
      "outputs": [
        {
          "output_type": "stream",
          "name": "stdout",
          "text": [
            "V    562000\n",
            "H    427214\n",
            "Name: sexo, dtype: int64\n",
            "10786\n"
          ]
        }
      ]
    },
    {
      "cell_type": "code",
      "source": [
        "print(data['province_name'].value_counts())\n",
        "print(data['province_name'].isnull().sum())"
      ],
      "metadata": {
        "colab": {
          "base_uri": "https://localhost:8080/"
        },
        "id": "NjQaPuKFYxUR",
        "outputId": "4748f32e-f3b1-4634-dbc4-0ec8dd8028f4"
      },
      "execution_count": 48,
      "outputs": [
        {
          "output_type": "stream",
          "name": "stdout",
          "text": [
            "MADRID                    360131\n",
            "BARCELONA                  87372\n",
            "VALENCIA                   46394\n",
            "SEVILLA                    43922\n",
            "CORUA                      27545\n",
            "MALAGA                     26798\n",
            "MURCIA                     24782\n",
            "ZARAGOZA                   24621\n",
            "ALICANTE                   20323\n",
            "CADIZ                      20292\n",
            "ASTURIAS                   18399\n",
            "PONTEVEDRA                 17482\n",
            "VALLADOLID                 16657\n",
            "PALMAS                     15976\n",
            "BIZKAIA                    15597\n",
            "GRANADA                    12930\n",
            "TOLEDO                     12131\n",
            "BADAJOZ                    11909\n",
            "CANTABRIA                  11264\n",
            "SALAMANCA                  10650\n",
            "CORDOBA                     9829\n",
            "BALEARS                     8361\n",
            "CACERES                     8347\n",
            "HUELVA                      7923\n",
            "CIUDAD REAL                 7782\n",
            "ALBACETE                    7294\n",
            "CASTELLON                   6711\n",
            "NAVARRA                     6584\n",
            "BURGOS                      6403\n",
            "TARRAGONA                   6120\n",
            "RIOJA                       5992\n",
            "LEON                        5968\n",
            "GIRONA                      5735\n",
            "GIPUZKOA                    5708\n",
            "LUGO                        5259\n",
            "OURENSE                     5151\n",
            "SANTA CRUZ DE TENERIFE      5080\n",
            "LERIDA                      4846\n",
            "JAEN                        4492\n",
            "GUADALAJARA                 4327\n",
            "ALMERIA                     4021\n",
            "CUENCA                      3768\n",
            "PALENCIA                    3224\n",
            "ZAMORA                      3213\n",
            "SEGOVIA                     2979\n",
            "ALAVA                       2878\n",
            "HUESCA                      2657\n",
            "AVILA                       2573\n",
            "TERUEL                      1397\n",
            "SORIA                       1179\n",
            "MELILLA                      764\n",
            "CEUTA                        526\n",
            "Name: province_name, dtype: int64\n",
            "17734\n"
          ]
        }
      ]
    },
    {
      "cell_type": "code",
      "source": [
        "print(data['cod_prov'].value_counts())\n",
        "print(data['cod_prov'].isnull().sum())"
      ],
      "metadata": {
        "colab": {
          "base_uri": "https://localhost:8080/"
        },
        "id": "lRQE0o6IlKps",
        "outputId": "f0449d17-62f6-4de2-e0e6-23ca12963290"
      },
      "execution_count": 49,
      "outputs": [
        {
          "output_type": "stream",
          "name": "stdout",
          "text": [
            "28    360131\n",
            "8      87372\n",
            "46     46394\n",
            "41     43922\n",
            "15     27545\n",
            "29     26798\n",
            "30     24782\n",
            "50     24621\n",
            "3      20323\n",
            "11     20292\n",
            "33     18399\n",
            "36     17482\n",
            "47     16657\n",
            "35     15976\n",
            "48     15597\n",
            "18     12930\n",
            "45     12131\n",
            "6      11909\n",
            "39     11264\n",
            "37     10650\n",
            "14      9829\n",
            "7       8361\n",
            "10      8347\n",
            "21      7923\n",
            "13      7782\n",
            "2       7294\n",
            "12      6711\n",
            "31      6584\n",
            "9       6403\n",
            "43      6120\n",
            "26      5992\n",
            "24      5968\n",
            "17      5735\n",
            "20      5708\n",
            "27      5259\n",
            "32      5151\n",
            "38      5080\n",
            "25      4846\n",
            "23      4492\n",
            "19      4327\n",
            "4       4021\n",
            "16      3768\n",
            "34      3224\n",
            "49      3213\n",
            "40      2979\n",
            "1       2878\n",
            "22      2657\n",
            "5       2573\n",
            "44      1397\n",
            "42      1179\n",
            "52       764\n",
            "51       526\n",
            "Name: cod_prov, dtype: int64\n",
            "17734\n"
          ]
        }
      ]
    },
    {
      "cell_type": "code",
      "source": [
        "data[['cod_prov','province_name']]"
      ],
      "metadata": {
        "colab": {
          "base_uri": "https://localhost:8080/",
          "height": 424
        },
        "id": "yeb_xWZSlY28",
        "outputId": "f54f8ac5-a4af-4198-e23e-63aabf322840"
      },
      "execution_count": 50,
      "outputs": [
        {
          "output_type": "execute_result",
          "data": {
            "text/plain": [
              "       cod_prov province_name\n",
              "0            29        MALAGA\n",
              "1            13   CIUDAD REAL\n",
              "2            13   CIUDAD REAL\n",
              "3            50      ZARAGOZA\n",
              "4            50      ZARAGOZA\n",
              "...         ...           ...\n",
              "999995       28        MADRID\n",
              "999996       15         CORUA\n",
              "999997       15         CORUA\n",
              "999998       28        MADRID\n",
              "999999       11         CADIZ\n",
              "\n",
              "[1000000 rows x 2 columns]"
            ],
            "text/html": [
              "\n",
              "  <div id=\"df-a40f5690-1bbe-44af-ac13-d5aaa1ea15f7\">\n",
              "    <div class=\"colab-df-container\">\n",
              "      <div>\n",
              "<style scoped>\n",
              "    .dataframe tbody tr th:only-of-type {\n",
              "        vertical-align: middle;\n",
              "    }\n",
              "\n",
              "    .dataframe tbody tr th {\n",
              "        vertical-align: top;\n",
              "    }\n",
              "\n",
              "    .dataframe thead th {\n",
              "        text-align: right;\n",
              "    }\n",
              "</style>\n",
              "<table border=\"1\" class=\"dataframe\">\n",
              "  <thead>\n",
              "    <tr style=\"text-align: right;\">\n",
              "      <th></th>\n",
              "      <th>cod_prov</th>\n",
              "      <th>province_name</th>\n",
              "    </tr>\n",
              "  </thead>\n",
              "  <tbody>\n",
              "    <tr>\n",
              "      <th>0</th>\n",
              "      <td>29</td>\n",
              "      <td>MALAGA</td>\n",
              "    </tr>\n",
              "    <tr>\n",
              "      <th>1</th>\n",
              "      <td>13</td>\n",
              "      <td>CIUDAD REAL</td>\n",
              "    </tr>\n",
              "    <tr>\n",
              "      <th>2</th>\n",
              "      <td>13</td>\n",
              "      <td>CIUDAD REAL</td>\n",
              "    </tr>\n",
              "    <tr>\n",
              "      <th>3</th>\n",
              "      <td>50</td>\n",
              "      <td>ZARAGOZA</td>\n",
              "    </tr>\n",
              "    <tr>\n",
              "      <th>4</th>\n",
              "      <td>50</td>\n",
              "      <td>ZARAGOZA</td>\n",
              "    </tr>\n",
              "    <tr>\n",
              "      <th>...</th>\n",
              "      <td>...</td>\n",
              "      <td>...</td>\n",
              "    </tr>\n",
              "    <tr>\n",
              "      <th>999995</th>\n",
              "      <td>28</td>\n",
              "      <td>MADRID</td>\n",
              "    </tr>\n",
              "    <tr>\n",
              "      <th>999996</th>\n",
              "      <td>15</td>\n",
              "      <td>CORUA</td>\n",
              "    </tr>\n",
              "    <tr>\n",
              "      <th>999997</th>\n",
              "      <td>15</td>\n",
              "      <td>CORUA</td>\n",
              "    </tr>\n",
              "    <tr>\n",
              "      <th>999998</th>\n",
              "      <td>28</td>\n",
              "      <td>MADRID</td>\n",
              "    </tr>\n",
              "    <tr>\n",
              "      <th>999999</th>\n",
              "      <td>11</td>\n",
              "      <td>CADIZ</td>\n",
              "    </tr>\n",
              "  </tbody>\n",
              "</table>\n",
              "<p>1000000 rows × 2 columns</p>\n",
              "</div>\n",
              "      <button class=\"colab-df-convert\" onclick=\"convertToInteractive('df-a40f5690-1bbe-44af-ac13-d5aaa1ea15f7')\"\n",
              "              title=\"Convert this dataframe to an interactive table.\"\n",
              "              style=\"display:none;\">\n",
              "        \n",
              "  <svg xmlns=\"http://www.w3.org/2000/svg\" height=\"24px\"viewBox=\"0 0 24 24\"\n",
              "       width=\"24px\">\n",
              "    <path d=\"M0 0h24v24H0V0z\" fill=\"none\"/>\n",
              "    <path d=\"M18.56 5.44l.94 2.06.94-2.06 2.06-.94-2.06-.94-.94-2.06-.94 2.06-2.06.94zm-11 1L8.5 8.5l.94-2.06 2.06-.94-2.06-.94L8.5 2.5l-.94 2.06-2.06.94zm10 10l.94 2.06.94-2.06 2.06-.94-2.06-.94-.94-2.06-.94 2.06-2.06.94z\"/><path d=\"M17.41 7.96l-1.37-1.37c-.4-.4-.92-.59-1.43-.59-.52 0-1.04.2-1.43.59L10.3 9.45l-7.72 7.72c-.78.78-.78 2.05 0 2.83L4 21.41c.39.39.9.59 1.41.59.51 0 1.02-.2 1.41-.59l7.78-7.78 2.81-2.81c.8-.78.8-2.07 0-2.86zM5.41 20L4 18.59l7.72-7.72 1.47 1.35L5.41 20z\"/>\n",
              "  </svg>\n",
              "      </button>\n",
              "      \n",
              "  <style>\n",
              "    .colab-df-container {\n",
              "      display:flex;\n",
              "      flex-wrap:wrap;\n",
              "      gap: 12px;\n",
              "    }\n",
              "\n",
              "    .colab-df-convert {\n",
              "      background-color: #E8F0FE;\n",
              "      border: none;\n",
              "      border-radius: 50%;\n",
              "      cursor: pointer;\n",
              "      display: none;\n",
              "      fill: #1967D2;\n",
              "      height: 32px;\n",
              "      padding: 0 0 0 0;\n",
              "      width: 32px;\n",
              "    }\n",
              "\n",
              "    .colab-df-convert:hover {\n",
              "      background-color: #E2EBFA;\n",
              "      box-shadow: 0px 1px 2px rgba(60, 64, 67, 0.3), 0px 1px 3px 1px rgba(60, 64, 67, 0.15);\n",
              "      fill: #174EA6;\n",
              "    }\n",
              "\n",
              "    [theme=dark] .colab-df-convert {\n",
              "      background-color: #3B4455;\n",
              "      fill: #D2E3FC;\n",
              "    }\n",
              "\n",
              "    [theme=dark] .colab-df-convert:hover {\n",
              "      background-color: #434B5C;\n",
              "      box-shadow: 0px 1px 3px 1px rgba(0, 0, 0, 0.15);\n",
              "      filter: drop-shadow(0px 1px 2px rgba(0, 0, 0, 0.3));\n",
              "      fill: #FFFFFF;\n",
              "    }\n",
              "  </style>\n",
              "\n",
              "      <script>\n",
              "        const buttonEl =\n",
              "          document.querySelector('#df-a40f5690-1bbe-44af-ac13-d5aaa1ea15f7 button.colab-df-convert');\n",
              "        buttonEl.style.display =\n",
              "          google.colab.kernel.accessAllowed ? 'block' : 'none';\n",
              "\n",
              "        async function convertToInteractive(key) {\n",
              "          const element = document.querySelector('#df-a40f5690-1bbe-44af-ac13-d5aaa1ea15f7');\n",
              "          const dataTable =\n",
              "            await google.colab.kernel.invokeFunction('convertToInteractive',\n",
              "                                                     [key], {});\n",
              "          if (!dataTable) return;\n",
              "\n",
              "          const docLinkHtml = 'Like what you see? Visit the ' +\n",
              "            '<a target=\"_blank\" href=https://colab.research.google.com/notebooks/data_table.ipynb>data table notebook</a>'\n",
              "            + ' to learn more about interactive tables.';\n",
              "          element.innerHTML = '';\n",
              "          dataTable['output_type'] = 'display_data';\n",
              "          await google.colab.output.renderOutput(dataTable, element);\n",
              "          const docLink = document.createElement('div');\n",
              "          docLink.innerHTML = docLinkHtml;\n",
              "          element.appendChild(docLink);\n",
              "        }\n",
              "      </script>\n",
              "    </div>\n",
              "  </div>\n",
              "  "
            ]
          },
          "metadata": {},
          "execution_count": 50
        }
      ]
    },
    {
      "cell_type": "code",
      "source": [
        "#g = data.dropna(subset=['province_name']).drop_duplicates('cod_prov').set_index('cod_prov')['province_name']\n",
        "#data['cod_prov'] = data['cod_prov'].fillna(data['province_name'].map(g))"
      ],
      "metadata": {
        "id": "g3R2T8Smn3dR"
      },
      "execution_count": 51,
      "outputs": []
    },
    {
      "cell_type": "code",
      "execution_count": 52,
      "metadata": {
        "id": "Y_-ZpgXJVxIc"
      },
      "outputs": [],
      "source": [
        "data['new_cust_ındex']=data['new_cust_ındex'].astype(\"float\")\n",
        "data['cust_seniority']=data['cust_seniority'].astype(\"float\")\n",
        "data['age']=data['age'].astype(\"float\")\n",
        "data['cust_type']=data['cust_type'].astype(\"float\")\n",
        "data['primary_cust']=data['primary_cust'].astype(\"float\")\n",
        "data['activity_index']=data['activity_index'].astype(\"float\")\n",
        "data['gross_income']=data['gross_income'].astype(\"float\")"
      ]
    },
    {
      "cell_type": "code",
      "source": [
        "data['age'].head(264)"
      ],
      "metadata": {
        "colab": {
          "base_uri": "https://localhost:8080/"
        },
        "id": "P41pCMNQ1RbN",
        "outputId": "fb5487e3-7f84-4cae-c482-b5f16a7c9adc"
      },
      "execution_count": 53,
      "outputs": [
        {
          "output_type": "execute_result",
          "data": {
            "text/plain": [
              "0      35.0\n",
              "1      23.0\n",
              "2      23.0\n",
              "3      22.0\n",
              "4      23.0\n",
              "       ... \n",
              "259    22.0\n",
              "260    23.0\n",
              "261     NaN\n",
              "262    25.0\n",
              "263    23.0\n",
              "Name: age, Length: 264, dtype: float64"
            ]
          },
          "metadata": {},
          "execution_count": 53
        }
      ]
    },
    {
      "cell_type": "code",
      "source": [
        "data['cust_seniority']=data['cust_seniority'].fillna(data['cust_seniority'].mean())\n",
        "data['cust_seniority'].head(264)"
      ],
      "metadata": {
        "colab": {
          "base_uri": "https://localhost:8080/"
        },
        "id": "JwXdAwhV08te",
        "outputId": "0977eade-b334-4b17-bcb2-be3279e7ce19"
      },
      "execution_count": 54,
      "outputs": [
        {
          "output_type": "execute_result",
          "data": {
            "text/plain": [
              "0       6.000000\n",
              "1      35.000000\n",
              "2      35.000000\n",
              "3      35.000000\n",
              "4      35.000000\n",
              "         ...    \n",
              "259    35.000000\n",
              "260    35.000000\n",
              "261    93.093975\n",
              "262    35.000000\n",
              "263    35.000000\n",
              "Name: cust_seniority, Length: 264, dtype: float64"
            ]
          },
          "metadata": {},
          "execution_count": 54
        }
      ]
    },
    {
      "cell_type": "code",
      "source": [
        "data['age']=data['age'].fillna(data['age'].mean())\n",
        "data['gross_income'].interpolate(method ='linear', limit_direction ='backward', inplace=True)\n",
        "#data['gross_income']=data['gross_income'].fillna(data['gross_income'].mean())\n",
        "data['cust_type']=data['cust_type'].fillna(method ='ffill')\n",
        "data['primary_cust']=data['primary_cust'].fillna(method ='ffill')\n",
        "data['cust_relation_type']=data['cust_relation_type'].fillna(method ='ffill')\n",
        "data['residence_index']=data['residence_index'].fillna(method='ffill')\n",
        "data['foreigner_index']=data['foreigner_index'].fillna(method='ffill')\n",
        "data['channel']=data['channel'].fillna(method='ffill')\n",
        "data['deceased_index']=data['deceased_index'].fillna(method='ffill')\n",
        "data['addres_type']=data['addres_type'].fillna(method='ffill')\n",
        "data['province_name']=data['province_name'].fillna(method='ffill')\n",
        "data['activity_index']=data['activity_index'].fillna(method='ffill')\n",
        "data['payroll']=data['payroll'].fillna(method='ffill')\n",
        "data['a_pension']=data['a_pension'].fillna(method='ffill')\n",
        "data['employee_index']=data['employee_index'].fillna(method='ffill')\n",
        "data['custom_country_residence']=data['custom_country_residence'].fillna(method='ffill')\n",
        "data['sexo']=data['sexo'].fillna(method='ffill')\n",
        "data['new_cust_ındex']=data['new_cust_ındex'].fillna(method='ffill')\n",
        "data['cod_prov']=data['cod_prov'].fillna(method='ffill')\n",
        "\n",
        "\n",
        "\n",
        "# Interpolate backwardly across the column:\n",
        "#data['gross_income'].interpolate(method ='linear', limit_direction ='backward', inplace=True)"
      ],
      "metadata": {
        "id": "TfvAVYqkJIz9"
      },
      "execution_count": 55,
      "outputs": []
    },
    {
      "cell_type": "code",
      "source": [
        "data['ıd']=data['ıd'].astype(\"int64\")\n",
        "data['cust_code']=data['cust_code'].astype(\"int64\")\n",
        "data['cust_seniority']=data['cust_seniority'].astype(\"int64\")\n",
        "data['age']=data['age'].astype(\"int64\")\n",
        "data['cust_type']=data['cust_type'].astype(\"int64\")\n",
        "data['activity_index']=data['activity_index'].astype(\"int64\")\n",
        "data['gross_income']=data['gross_income'].astype(\"int64\")\n",
        "data['save_account']=data['save_account'].astype(\"int64\")\n",
        "data['current_account']=data['current_account'].astype(\"int64\")\n",
        "data['derivada_account']=data['derivada_account'].astype(\"int64\")\n",
        "data['payroll_account']=data['payroll_account'].astype(\"int64\")\n",
        "data['junior_account']=data['junior_account'].astype(\"int64\")\n",
        "data['mas_particu_account']=data['mas_particu_account'].astype(\"int64\")\n",
        "data['particu_account']=data['particu_account'].astype(\"int64\")\n",
        "data['particu_plus_account']=data['particu_plus_account'].astype(\"int64\")\n",
        "data['short_term_deposit']=data['short_term_deposit'].astype(\"int64\")\n",
        "data['medium_term_deposit']=data['medium_term_deposit'].astype(\"int64\")\n",
        "data['long_term_deposit']=data['long_term_deposit'].astype(\"int64\")\n",
        "data['e_account']=data['e_account'].astype(\"int64\")\n",
        "data['funds']=data['funds'].astype(\"int64\")\n",
        "data['mortgage']=data['mortgage'].astype(\"int64\")\n",
        "data['pensions']=data['pensions'].astype(\"int64\")\n",
        "data['loans']=data['loans'].astype(\"int64\")\n",
        "data['taxes']=data['taxes'].astype(\"int64\")\n",
        "data['credit_card']=data['credit_card'].astype(\"int64\")\n",
        "data['securities']=data['securities'].astype(\"int64\")\n",
        "data['home_account']=data['home_account'].astype(\"int64\")\n",
        "data['payroll']=data['payroll'].astype(\"int64\")\n",
        "data['a_pension']=data['a_pension'].astype(\"int64\")\n",
        "data['direct_debit']=data['direct_debit'].astype(\"int64\")"
      ],
      "metadata": {
        "id": "Cf5XcphzJ4TK"
      },
      "execution_count": 73,
      "outputs": []
    },
    {
      "cell_type": "code",
      "execution_count": 75,
      "metadata": {
        "colab": {
          "base_uri": "https://localhost:8080/"
        },
        "id": "XH9sV-HrVcY8",
        "outputId": "0c203e54-83cb-4512-eee7-6daff9d808df"
      },
      "outputs": [
        {
          "output_type": "stream",
          "name": "stdout",
          "text": [
            "<class 'pandas.core.frame.DataFrame'>\n",
            "Int64Index: 1000000 entries, 0 to 999999\n",
            "Data columns (total 45 columns):\n",
            " #   Column                    Non-Null Count    Dtype         \n",
            "---  ------                    --------------    -----         \n",
            " 0   ıd                        1000000 non-null  int64         \n",
            " 1   fecha_dato                1000000 non-null  datetime64[ns]\n",
            " 2   cust_code                 1000000 non-null  int64         \n",
            " 3   employee_index            1000000 non-null  object        \n",
            " 4   custom_country_residence  1000000 non-null  object        \n",
            " 5   sexo                      1000000 non-null  object        \n",
            " 6   age                       1000000 non-null  int64         \n",
            " 7   date_regist               1000000 non-null  datetime64[ns]\n",
            " 8   new_cust_ındex            1000000 non-null  float64       \n",
            " 9   cust_seniority            1000000 non-null  int64         \n",
            " 10  primary_cust              1000000 non-null  float64       \n",
            " 11  cust_type                 1000000 non-null  int64         \n",
            " 12  cust_relation_type        1000000 non-null  object        \n",
            " 13  residence_index           1000000 non-null  object        \n",
            " 14  foreigner_index           1000000 non-null  object        \n",
            " 15  channel                   1000000 non-null  object        \n",
            " 16  deceased_index            1000000 non-null  object        \n",
            " 17  addres_type               1000000 non-null  object        \n",
            " 18  cod_prov                  1000000 non-null  object        \n",
            " 19  province_name             1000000 non-null  object        \n",
            " 20  activity_index            1000000 non-null  int64         \n",
            " 21  gross_income              1000000 non-null  int64         \n",
            " 22  save_account              1000000 non-null  int64         \n",
            " 23  current_account           1000000 non-null  int64         \n",
            " 24  derivada_account          1000000 non-null  int64         \n",
            " 25  payroll_account           1000000 non-null  int64         \n",
            " 26  junior_account            1000000 non-null  int64         \n",
            " 27  mas_particu_account       1000000 non-null  int64         \n",
            " 28  particu_account           1000000 non-null  int64         \n",
            " 29  particu_plus_account      1000000 non-null  int64         \n",
            " 30  short_term_deposit        1000000 non-null  int64         \n",
            " 31  medium_term_deposit       1000000 non-null  int64         \n",
            " 32  long_term_deposit         1000000 non-null  int64         \n",
            " 33  e_account                 1000000 non-null  int64         \n",
            " 34  funds                     1000000 non-null  int64         \n",
            " 35  mortgage                  1000000 non-null  int64         \n",
            " 36  pensions                  1000000 non-null  int64         \n",
            " 37  loans                     1000000 non-null  int64         \n",
            " 38  taxes                     1000000 non-null  int64         \n",
            " 39  credit_card               1000000 non-null  int64         \n",
            " 40  securities                1000000 non-null  int64         \n",
            " 41  home_account              1000000 non-null  int64         \n",
            " 42  payroll                   1000000 non-null  int64         \n",
            " 43  a_pension                 1000000 non-null  int64         \n",
            " 44  direct_debit              1000000 non-null  int64         \n",
            "dtypes: datetime64[ns](2), float64(2), int64(30), object(11)\n",
            "memory usage: 351.0+ MB\n"
          ]
        }
      ],
      "source": [
        "data.info()"
      ]
    },
    {
      "cell_type": "code",
      "execution_count": 58,
      "metadata": {
        "colab": {
          "base_uri": "https://localhost:8080/"
        },
        "id": "qXAWZocaEbb7",
        "outputId": "e74f10b1-30d9-4616-fd11-ad6797ee88df"
      },
      "outputs": [
        {
          "output_type": "execute_result",
          "data": {
            "text/plain": [
              "ıd                          0\n",
              "fecha_dato                  0\n",
              "cust_code                   0\n",
              "employee_index              0\n",
              "custom_country_residence    0\n",
              "sexo                        0\n",
              "age                         0\n",
              "date_regist                 0\n",
              "new_cust_ındex              0\n",
              "cust_seniority              0\n",
              "primary_cust                0\n",
              "cust_type                   0\n",
              "cust_relation_type          0\n",
              "residence_index             0\n",
              "foreigner_index             0\n",
              "channel                     0\n",
              "deceased_index              0\n",
              "addres_type                 0\n",
              "cod_prov                    0\n",
              "province_name               0\n",
              "activity_index              0\n",
              "gross_income                0\n",
              "save_account                0\n",
              "current_account             0\n",
              "derivada_account            0\n",
              "payroll_account             0\n",
              "junior_account              0\n",
              "mas_particu_account         0\n",
              "particu_account             0\n",
              "particu_plus_account        0\n",
              "short_term_deposit          0\n",
              "medium_term_deposit         0\n",
              "long_term_deposit           0\n",
              "e_account                   0\n",
              "funds                       0\n",
              "mortgage                    0\n",
              "pensions                    0\n",
              "loans                       0\n",
              "taxes                       0\n",
              "credit_card                 0\n",
              "securities                  0\n",
              "home_account                0\n",
              "payroll                     0\n",
              "a_pension                   0\n",
              "direct_debit                0\n",
              "dtype: int64"
            ]
          },
          "metadata": {},
          "execution_count": 58
        }
      ],
      "source": [
        "data.isnull().sum()"
      ]
    },
    {
      "cell_type": "code",
      "source": [
        "data.duplicated().sum()"
      ],
      "metadata": {
        "colab": {
          "base_uri": "https://localhost:8080/"
        },
        "id": "lYjLDqShAiPe",
        "outputId": "a3486ceb-8f8e-4c7e-8346-1a87356bc16f"
      },
      "execution_count": 59,
      "outputs": [
        {
          "output_type": "execute_result",
          "data": {
            "text/plain": [
              "0"
            ]
          },
          "metadata": {},
          "execution_count": 59
        }
      ]
    },
    {
      "cell_type": "code",
      "source": [
        "#outliers values\n",
        "plt.figure(figsize=(20,15))\n",
        "ax=sns.boxplot(data = data, palette='BuPu')\n",
        "ax.set_xticklabels(ax.get_xticklabels(),rotation=90)\n",
        "\n",
        "plt.show()"
      ],
      "metadata": {
        "colab": {
          "base_uri": "https://localhost:8080/",
          "height": 815
        },
        "id": "8TLYfWNZxeHa",
        "outputId": "01653eb1-761d-40d2-a271-e78488cd3a27"
      },
      "execution_count": 60,
      "outputs": [
        {
          "output_type": "display_data",
          "data": {
            "text/plain": [
              "<Figure size 2000x1500 with 1 Axes>"
            ],
            "image/png": "[encoded data removed]"
          },
          "metadata": {}
        }
      ]
    },
    {
      "cell_type": "code",
      "source": [
        "numeric_value = data.select_dtypes(exclude=\"object\")\n",
        "numeric_value.shape"
      ],
      "metadata": {
        "colab": {
          "base_uri": "https://localhost:8080/"
        },
        "id": "4mirz2lzJkIn",
        "outputId": "cb464b8c-9154-42b3-b568-33c66b4354e0"
      },
      "execution_count": 61,
      "outputs": [
        {
          "output_type": "execute_result",
          "data": {
            "text/plain": [
              "(1000000, 33)"
            ]
          },
          "metadata": {},
          "execution_count": 61
        }
      ]
    },
    {
      "cell_type": "code",
      "source": [
        "numeric_list=['gross_income']\n"
      ],
      "metadata": {
        "id": "Lta-pSUdJDDY"
      },
      "execution_count": 62,
      "outputs": []
    },
    {
      "cell_type": "code",
      "source": [
        "#detecting outliers\n",
        "for variables in numeric_list:\n",
        "   q1= numeric_value[variables].quantile(.25)\n",
        "   q3 =numeric_value[variables].quantile(.75)\n",
        "   med=np.median(numeric_value[variables])\n",
        "   iqr = q3 - q1\n",
        "\n",
        "   lower_limit = q1 - (1.5 * iqr)\n",
        "   upper_limit = q3 + (1.5 * iqr)\n",
        "\n",
        "   outliers=numeric_value.index[(numeric_value[variables]>upper_limit) | (numeric_value[variables]<lower_limit)]\n",
        "\n",
        "   #outliers suppression\n",
        "   outliers = (numeric_value[variables] < (lower_limit))\n",
        "   outliers = (numeric_value[variables] > (upper_limit))\n",
        "\n",
        "   numeric_value[outliers] = lower_limit\n",
        "   numeric_value[outliers] = upper_limit"
      ],
      "metadata": {
        "id": "m6UON1wav_qm"
      },
      "execution_count": 63,
      "outputs": []
    },
    {
      "cell_type": "code",
      "source": [
        "unique_value = data.nunique()\n",
        "print(\"Number of unique values:\\n{}\".format(unique_value))"
      ],
      "metadata": {
        "colab": {
          "base_uri": "https://localhost:8080/"
        },
        "id": "dwMuj_n0w84r",
        "outputId": "8b5dc6cd-6173-44e2-ac8a-82628896a2b4"
      },
      "execution_count": 76,
      "outputs": [
        {
          "output_type": "stream",
          "name": "stdout",
          "text": [
            "Number of unique values:\n",
            "ıd                          1000000\n",
            "fecha_dato                        2\n",
            "cust_code                    626159\n",
            "employee_index                    5\n",
            "custom_country_residence        113\n",
            "sexo                              2\n",
            "age                             114\n",
            "date_regist                       2\n",
            "new_cust_ındex                    2\n",
            "cust_seniority                  248\n",
            "primary_cust                      2\n",
            "cust_type                         3\n",
            "cust_relation_type                3\n",
            "residence_index                   2\n",
            "foreigner_index                   2\n",
            "channel                         156\n",
            "deceased_index                    2\n",
            "addres_type                       1\n",
            "cod_prov                         52\n",
            "province_name                    52\n",
            "activity_index                    2\n",
            "gross_income                 216084\n",
            "save_account                      2\n",
            "current_account                   2\n",
            "derivada_account                  2\n",
            "payroll_account                   2\n",
            "junior_account                    2\n",
            "mas_particu_account               2\n",
            "particu_account                   2\n",
            "particu_plus_account              2\n",
            "short_term_deposit                2\n",
            "medium_term_deposit               2\n",
            "long_term_deposit                 2\n",
            "e_account                         2\n",
            "funds                             2\n",
            "mortgage                          2\n",
            "pensions                          2\n",
            "loans                             2\n",
            "taxes                             2\n",
            "credit_card                       2\n",
            "securities                        2\n",
            "home_account                      2\n",
            "payroll                           2\n",
            "a_pension                         2\n",
            "direct_debit                      2\n",
            "dtype: int64\n"
          ]
        }
      ]
    },
    {
      "cell_type": "code",
      "source": [
        "print(\"Unique values in each categorical column:\")\n",
        "for col in data.select_dtypes(include=[object]):\n",
        "    print(col,\":\", data[col].unique())"
      ],
      "metadata": {
        "colab": {
          "base_uri": "https://localhost:8080/"
        },
        "id": "JRisHByrxbEg",
        "outputId": "14bea51a-6337-4e08-a883-e031655d6ae0"
      },
      "execution_count": 65,
      "outputs": [
        {
          "output_type": "stream",
          "name": "stdout",
          "text": [
            "Unique values in each categorical column:\n",
            "cust_code : ['1375586' '1050611' '1050612' ... '1149999' '1150908' '1183305']\n",
            "employee_index : ['N' 'A' 'B' 'F' 'S']\n",
            "custom_country_residence : ['ES' 'CA' 'CH' 'CL' 'IE' 'AT' 'NL' 'FR' 'GB' 'DE' 'DO' 'BE' 'AR' 'VE'\n",
            " 'US' 'MX' 'BR' 'IT' 'EC' 'PE' 'CO' 'HN' 'FI' 'SE' 'AL' 'PT' 'MZ' 'CN'\n",
            " 'TW' 'PL' 'IN' 'CR' 'NI' 'HK' 'AD' 'CZ' 'AE' 'MA' 'GR' 'PR' 'RO' 'IL'\n",
            " 'RU' 'GT' 'GA' 'NO' 'SN' 'MR' 'UA' 'BG' 'PY' 'EE' 'SV' 'ET' 'CM' 'SA'\n",
            " 'CI' 'QA' 'LU' 'PA' 'BA' 'BO' 'AU' 'BY' 'KE' 'SG' 'HR' 'MD' 'SK' 'TR'\n",
            " 'AO' 'CU' 'GQ' 'EG' 'ZA' 'DK' 'UY' 'GE' 'TH' 'DZ' 'LB' 'JP' 'NG' 'PK'\n",
            " 'TN' 'TG' 'KR' 'GH' 'RS' 'VN' 'PH' 'KW' 'NZ' 'MM' 'KH' 'GI' 'SL' 'GN'\n",
            " 'GW' 'OM' 'CG' 'LV' 'LT' 'ML' 'MK' 'HU' 'IS' 'LY' 'CF' 'GM' 'KZ' 'CD'\n",
            " 'BZ']\n",
            "sexo : ['H' 'V']\n",
            "cust_relation_type : ['A' 'I' 'P']\n",
            "residence_index : ['Yes' 'No']\n",
            "foreigner_index : ['No' 'Yes']\n",
            "channel : ['KHL' 'KHE' 'KHD' 'KFA' 'KFC' 'KAT' 'KAZ' 'RED' 'KHC' 'KHK' 'KGN' 'KHM'\n",
            " 'KHO' 'KDH' 'KEH' 'KAD' 'KBG' 'KGC' 'KHF' 'KFK' 'KHN' 'KHA' 'KAF' 'KGX'\n",
            " 'KFD' 'KAG' 'KFG' 'KAB' 'KCC' 'KAE' 'KAH' 'KAR' 'KFJ' 'KFL' 'KAI' 'KFU'\n",
            " 'KAQ' 'KFS' 'KAA' 'KFP' 'KAJ' 'KFN' 'KGV' 'KGY' 'KFF' 'KAP' 'KDE' 'KFV'\n",
            " '13' 'K00' 'KAK' 'KCK' 'KCL' 'KAY' 'KBU' 'KDR' 'KAC' 'KDT' 'KCG' 'KDO'\n",
            " 'KDY' 'KBQ' 'KDA' 'KBO' 'KCI' 'KEC' 'KBZ' 'KES' 'KDX' 'KAS' '7' 'KEU'\n",
            " 'KCA' 'KAL' 'KDC' 'KAW' 'KCS' 'KCB' 'KDU' 'KDQ' 'KCN' 'KCM' '4' 'KCH'\n",
            " 'KCD' 'KCE' 'KEV' 'KBL' 'KEA' 'KBH' 'KDV' 'KFT' 'KEY' 'KAO' 'KEJ' 'KEO'\n",
            " 'KEI' 'KEW' 'KDZ' 'KBV' 'KBR' 'KBF' 'KDP' 'KCO' 'KCF' 'KCV' 'KAM' 'KEZ'\n",
            " 'KBD' 'KAN' 'KBY' 'KCT' 'KDD' 'KBW' 'KCU' 'KBX' 'KDB' 'KBS' 'KBE' 'KCX'\n",
            " 'KBP' 'KBN' 'KEB' 'KDS' 'KEL' 'KDG' 'KDF' 'KEF' 'KCP' 'KDM' 'KBB' 'KDW'\n",
            " 'KBJ' 'KFI' 'KBM' 'KEG' 'KEN' 'KEQ' 'KAV' 'KFH' 'KFM' 'KAU' 'KED' 'KFR'\n",
            " 'KEK' 'KFB' 'KGW' 'KFE' 'KGU' 'KDI' 'KDN' 'KEE' 'KCR' 'KCQ' 'KEM' 'KCJ']\n",
            "deceased_index : ['N' 'S']\n",
            "addres_type : ['1']\n",
            "cod_prov : ['29' '13' '50' '45' '24' '20' '10' '17' '49' '8' '37' '9' '22' '31' '5'\n",
            " '40' '27' '25' '28' '3' '42' '41' '39' '7' '47' '36' '46' '44' '15' '32'\n",
            " '23' '16' '48' '12' '26' '2' '6' '30' '11' '4' '19' '34' '35' '14' '21'\n",
            " '18' '33' '38' '52' '43' '1' '51']\n",
            "province_name : ['MALAGA' 'CIUDAD REAL' 'ZARAGOZA' 'TOLEDO' 'LEON' 'GIPUZKOA' 'CACERES'\n",
            " 'GIRONA' 'ZAMORA' 'BARCELONA' 'SALAMANCA' 'BURGOS' 'HUESCA' 'NAVARRA'\n",
            " 'AVILA' 'SEGOVIA' 'LUGO' 'LERIDA' 'MADRID' 'ALICANTE' 'SORIA' 'SEVILLA'\n",
            " 'CANTABRIA' 'BALEARS' 'VALLADOLID' 'PONTEVEDRA' 'VALENCIA' 'TERUEL'\n",
            " 'CORUA' 'OURENSE' 'JAEN' 'CUENCA' 'BIZKAIA' 'CASTELLON' 'RIOJA'\n",
            " 'ALBACETE' 'BADAJOZ' 'MURCIA' 'CADIZ' 'ALMERIA' 'GUADALAJARA' 'PALENCIA'\n",
            " 'PALMAS' 'CORDOBA' 'HUELVA' 'GRANADA' 'ASTURIAS' 'SANTA CRUZ DE TENERIFE'\n",
            " 'MELILLA' 'TARRAGONA' 'ALAVA' 'CEUTA']\n"
          ]
        }
      ]
    },
    {
      "cell_type": "code",
      "source": [
        "data.describe().T"
      ],
      "metadata": {
        "colab": {
          "base_uri": "https://localhost:8080/",
          "height": 1000
        },
        "id": "nyFYI_KG3ooY",
        "outputId": "09beae49-fc0b-43cc-ea04-2f937a2e76d1"
      },
      "execution_count": 77,
      "outputs": [
        {
          "output_type": "execute_result",
          "data": {
            "text/plain": [
              "                          count           mean            std       min  \\\n",
              "ıd                    1000000.0  499999.500000  288675.278932       0.0   \n",
              "cust_code             1000000.0  690596.670395  404408.432011   15889.0   \n",
              "age                   1000000.0      43.266717      17.065626       2.0   \n",
              "new_cust_ındex        1000000.0       0.000496       0.022266       0.0   \n",
              "cust_seniority        1000000.0      93.092962    2001.260509 -999999.0   \n",
              "primary_cust          1000000.0       1.109172       3.269090       1.0   \n",
              "cust_type             1000000.0       1.000088       0.013191       1.0   \n",
              "activity_index        1000000.0       0.565418       0.495702       0.0   \n",
              "gross_income          1000000.0  139104.125364  229305.904318    1202.0   \n",
              "save_account          1000000.0       0.000177       0.013303       0.0   \n",
              "current_account       1000000.0       0.749626       0.433229       0.0   \n",
              "derivada_account      1000000.0       0.000591       0.024303       0.0   \n",
              "payroll_account       1000000.0       0.105296       0.306935       0.0   \n",
              "junior_account        1000000.0       0.013623       0.115920       0.0   \n",
              "mas_particu_account   1000000.0       0.009894       0.098975       0.0   \n",
              "particu_account       1000000.0       0.212486       0.409067       0.0   \n",
              "particu_plus_account  1000000.0       0.072079       0.258619       0.0   \n",
              "short_term_deposit    1000000.0       0.002158       0.046404       0.0   \n",
              "medium_term_deposit   1000000.0       0.003150       0.056036       0.0   \n",
              "long_term_deposit     1000000.0       0.066881       0.249816       0.0   \n",
              "e_account             1000000.0       0.106267       0.308179       0.0   \n",
              "funds                 1000000.0       0.027182       0.162614       0.0   \n",
              "mortgage              1000000.0       0.009982       0.099410       0.0   \n",
              "pensions              1000000.0       0.014553       0.119755       0.0   \n",
              "loans                 1000000.0       0.004661       0.068112       0.0   \n",
              "taxes                 1000000.0       0.072581       0.259448       0.0   \n",
              "credit_card           1000000.0       0.066084       0.248429       0.0   \n",
              "securities            1000000.0       0.039378       0.194493       0.0   \n",
              "home_account          1000000.0       0.006442       0.080003       0.0   \n",
              "payroll               1000000.0       0.071693       0.257979       0.0   \n",
              "a_pension             1000000.0       0.079606       0.270682       0.0   \n",
              "direct_debit          1000000.0       0.166275       0.372327       0.0   \n",
              "\n",
              "                            25%       50%         75%         max  \n",
              "ıd                    249999.75  499999.5   749999.25    999999.0  \n",
              "cust_code             336411.00  664476.0  1074511.25   1379131.0  \n",
              "age                       27.00      43.0       53.00       116.0  \n",
              "new_cust_ındex             0.00       0.0        0.00         1.0  \n",
              "cust_seniority            33.00      95.0      156.00       246.0  \n",
              "primary_cust               1.00       1.0        1.00        99.0  \n",
              "cust_type                  1.00       1.0        1.00         3.0  \n",
              "activity_index             0.00       1.0        1.00         1.0  \n",
              "gross_income           73622.75  108048.0   162324.00  28894395.0  \n",
              "save_account               0.00       0.0        0.00         1.0  \n",
              "current_account            0.00       1.0        1.00         1.0  \n",
              "derivada_account           0.00       0.0        0.00         1.0  \n",
              "payroll_account            0.00       0.0        0.00         1.0  \n",
              "junior_account             0.00       0.0        0.00         1.0  \n",
              "mas_particu_account        0.00       0.0        0.00         1.0  \n",
              "particu_account            0.00       0.0        0.00         1.0  \n",
              "particu_plus_account       0.00       0.0        0.00         1.0  \n",
              "short_term_deposit         0.00       0.0        0.00         1.0  \n",
              "medium_term_deposit        0.00       0.0        0.00         1.0  \n",
              "long_term_deposit          0.00       0.0        0.00         1.0  \n",
              "e_account                  0.00       0.0        0.00         1.0  \n",
              "funds                      0.00       0.0        0.00         1.0  \n",
              "mortgage                   0.00       0.0        0.00         1.0  \n",
              "pensions                   0.00       0.0        0.00         1.0  \n",
              "loans                      0.00       0.0        0.00         1.0  \n",
              "taxes                      0.00       0.0        0.00         1.0  \n",
              "credit_card                0.00       0.0        0.00         1.0  \n",
              "securities                 0.00       0.0        0.00         1.0  \n",
              "home_account               0.00       0.0        0.00         1.0  \n",
              "payroll                    0.00       0.0        0.00         1.0  \n",
              "a_pension                  0.00       0.0        0.00         1.0  \n",
              "direct_debit               0.00       0.0        0.00         1.0  "
            ],
            "text/html": [
              "\n",
              "  <div id=\"df-43bb652c-159f-4655-8df5-b7f7075a1a7b\">\n",
              "    <div class=\"colab-df-container\">\n",
              "      <div>\n",
              "<style scoped>\n",
              "    .dataframe tbody tr th:only-of-type {\n",
              "        vertical-align: middle;\n",
              "    }\n",
              "\n",
              "    .dataframe tbody tr th {\n",
              "        vertical-align: top;\n",
              "    }\n",
              "\n",
              "    .dataframe thead th {\n",
              "        text-align: right;\n",
              "    }\n",
              "</style>\n",
              "<table border=\"1\" class=\"dataframe\">\n",
              "  <thead>\n",
              "    <tr style=\"text-align: right;\">\n",
              "      <th></th>\n",
              "      <th>count</th>\n",
              "      <th>mean</th>\n",
              "      <th>std</th>\n",
              "      <th>min</th>\n",
              "      <th>25%</th>\n",
              "      <th>50%</th>\n",
              "      <th>75%</th>\n",
              "      <th>max</th>\n",
              "    </tr>\n",
              "  </thead>\n",
              "  <tbody>\n",
              "    <tr>\n",
              "      <th>ıd</th>\n",
              "      <td>1000000.0</td>\n",
              "      <td>499999.500000</td>\n",
              "      <td>288675.278932</td>\n",
              "      <td>0.0</td>\n",
              "      <td>249999.75</td>\n",
              "      <td>499999.5</td>\n",
              "      <td>749999.25</td>\n",
              "      <td>999999.0</td>\n",
              "    </tr>\n",
              "    <tr>\n",
              "      <th>cust_code</th>\n",
              "      <td>1000000.0</td>\n",
              "      <td>690596.670395</td>\n",
              "      <td>404408.432011</td>\n",
              "      <td>15889.0</td>\n",
              "      <td>336411.00</td>\n",
              "      <td>664476.0</td>\n",
              "      <td>1074511.25</td>\n",
              "      <td>1379131.0</td>\n",
              "    </tr>\n",
              "    <tr>\n",
              "      <th>age</th>\n",
              "      <td>1000000.0</td>\n",
              "      <td>43.266717</td>\n",
              "      <td>17.065626</td>\n",
              "      <td>2.0</td>\n",
              "      <td>27.00</td>\n",
              "      <td>43.0</td>\n",
              "      <td>53.00</td>\n",
              "      <td>116.0</td>\n",
              "    </tr>\n",
              "    <tr>\n",
              "      <th>new_cust_ındex</th>\n",
              "      <td>1000000.0</td>\n",
              "      <td>0.000496</td>\n",
              "      <td>0.022266</td>\n",
              "      <td>0.0</td>\n",
              "      <td>0.00</td>\n",
              "      <td>0.0</td>\n",
              "      <td>0.00</td>\n",
              "      <td>1.0</td>\n",
              "    </tr>\n",
              "    <tr>\n",
              "      <th>cust_seniority</th>\n",
              "      <td>1000000.0</td>\n",
              "      <td>93.092962</td>\n",
              "      <td>2001.260509</td>\n",
              "      <td>-999999.0</td>\n",
              "      <td>33.00</td>\n",
              "      <td>95.0</td>\n",
              "      <td>156.00</td>\n",
              "      <td>246.0</td>\n",
              "    </tr>\n",
              "    <tr>\n",
              "      <th>primary_cust</th>\n",
              "      <td>1000000.0</td>\n",
              "      <td>1.109172</td>\n",
              "      <td>3.269090</td>\n",
              "      <td>1.0</td>\n",
              "      <td>1.00</td>\n",
              "      <td>1.0</td>\n",
              "      <td>1.00</td>\n",
              "      <td>99.0</td>\n",
              "    </tr>\n",
              "    <tr>\n",
              "      <th>cust_type</th>\n",
              "      <td>1000000.0</td>\n",
              "      <td>1.000088</td>\n",
              "      <td>0.013191</td>\n",
              "      <td>1.0</td>\n",
              "      <td>1.00</td>\n",
              "      <td>1.0</td>\n",
              "      <td>1.00</td>\n",
              "      <td>3.0</td>\n",
              "    </tr>\n",
              "    <tr>\n",
              "      <th>activity_index</th>\n",
              "      <td>1000000.0</td>\n",
              "      <td>0.565418</td>\n",
              "      <td>0.495702</td>\n",
              "      <td>0.0</td>\n",
              "      <td>0.00</td>\n",
              "      <td>1.0</td>\n",
              "      <td>1.00</td>\n",
              "      <td>1.0</td>\n",
              "    </tr>\n",
              "    <tr>\n",
              "      <th>gross_income</th>\n",
              "      <td>1000000.0</td>\n",
              "      <td>139104.125364</td>\n",
              "      <td>229305.904318</td>\n",
              "      <td>1202.0</td>\n",
              "      <td>73622.75</td>\n",
              "      <td>108048.0</td>\n",
              "      <td>162324.00</td>\n",
              "      <td>28894395.0</td>\n",
              "    </tr>\n",
              "    <tr>\n",
              "      <th>save_account</th>\n",
              "      <td>1000000.0</td>\n",
              "      <td>0.000177</td>\n",
              "      <td>0.013303</td>\n",
              "      <td>0.0</td>\n",
              "      <td>0.00</td>\n",
              "      <td>0.0</td>\n",
              "      <td>0.00</td>\n",
              "      <td>1.0</td>\n",
              "    </tr>\n",
              "    <tr>\n",
              "      <th>current_account</th>\n",
              "      <td>1000000.0</td>\n",
              "      <td>0.749626</td>\n",
              "      <td>0.433229</td>\n",
              "      <td>0.0</td>\n",
              "      <td>0.00</td>\n",
              "      <td>1.0</td>\n",
              "      <td>1.00</td>\n",
              "      <td>1.0</td>\n",
              "    </tr>\n",
              "    <tr>\n",
              "      <th>derivada_account</th>\n",
              "      <td>1000000.0</td>\n",
              "      <td>0.000591</td>\n",
              "      <td>0.024303</td>\n",
              "      <td>0.0</td>\n",
              "      <td>0.00</td>\n",
              "      <td>0.0</td>\n",
              "      <td>0.00</td>\n",
              "      <td>1.0</td>\n",
              "    </tr>\n",
              "    <tr>\n",
              "      <th>payroll_account</th>\n",
              "      <td>1000000.0</td>\n",
              "      <td>0.105296</td>\n",
              "      <td>0.306935</td>\n",
              "      <td>0.0</td>\n",
              "      <td>0.00</td>\n",
              "      <td>0.0</td>\n",
              "      <td>0.00</td>\n",
              "      <td>1.0</td>\n",
              "    </tr>\n",
              "    <tr>\n",
              "      <th>junior_account</th>\n",
              "      <td>1000000.0</td>\n",
              "      <td>0.013623</td>\n",
              "      <td>0.115920</td>\n",
              "      <td>0.0</td>\n",
              "      <td>0.00</td>\n",
              "      <td>0.0</td>\n",
              "      <td>0.00</td>\n",
              "      <td>1.0</td>\n",
              "    </tr>\n",
              "    <tr>\n",
              "      <th>mas_particu_account</th>\n",
              "      <td>1000000.0</td>\n",
              "      <td>0.009894</td>\n",
              "      <td>0.098975</td>\n",
              "      <td>0.0</td>\n",
              "      <td>0.00</td>\n",
              "      <td>0.0</td>\n",
              "      <td>0.00</td>\n",
              "      <td>1.0</td>\n",
              "    </tr>\n",
              "    <tr>\n",
              "      <th>particu_account</th>\n",
              "      <td>1000000.0</td>\n",
              "      <td>0.212486</td>\n",
              "      <td>0.409067</td>\n",
              "      <td>0.0</td>\n",
              "      <td>0.00</td>\n",
              "      <td>0.0</td>\n",
              "      <td>0.00</td>\n",
              "      <td>1.0</td>\n",
              "    </tr>\n",
              "    <tr>\n",
              "      <th>particu_plus_account</th>\n",
              "      <td>1000000.0</td>\n",
              "      <td>0.072079</td>\n",
              "      <td>0.258619</td>\n",
              "      <td>0.0</td>\n",
              "      <td>0.00</td>\n",
              "      <td>0.0</td>\n",
              "      <td>0.00</td>\n",
              "      <td>1.0</td>\n",
              "    </tr>\n",
              "    <tr>\n",
              "      <th>short_term_deposit</th>\n",
              "      <td>1000000.0</td>\n",
              "      <td>0.002158</td>\n",
              "      <td>0.046404</td>\n",
              "      <td>0.0</td>\n",
              "      <td>0.00</td>\n",
              "      <td>0.0</td>\n",
              "      <td>0.00</td>\n",
              "      <td>1.0</td>\n",
              "    </tr>\n",
              "    <tr>\n",
              "      <th>medium_term_deposit</th>\n",
              "      <td>1000000.0</td>\n",
              "      <td>0.003150</td>\n",
              "      <td>0.056036</td>\n",
              "      <td>0.0</td>\n",
              "      <td>0.00</td>\n",
              "      <td>0.0</td>\n",
              "      <td>0.00</td>\n",
              "      <td>1.0</td>\n",
              "    </tr>\n",
              "    <tr>\n",
              "      <th>long_term_deposit</th>\n",
              "      <td>1000000.0</td>\n",
              "      <td>0.066881</td>\n",
              "      <td>0.249816</td>\n",
              "      <td>0.0</td>\n",
              "      <td>0.00</td>\n",
              "      <td>0.0</td>\n",
              "      <td>0.00</td>\n",
              "      <td>1.0</td>\n",
              "    </tr>\n",
              "    <tr>\n",
              "      <th>e_account</th>\n",
              "      <td>1000000.0</td>\n",
              "      <td>0.106267</td>\n",
              "      <td>0.308179</td>\n",
              "      <td>0.0</td>\n",
              "      <td>0.00</td>\n",
              "      <td>0.0</td>\n",
              "      <td>0.00</td>\n",
              "      <td>1.0</td>\n",
              "    </tr>\n",
              "    <tr>\n",
              "      <th>funds</th>\n",
              "      <td>1000000.0</td>\n",
              "      <td>0.027182</td>\n",
              "      <td>0.162614</td>\n",
              "      <td>0.0</td>\n",
              "      <td>0.00</td>\n",
              "      <td>0.0</td>\n",
              "      <td>0.00</td>\n",
              "      <td>1.0</td>\n",
              "    </tr>\n",
              "    <tr>\n",
              "      <th>mortgage</th>\n",
              "      <td>1000000.0</td>\n",
              "      <td>0.009982</td>\n",
              "      <td>0.099410</td>\n",
              "      <td>0.0</td>\n",
              "      <td>0.00</td>\n",
              "      <td>0.0</td>\n",
              "      <td>0.00</td>\n",
              "      <td>1.0</td>\n",
              "    </tr>\n",
              "    <tr>\n",
              "      <th>pensions</th>\n",
              "      <td>1000000.0</td>\n",
              "      <td>0.014553</td>\n",
              "      <td>0.119755</td>\n",
              "      <td>0.0</td>\n",
              "      <td>0.00</td>\n",
              "      <td>0.0</td>\n",
              "      <td>0.00</td>\n",
              "      <td>1.0</td>\n",
              "    </tr>\n",
              "    <tr>\n",
              "      <th>loans</th>\n",
              "      <td>1000000.0</td>\n",
              "      <td>0.004661</td>\n",
              "      <td>0.068112</td>\n",
              "      <td>0.0</td>\n",
              "      <td>0.00</td>\n",
              "      <td>0.0</td>\n",
              "      <td>0.00</td>\n",
              "      <td>1.0</td>\n",
              "    </tr>\n",
              "    <tr>\n",
              "      <th>taxes</th>\n",
              "      <td>1000000.0</td>\n",
              "      <td>0.072581</td>\n",
              "      <td>0.259448</td>\n",
              "      <td>0.0</td>\n",
              "      <td>0.00</td>\n",
              "      <td>0.0</td>\n",
              "      <td>0.00</td>\n",
              "      <td>1.0</td>\n",
              "    </tr>\n",
              "    <tr>\n",
              "      <th>credit_card</th>\n",
              "      <td>1000000.0</td>\n",
              "      <td>0.066084</td>\n",
              "      <td>0.248429</td>\n",
              "      <td>0.0</td>\n",
              "      <td>0.00</td>\n",
              "      <td>0.0</td>\n",
              "      <td>0.00</td>\n",
              "      <td>1.0</td>\n",
              "    </tr>\n",
              "    <tr>\n",
              "      <th>securities</th>\n",
              "      <td>1000000.0</td>\n",
              "      <td>0.039378</td>\n",
              "      <td>0.194493</td>\n",
              "      <td>0.0</td>\n",
              "      <td>0.00</td>\n",
              "      <td>0.0</td>\n",
              "      <td>0.00</td>\n",
              "      <td>1.0</td>\n",
              "    </tr>\n",
              "    <tr>\n",
              "      <th>home_account</th>\n",
              "      <td>1000000.0</td>\n",
              "      <td>0.006442</td>\n",
              "      <td>0.080003</td>\n",
              "      <td>0.0</td>\n",
              "      <td>0.00</td>\n",
              "      <td>0.0</td>\n",
              "      <td>0.00</td>\n",
              "      <td>1.0</td>\n",
              "    </tr>\n",
              "    <tr>\n",
              "      <th>payroll</th>\n",
              "      <td>1000000.0</td>\n",
              "      <td>0.071693</td>\n",
              "      <td>0.257979</td>\n",
              "      <td>0.0</td>\n",
              "      <td>0.00</td>\n",
              "      <td>0.0</td>\n",
              "      <td>0.00</td>\n",
              "      <td>1.0</td>\n",
              "    </tr>\n",
              "    <tr>\n",
              "      <th>a_pension</th>\n",
              "      <td>1000000.0</td>\n",
              "      <td>0.079606</td>\n",
              "      <td>0.270682</td>\n",
              "      <td>0.0</td>\n",
              "      <td>0.00</td>\n",
              "      <td>0.0</td>\n",
              "      <td>0.00</td>\n",
              "      <td>1.0</td>\n",
              "    </tr>\n",
              "    <tr>\n",
              "      <th>direct_debit</th>\n",
              "      <td>1000000.0</td>\n",
              "      <td>0.166275</td>\n",
              "      <td>0.372327</td>\n",
              "      <td>0.0</td>\n",
              "      <td>0.00</td>\n",
              "      <td>0.0</td>\n",
              "      <td>0.00</td>\n",
              "      <td>1.0</td>\n",
              "    </tr>\n",
              "  </tbody>\n",
              "</table>\n",
              "</div>\n",
              "      <button class=\"colab-df-convert\" onclick=\"convertToInteractive('df-43bb652c-159f-4655-8df5-b7f7075a1a7b')\"\n",
              "              title=\"Convert this dataframe to an interactive table.\"\n",
              "              style=\"display:none;\">\n",
              "        \n",
              "  <svg xmlns=\"http://www.w3.org/2000/svg\" height=\"24px\"viewBox=\"0 0 24 24\"\n",
              "       width=\"24px\">\n",
              "    <path d=\"M0 0h24v24H0V0z\" fill=\"none\"/>\n",
              "    <path d=\"M18.56 5.44l.94 2.06.94-2.06 2.06-.94-2.06-.94-.94-2.06-.94 2.06-2.06.94zm-11 1L8.5 8.5l.94-2.06 2.06-.94-2.06-.94L8.5 2.5l-.94 2.06-2.06.94zm10 10l.94 2.06.94-2.06 2.06-.94-2.06-.94-.94-2.06-.94 2.06-2.06.94z\"/><path d=\"M17.41 7.96l-1.37-1.37c-.4-.4-.92-.59-1.43-.59-.52 0-1.04.2-1.43.59L10.3 9.45l-7.72 7.72c-.78.78-.78 2.05 0 2.83L4 21.41c.39.39.9.59 1.41.59.51 0 1.02-.2 1.41-.59l7.78-7.78 2.81-2.81c.8-.78.8-2.07 0-2.86zM5.41 20L4 18.59l7.72-7.72 1.47 1.35L5.41 20z\"/>\n",
              "  </svg>\n",
              "      </button>\n",
              "      \n",
              "  <style>\n",
              "    .colab-df-container {\n",
              "      display:flex;\n",
              "      flex-wrap:wrap;\n",
              "      gap: 12px;\n",
              "    }\n",
              "\n",
              "    .colab-df-convert {\n",
              "      background-color: #E8F0FE;\n",
              "      border: none;\n",
              "      border-radius: 50%;\n",
              "      cursor: pointer;\n",
              "      display: none;\n",
              "      fill: #1967D2;\n",
              "      height: 32px;\n",
              "      padding: 0 0 0 0;\n",
              "      width: 32px;\n",
              "    }\n",
              "\n",
              "    .colab-df-convert:hover {\n",
              "      background-color: #E2EBFA;\n",
              "      box-shadow: 0px 1px 2px rgba(60, 64, 67, 0.3), 0px 1px 3px 1px rgba(60, 64, 67, 0.15);\n",
              "      fill: #174EA6;\n",
              "    }\n",
              "\n",
              "    [theme=dark] .colab-df-convert {\n",
              "      background-color: #3B4455;\n",
              "      fill: #D2E3FC;\n",
              "    }\n",
              "\n",
              "    [theme=dark] .colab-df-convert:hover {\n",
              "      background-color: #434B5C;\n",
              "      box-shadow: 0px 1px 3px 1px rgba(0, 0, 0, 0.15);\n",
              "      filter: drop-shadow(0px 1px 2px rgba(0, 0, 0, 0.3));\n",
              "      fill: #FFFFFF;\n",
              "    }\n",
              "  </style>\n",
              "\n",
              "      <script>\n",
              "        const buttonEl =\n",
              "          document.querySelector('#df-43bb652c-159f-4655-8df5-b7f7075a1a7b button.colab-df-convert');\n",
              "        buttonEl.style.display =\n",
              "          google.colab.kernel.accessAllowed ? 'block' : 'none';\n",
              "\n",
              "        async function convertToInteractive(key) {\n",
              "          const element = document.querySelector('#df-43bb652c-159f-4655-8df5-b7f7075a1a7b');\n",
              "          const dataTable =\n",
              "            await google.colab.kernel.invokeFunction('convertToInteractive',\n",
              "                                                     [key], {});\n",
              "          if (!dataTable) return;\n",
              "\n",
              "          const docLinkHtml = 'Like what you see? Visit the ' +\n",
              "            '<a target=\"_blank\" href=https://colab.research.google.com/notebooks/data_table.ipynb>data table notebook</a>'\n",
              "            + ' to learn more about interactive tables.';\n",
              "          element.innerHTML = '';\n",
              "          dataTable['output_type'] = 'display_data';\n",
              "          await google.colab.output.renderOutput(dataTable, element);\n",
              "          const docLink = document.createElement('div');\n",
              "          docLink.innerHTML = docLinkHtml;\n",
              "          element.appendChild(docLink);\n",
              "        }\n",
              "      </script>\n",
              "    </div>\n",
              "  </div>\n",
              "  "
            ]
          },
          "metadata": {},
          "execution_count": 77
        }
      ]
    }
  ],
  "metadata": {
    "colab": {
      "provenance": []
    },
    "kernelspec": {
      "display_name": "Python 3",
      "name": "python3"
    },
    "language_info": {
      "name": "python"
    }
  },
  "nbformat": 4,
  "nbformat_minor": 0
}