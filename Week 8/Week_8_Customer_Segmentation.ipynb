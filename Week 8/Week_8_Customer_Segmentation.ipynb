{
  "cells": [
    {
      "cell_type": "markdown",
      "metadata": {
        "id": "NMZS4liDB2lj"
      },
      "source": [
        "# **Customer Segmentation**\n",
        "**Problem Statement:** XYZ bank wants to roll out Christmas offers to their customers. But Bank does not want to roll out same offer to all customers  instead they want to roll out personalized offer to particular set of customers. If they manually start understanding the category of customer then this will be not efficient and also they will not be able to uncover the hidden pattern in the data ( pattern which group certain kind of customer in one category). Bank approached ABC analytics company to solve their problem. Bank also shared information with ABC analytics that they don't want more than 5 group as this will be inefficient for their campaign.\n",
        "\n",
        "**ML Problem:** ABC analytics proposed customer segmentation approach to Bank.\n",
        "\n",
        "ABC analytics assigned this talk to their analytics team and instructed their team to come up with the approach and feature which group similar behavior customer in one category and others in different category\n",
        "\n"
      ]
    },
    {
      "cell_type": "code",
      "execution_count": 7,
      "metadata": {
        "id": "92P49iaN6g2R"
      },
      "outputs": [],
      "source": [
        "import numpy as np\n",
        "import pandas as pd\n",
        "import seaborn as sns\n",
        "import matplotlib.pyplot as plt"
      ]
    },
    {
      "cell_type": "code",
      "execution_count": 8,
      "metadata": {
        "id": "I5ctr441-Yst"
      },
      "outputs": [],
      "source": [
        "data=pd.read_csv('custt_seg.csv',sep=',',index_col=False,dtype='unicode')"
      ]
    },
    {
      "cell_type": "markdown",
      "metadata": {
        "id": "5F3C3Kfm_ubW"
      },
      "source": [
        "**Week 8: Data understanding(number of NA values, outliers , skewed etc)**\n",
        "\n",
        "*   changing some column names\n",
        "*   fixing incorret data types\n",
        "*   outliers detection and treatment"
      ]
    },
    {
      "cell_type": "code",
      "execution_count": 9,
      "metadata": {
        "colab": {
          "base_uri": "https://localhost:8080/",
          "height": 461
        },
        "id": "5pES6YUBCZm5",
        "outputId": "19dba6d1-55d5-4b43-ae1c-9762b8e7e5e7"
      },
      "outputs": [
        {
          "output_type": "execute_result",
          "data": {
            "text/plain": [
              "       Unnamed: 0  fecha_dato ncodpers ind_empleado pais_residencia sexo age  \\\n",
              "0               0  28.01.2015  1375586            N              ES    H  35   \n",
              "1               1  28.01.2015  1050611            N              ES    V  23   \n",
              "2               2  28.01.2015  1050612            N              ES    V  23   \n",
              "3               3  28.01.2015  1050613            N              ES    H  22   \n",
              "4               4  28.01.2015  1050614            N              ES    V  23   \n",
              "...           ...         ...      ...          ...             ...  ...  ..   \n",
              "999995     999995  28.02.2015  1183296            N              ES    H  27   \n",
              "999996     999996  28.02.2015  1183295            N              ES    H  56   \n",
              "999997     999997  28.02.2015  1183294            N              ES    V  39   \n",
              "999998     999998  28.02.2015  1183293            N              ES    V  36   \n",
              "999999     999999  28.02.2015  1183289            N              ES    H  38   \n",
              "\n",
              "        fecha_alta ind_nuevo antiguedad  ... ind_hip_fin_ult1  \\\n",
              "0       12.01.2015         0          6  ...                0   \n",
              "1       10.08.2012         0         35  ...                0   \n",
              "2       10.08.2012         0         35  ...                0   \n",
              "3       10.08.2012         0         35  ...                0   \n",
              "4       10.08.2012         0         35  ...                0   \n",
              "...            ...       ...        ...  ...              ...   \n",
              "999995  25.09.2013         0         22  ...                0   \n",
              "999996  25.09.2013         0         22  ...                0   \n",
              "999997  25.09.2013         0         22  ...                0   \n",
              "999998  25.09.2013         0         22  ...                0   \n",
              "999999  25.09.2013         0         22  ...                0   \n",
              "\n",
              "       ind_plan_fin_ult1 ind_pres_fin_ult1 ind_reca_fin_ult1  \\\n",
              "0                      0                 0                 0   \n",
              "1                      0                 0                 0   \n",
              "2                      0                 0                 0   \n",
              "3                      0                 0                 0   \n",
              "4                      0                 0                 0   \n",
              "...                  ...               ...               ...   \n",
              "999995                 0                 0                 0   \n",
              "999996                 0                 0                 0   \n",
              "999997                 0                 0                 0   \n",
              "999998                 0                 0                 0   \n",
              "999999                 0                 0                 0   \n",
              "\n",
              "       ind_tjcr_fin_ult1 ind_valo_fin_ult1 ind_viv_fin_ult1 ind_nomina_ult1  \\\n",
              "0                      0                 0                0               0   \n",
              "1                      0                 0                0               0   \n",
              "2                      0                 0                0               0   \n",
              "3                      0                 0                0               0   \n",
              "4                      0                 0                0               0   \n",
              "...                  ...               ...              ...             ...   \n",
              "999995                 0                 0                0               0   \n",
              "999996                 0                 0                0               0   \n",
              "999997                 0                 0                0               0   \n",
              "999998                 0                 0                0               0   \n",
              "999999                 0                 0                0               0   \n",
              "\n",
              "       ind_nom_pens_ult1 ind_recibo_ult1  \n",
              "0                      0               0  \n",
              "1                      0               0  \n",
              "2                      0               0  \n",
              "3                      0               0  \n",
              "4                      0               0  \n",
              "...                  ...             ...  \n",
              "999995                 0               1  \n",
              "999996                 0               0  \n",
              "999997                 0               1  \n",
              "999998                 0               1  \n",
              "999999                 0               1  \n",
              "\n",
              "[1000000 rows x 48 columns]"
            ],
            "text/html": [
              "\n",
              "  <div id=\"df-c47ff9e7-3414-4d94-8504-c3c6d1dc2d33\" class=\"colab-df-container\">\n",
              "    <div>\n",
              "<style scoped>\n",
              "    .dataframe tbody tr th:only-of-type {\n",
              "        vertical-align: middle;\n",
              "    }\n",
              "\n",
              "    .dataframe tbody tr th {\n",
              "        vertical-align: top;\n",
              "    }\n",
              "\n",
              "    .dataframe thead th {\n",
              "        text-align: right;\n",
              "    }\n",
              "</style>\n",
              "<table border=\"1\" class=\"dataframe\">\n",
              "  <thead>\n",
              "    <tr style=\"text-align: right;\">\n",
              "      <th></th>\n",
              "      <th>Unnamed: 0</th>\n",
              "      <th>fecha_dato</th>\n",
              "      <th>ncodpers</th>\n",
              "      <th>ind_empleado</th>\n",
              "      <th>pais_residencia</th>\n",
              "      <th>sexo</th>\n",
              "      <th>age</th>\n",
              "      <th>fecha_alta</th>\n",
              "      <th>ind_nuevo</th>\n",
              "      <th>antiguedad</th>\n",
              "      <th>...</th>\n",
              "      <th>ind_hip_fin_ult1</th>\n",
              "      <th>ind_plan_fin_ult1</th>\n",
              "      <th>ind_pres_fin_ult1</th>\n",
              "      <th>ind_reca_fin_ult1</th>\n",
              "      <th>ind_tjcr_fin_ult1</th>\n",
              "      <th>ind_valo_fin_ult1</th>\n",
              "      <th>ind_viv_fin_ult1</th>\n",
              "      <th>ind_nomina_ult1</th>\n",
              "      <th>ind_nom_pens_ult1</th>\n",
              "      <th>ind_recibo_ult1</th>\n",
              "    </tr>\n",
              "  </thead>\n",
              "  <tbody>\n",
              "    <tr>\n",
              "      <th>0</th>\n",
              "      <td>0</td>\n",
              "      <td>28.01.2015</td>\n",
              "      <td>1375586</td>\n",
              "      <td>N</td>\n",
              "      <td>ES</td>\n",
              "      <td>H</td>\n",
              "      <td>35</td>\n",
              "      <td>12.01.2015</td>\n",
              "      <td>0</td>\n",
              "      <td>6</td>\n",
              "      <td>...</td>\n",
              "      <td>0</td>\n",
              "      <td>0</td>\n",
              "      <td>0</td>\n",
              "      <td>0</td>\n",
              "      <td>0</td>\n",
              "      <td>0</td>\n",
              "      <td>0</td>\n",
              "      <td>0</td>\n",
              "      <td>0</td>\n",
              "      <td>0</td>\n",
              "    </tr>\n",
              "    <tr>\n",
              "      <th>1</th>\n",
              "      <td>1</td>\n",
              "      <td>28.01.2015</td>\n",
              "      <td>1050611</td>\n",
              "      <td>N</td>\n",
              "      <td>ES</td>\n",
              "      <td>V</td>\n",
              "      <td>23</td>\n",
              "      <td>10.08.2012</td>\n",
              "      <td>0</td>\n",
              "      <td>35</td>\n",
              "      <td>...</td>\n",
              "      <td>0</td>\n",
              "      <td>0</td>\n",
              "      <td>0</td>\n",
              "      <td>0</td>\n",
              "      <td>0</td>\n",
              "      <td>0</td>\n",
              "      <td>0</td>\n",
              "      <td>0</td>\n",
              "      <td>0</td>\n",
              "      <td>0</td>\n",
              "    </tr>\n",
              "    <tr>\n",
              "      <th>2</th>\n",
              "      <td>2</td>\n",
              "      <td>28.01.2015</td>\n",
              "      <td>1050612</td>\n",
              "      <td>N</td>\n",
              "      <td>ES</td>\n",
              "      <td>V</td>\n",
              "      <td>23</td>\n",
              "      <td>10.08.2012</td>\n",
              "      <td>0</td>\n",
              "      <td>35</td>\n",
              "      <td>...</td>\n",
              "      <td>0</td>\n",
              "      <td>0</td>\n",
              "      <td>0</td>\n",
              "      <td>0</td>\n",
              "      <td>0</td>\n",
              "      <td>0</td>\n",
              "      <td>0</td>\n",
              "      <td>0</td>\n",
              "      <td>0</td>\n",
              "      <td>0</td>\n",
              "    </tr>\n",
              "    <tr>\n",
              "      <th>3</th>\n",
              "      <td>3</td>\n",
              "      <td>28.01.2015</td>\n",
              "      <td>1050613</td>\n",
              "      <td>N</td>\n",
              "      <td>ES</td>\n",
              "      <td>H</td>\n",
              "      <td>22</td>\n",
              "      <td>10.08.2012</td>\n",
              "      <td>0</td>\n",
              "      <td>35</td>\n",
              "      <td>...</td>\n",
              "      <td>0</td>\n",
              "      <td>0</td>\n",
              "      <td>0</td>\n",
              "      <td>0</td>\n",
              "      <td>0</td>\n",
              "      <td>0</td>\n",
              "      <td>0</td>\n",
              "      <td>0</td>\n",
              "      <td>0</td>\n",
              "      <td>0</td>\n",
              "    </tr>\n",
              "    <tr>\n",
              "      <th>4</th>\n",
              "      <td>4</td>\n",
              "      <td>28.01.2015</td>\n",
              "      <td>1050614</td>\n",
              "      <td>N</td>\n",
              "      <td>ES</td>\n",
              "      <td>V</td>\n",
              "      <td>23</td>\n",
              "      <td>10.08.2012</td>\n",
              "      <td>0</td>\n",
              "      <td>35</td>\n",
              "      <td>...</td>\n",
              "      <td>0</td>\n",
              "      <td>0</td>\n",
              "      <td>0</td>\n",
              "      <td>0</td>\n",
              "      <td>0</td>\n",
              "      <td>0</td>\n",
              "      <td>0</td>\n",
              "      <td>0</td>\n",
              "      <td>0</td>\n",
              "      <td>0</td>\n",
              "    </tr>\n",
              "    <tr>\n",
              "      <th>...</th>\n",
              "      <td>...</td>\n",
              "      <td>...</td>\n",
              "      <td>...</td>\n",
              "      <td>...</td>\n",
              "      <td>...</td>\n",
              "      <td>...</td>\n",
              "      <td>...</td>\n",
              "      <td>...</td>\n",
              "      <td>...</td>\n",
              "      <td>...</td>\n",
              "      <td>...</td>\n",
              "      <td>...</td>\n",
              "      <td>...</td>\n",
              "      <td>...</td>\n",
              "      <td>...</td>\n",
              "      <td>...</td>\n",
              "      <td>...</td>\n",
              "      <td>...</td>\n",
              "      <td>...</td>\n",
              "      <td>...</td>\n",
              "      <td>...</td>\n",
              "    </tr>\n",
              "    <tr>\n",
              "      <th>999995</th>\n",
              "      <td>999995</td>\n",
              "      <td>28.02.2015</td>\n",
              "      <td>1183296</td>\n",
              "      <td>N</td>\n",
              "      <td>ES</td>\n",
              "      <td>H</td>\n",
              "      <td>27</td>\n",
              "      <td>25.09.2013</td>\n",
              "      <td>0</td>\n",
              "      <td>22</td>\n",
              "      <td>...</td>\n",
              "      <td>0</td>\n",
              "      <td>0</td>\n",
              "      <td>0</td>\n",
              "      <td>0</td>\n",
              "      <td>0</td>\n",
              "      <td>0</td>\n",
              "      <td>0</td>\n",
              "      <td>0</td>\n",
              "      <td>0</td>\n",
              "      <td>1</td>\n",
              "    </tr>\n",
              "    <tr>\n",
              "      <th>999996</th>\n",
              "      <td>999996</td>\n",
              "      <td>28.02.2015</td>\n",
              "      <td>1183295</td>\n",
              "      <td>N</td>\n",
              "      <td>ES</td>\n",
              "      <td>H</td>\n",
              "      <td>56</td>\n",
              "      <td>25.09.2013</td>\n",
              "      <td>0</td>\n",
              "      <td>22</td>\n",
              "      <td>...</td>\n",
              "      <td>0</td>\n",
              "      <td>0</td>\n",
              "      <td>0</td>\n",
              "      <td>0</td>\n",
              "      <td>0</td>\n",
              "      <td>0</td>\n",
              "      <td>0</td>\n",
              "      <td>0</td>\n",
              "      <td>0</td>\n",
              "      <td>0</td>\n",
              "    </tr>\n",
              "    <tr>\n",
              "      <th>999997</th>\n",
              "      <td>999997</td>\n",
              "      <td>28.02.2015</td>\n",
              "      <td>1183294</td>\n",
              "      <td>N</td>\n",
              "      <td>ES</td>\n",
              "      <td>V</td>\n",
              "      <td>39</td>\n",
              "      <td>25.09.2013</td>\n",
              "      <td>0</td>\n",
              "      <td>22</td>\n",
              "      <td>...</td>\n",
              "      <td>0</td>\n",
              "      <td>0</td>\n",
              "      <td>0</td>\n",
              "      <td>0</td>\n",
              "      <td>0</td>\n",
              "      <td>0</td>\n",
              "      <td>0</td>\n",
              "      <td>0</td>\n",
              "      <td>0</td>\n",
              "      <td>1</td>\n",
              "    </tr>\n",
              "    <tr>\n",
              "      <th>999998</th>\n",
              "      <td>999998</td>\n",
              "      <td>28.02.2015</td>\n",
              "      <td>1183293</td>\n",
              "      <td>N</td>\n",
              "      <td>ES</td>\n",
              "      <td>V</td>\n",
              "      <td>36</td>\n",
              "      <td>25.09.2013</td>\n",
              "      <td>0</td>\n",
              "      <td>22</td>\n",
              "      <td>...</td>\n",
              "      <td>0</td>\n",
              "      <td>0</td>\n",
              "      <td>0</td>\n",
              "      <td>0</td>\n",
              "      <td>0</td>\n",
              "      <td>0</td>\n",
              "      <td>0</td>\n",
              "      <td>0</td>\n",
              "      <td>0</td>\n",
              "      <td>1</td>\n",
              "    </tr>\n",
              "    <tr>\n",
              "      <th>999999</th>\n",
              "      <td>999999</td>\n",
              "      <td>28.02.2015</td>\n",
              "      <td>1183289</td>\n",
              "      <td>N</td>\n",
              "      <td>ES</td>\n",
              "      <td>H</td>\n",
              "      <td>38</td>\n",
              "      <td>25.09.2013</td>\n",
              "      <td>0</td>\n",
              "      <td>22</td>\n",
              "      <td>...</td>\n",
              "      <td>0</td>\n",
              "      <td>0</td>\n",
              "      <td>0</td>\n",
              "      <td>0</td>\n",
              "      <td>0</td>\n",
              "      <td>0</td>\n",
              "      <td>0</td>\n",
              "      <td>0</td>\n",
              "      <td>0</td>\n",
              "      <td>1</td>\n",
              "    </tr>\n",
              "  </tbody>\n",
              "</table>\n",
              "<p>1000000 rows × 48 columns</p>\n",
              "</div>\n",
              "    <div class=\"colab-df-buttons\">\n",
              "\n",
              "  <div class=\"colab-df-container\">\n",
              "    <button class=\"colab-df-convert\" onclick=\"convertToInteractive('df-c47ff9e7-3414-4d94-8504-c3c6d1dc2d33')\"\n",
              "            title=\"Convert this dataframe to an interactive table.\"\n",
              "            style=\"display:none;\">\n",
              "\n",
              "  <svg xmlns=\"http://www.w3.org/2000/svg\" height=\"24px\" viewBox=\"0 -960 960 960\">\n",
              "    <path d=\"M120-120v-720h720v720H120Zm60-500h600v-160H180v160Zm220 220h160v-160H400v160Zm0 220h160v-160H400v160ZM180-400h160v-160H180v160Zm440 0h160v-160H620v160ZM180-180h160v-160H180v160Zm440 0h160v-160H620v160Z\"/>\n",
              "  </svg>\n",
              "    </button>\n",
              "\n",
              "  <style>\n",
              "    .colab-df-container {\n",
              "      display:flex;\n",
              "      gap: 12px;\n",
              "    }\n",
              "\n",
              "    .colab-df-convert {\n",
              "      background-color: #E8F0FE;\n",
              "      border: none;\n",
              "      border-radius: 50%;\n",
              "      cursor: pointer;\n",
              "      display: none;\n",
              "      fill: #1967D2;\n",
              "      height: 32px;\n",
              "      padding: 0 0 0 0;\n",
              "      width: 32px;\n",
              "    }\n",
              "\n",
              "    .colab-df-convert:hover {\n",
              "      background-color: #E2EBFA;\n",
              "      box-shadow: 0px 1px 2px rgba(60, 64, 67, 0.3), 0px 1px 3px 1px rgba(60, 64, 67, 0.15);\n",
              "      fill: #174EA6;\n",
              "    }\n",
              "\n",
              "    .colab-df-buttons div {\n",
              "      margin-bottom: 4px;\n",
              "    }\n",
              "\n",
              "    [theme=dark] .colab-df-convert {\n",
              "      background-color: #3B4455;\n",
              "      fill: #D2E3FC;\n",
              "    }\n",
              "\n",
              "    [theme=dark] .colab-df-convert:hover {\n",
              "      background-color: #434B5C;\n",
              "      box-shadow: 0px 1px 3px 1px rgba(0, 0, 0, 0.15);\n",
              "      filter: drop-shadow(0px 1px 2px rgba(0, 0, 0, 0.3));\n",
              "      fill: #FFFFFF;\n",
              "    }\n",
              "  </style>\n",
              "\n",
              "    <script>\n",
              "      const buttonEl =\n",
              "        document.querySelector('#df-c47ff9e7-3414-4d94-8504-c3c6d1dc2d33 button.colab-df-convert');\n",
              "      buttonEl.style.display =\n",
              "        google.colab.kernel.accessAllowed ? 'block' : 'none';\n",
              "\n",
              "      async function convertToInteractive(key) {\n",
              "        const element = document.querySelector('#df-c47ff9e7-3414-4d94-8504-c3c6d1dc2d33');\n",
              "        const dataTable =\n",
              "          await google.colab.kernel.invokeFunction('convertToInteractive',\n",
              "                                                    [key], {});\n",
              "        if (!dataTable) return;\n",
              "\n",
              "        const docLinkHtml = 'Like what you see? Visit the ' +\n",
              "          '<a target=\"_blank\" href=https://colab.research.google.com/notebooks/data_table.ipynb>data table notebook</a>'\n",
              "          + ' to learn more about interactive tables.';\n",
              "        element.innerHTML = '';\n",
              "        dataTable['output_type'] = 'display_data';\n",
              "        await google.colab.output.renderOutput(dataTable, element);\n",
              "        const docLink = document.createElement('div');\n",
              "        docLink.innerHTML = docLinkHtml;\n",
              "        element.appendChild(docLink);\n",
              "      }\n",
              "    </script>\n",
              "  </div>\n",
              "\n",
              "\n",
              "<div id=\"df-a0f71e85-100f-46e9-9a34-402dd010ccdb\">\n",
              "  <button class=\"colab-df-quickchart\" onclick=\"quickchart('df-a0f71e85-100f-46e9-9a34-402dd010ccdb')\"\n",
              "            title=\"Suggest charts\"\n",
              "            style=\"display:none;\">\n",
              "\n",
              "<svg xmlns=\"http://www.w3.org/2000/svg\" height=\"24px\"viewBox=\"0 0 24 24\"\n",
              "     width=\"24px\">\n",
              "    <g>\n",
              "        <path d=\"M19 3H5c-1.1 0-2 .9-2 2v14c0 1.1.9 2 2 2h14c1.1 0 2-.9 2-2V5c0-1.1-.9-2-2-2zM9 17H7v-7h2v7zm4 0h-2V7h2v10zm4 0h-2v-4h2v4z\"/>\n",
              "    </g>\n",
              "</svg>\n",
              "  </button>\n",
              "\n",
              "<style>\n",
              "  .colab-df-quickchart {\n",
              "      --bg-color: #E8F0FE;\n",
              "      --fill-color: #1967D2;\n",
              "      --hover-bg-color: #E2EBFA;\n",
              "      --hover-fill-color: #174EA6;\n",
              "      --disabled-fill-color: #AAA;\n",
              "      --disabled-bg-color: #DDD;\n",
              "  }\n",
              "\n",
              "  [theme=dark] .colab-df-quickchart {\n",
              "      --bg-color: #3B4455;\n",
              "      --fill-color: #D2E3FC;\n",
              "      --hover-bg-color: #434B5C;\n",
              "      --hover-fill-color: #FFFFFF;\n",
              "      --disabled-bg-color: #3B4455;\n",
              "      --disabled-fill-color: #666;\n",
              "  }\n",
              "\n",
              "  .colab-df-quickchart {\n",
              "    background-color: var(--bg-color);\n",
              "    border: none;\n",
              "    border-radius: 50%;\n",
              "    cursor: pointer;\n",
              "    display: none;\n",
              "    fill: var(--fill-color);\n",
              "    height: 32px;\n",
              "    padding: 0;\n",
              "    width: 32px;\n",
              "  }\n",
              "\n",
              "  .colab-df-quickchart:hover {\n",
              "    background-color: var(--hover-bg-color);\n",
              "    box-shadow: 0 1px 2px rgba(60, 64, 67, 0.3), 0 1px 3px 1px rgba(60, 64, 67, 0.15);\n",
              "    fill: var(--button-hover-fill-color);\n",
              "  }\n",
              "\n",
              "  .colab-df-quickchart-complete:disabled,\n",
              "  .colab-df-quickchart-complete:disabled:hover {\n",
              "    background-color: var(--disabled-bg-color);\n",
              "    fill: var(--disabled-fill-color);\n",
              "    box-shadow: none;\n",
              "  }\n",
              "\n",
              "  .colab-df-spinner {\n",
              "    border: 2px solid var(--fill-color);\n",
              "    border-color: transparent;\n",
              "    border-bottom-color: var(--fill-color);\n",
              "    animation:\n",
              "      spin 1s steps(1) infinite;\n",
              "  }\n",
              "\n",
              "  @keyframes spin {\n",
              "    0% {\n",
              "      border-color: transparent;\n",
              "      border-bottom-color: var(--fill-color);\n",
              "      border-left-color: var(--fill-color);\n",
              "    }\n",
              "    20% {\n",
              "      border-color: transparent;\n",
              "      border-left-color: var(--fill-color);\n",
              "      border-top-color: var(--fill-color);\n",
              "    }\n",
              "    30% {\n",
              "      border-color: transparent;\n",
              "      border-left-color: var(--fill-color);\n",
              "      border-top-color: var(--fill-color);\n",
              "      border-right-color: var(--fill-color);\n",
              "    }\n",
              "    40% {\n",
              "      border-color: transparent;\n",
              "      border-right-color: var(--fill-color);\n",
              "      border-top-color: var(--fill-color);\n",
              "    }\n",
              "    60% {\n",
              "      border-color: transparent;\n",
              "      border-right-color: var(--fill-color);\n",
              "    }\n",
              "    80% {\n",
              "      border-color: transparent;\n",
              "      border-right-color: var(--fill-color);\n",
              "      border-bottom-color: var(--fill-color);\n",
              "    }\n",
              "    90% {\n",
              "      border-color: transparent;\n",
              "      border-bottom-color: var(--fill-color);\n",
              "    }\n",
              "  }\n",
              "</style>\n",
              "\n",
              "  <script>\n",
              "    async function quickchart(key) {\n",
              "      const quickchartButtonEl =\n",
              "        document.querySelector('#' + key + ' button');\n",
              "      quickchartButtonEl.disabled = true;  // To prevent multiple clicks.\n",
              "      quickchartButtonEl.classList.add('colab-df-spinner');\n",
              "      try {\n",
              "        const charts = await google.colab.kernel.invokeFunction(\n",
              "            'suggestCharts', [key], {});\n",
              "      } catch (error) {\n",
              "        console.error('Error during call to suggestCharts:', error);\n",
              "      }\n",
              "      quickchartButtonEl.classList.remove('colab-df-spinner');\n",
              "      quickchartButtonEl.classList.add('colab-df-quickchart-complete');\n",
              "    }\n",
              "    (() => {\n",
              "      let quickchartButtonEl =\n",
              "        document.querySelector('#df-a0f71e85-100f-46e9-9a34-402dd010ccdb button');\n",
              "      quickchartButtonEl.style.display =\n",
              "        google.colab.kernel.accessAllowed ? 'block' : 'none';\n",
              "    })();\n",
              "  </script>\n",
              "</div>\n",
              "\n",
              "  <div id=\"id_7266e25a-ecad-4374-94d5-3ead39d28569\">\n",
              "    <style>\n",
              "      .colab-df-generate {\n",
              "        background-color: #E8F0FE;\n",
              "        border: none;\n",
              "        border-radius: 50%;\n",
              "        cursor: pointer;\n",
              "        display: none;\n",
              "        fill: #1967D2;\n",
              "        height: 32px;\n",
              "        padding: 0 0 0 0;\n",
              "        width: 32px;\n",
              "      }\n",
              "\n",
              "      .colab-df-generate:hover {\n",
              "        background-color: #E2EBFA;\n",
              "        box-shadow: 0px 1px 2px rgba(60, 64, 67, 0.3), 0px 1px 3px 1px rgba(60, 64, 67, 0.15);\n",
              "        fill: #174EA6;\n",
              "      }\n",
              "\n",
              "      [theme=dark] .colab-df-generate {\n",
              "        background-color: #3B4455;\n",
              "        fill: #D2E3FC;\n",
              "      }\n",
              "\n",
              "      [theme=dark] .colab-df-generate:hover {\n",
              "        background-color: #434B5C;\n",
              "        box-shadow: 0px 1px 3px 1px rgba(0, 0, 0, 0.15);\n",
              "        filter: drop-shadow(0px 1px 2px rgba(0, 0, 0, 0.3));\n",
              "        fill: #FFFFFF;\n",
              "      }\n",
              "    </style>\n",
              "    <button class=\"colab-df-generate\" onclick=\"generateWithVariable('data')\"\n",
              "            title=\"Generate code using this dataframe.\"\n",
              "            style=\"display:none;\">\n",
              "\n",
              "  <svg xmlns=\"http://www.w3.org/2000/svg\" height=\"24px\"viewBox=\"0 0 24 24\"\n",
              "       width=\"24px\">\n",
              "    <path d=\"M7,19H8.4L18.45,9,17,7.55,7,17.6ZM5,21V16.75L18.45,3.32a2,2,0,0,1,2.83,0l1.4,1.43a1.91,1.91,0,0,1,.58,1.4,1.91,1.91,0,0,1-.58,1.4L9.25,21ZM18.45,9,17,7.55Zm-12,3A5.31,5.31,0,0,0,4.9,8.1,5.31,5.31,0,0,0,1,6.5,5.31,5.31,0,0,0,4.9,4.9,5.31,5.31,0,0,0,6.5,1,5.31,5.31,0,0,0,8.1,4.9,5.31,5.31,0,0,0,12,6.5,5.46,5.46,0,0,0,6.5,12Z\"/>\n",
              "  </svg>\n",
              "    </button>\n",
              "    <script>\n",
              "      (() => {\n",
              "      const buttonEl =\n",
              "        document.querySelector('#id_7266e25a-ecad-4374-94d5-3ead39d28569 button.colab-df-generate');\n",
              "      buttonEl.style.display =\n",
              "        google.colab.kernel.accessAllowed ? 'block' : 'none';\n",
              "\n",
              "      buttonEl.onclick = () => {\n",
              "        google.colab.notebook.generateWithVariable('data');\n",
              "      }\n",
              "      })();\n",
              "    </script>\n",
              "  </div>\n",
              "\n",
              "    </div>\n",
              "  </div>\n"
            ],
            "application/vnd.google.colaboratory.intrinsic+json": {
              "type": "dataframe",
              "variable_name": "data"
            }
          },
          "metadata": {},
          "execution_count": 9
        }
      ],
      "source": [
        "data"
      ]
    },
    {
      "cell_type": "code",
      "source": [
        "data.shape"
      ],
      "metadata": {
        "colab": {
          "base_uri": "https://localhost:8080/"
        },
        "id": "yOj0xTWNe_QF",
        "outputId": "c52a58d6-0056-4307-adf2-61db9edfeba1"
      },
      "execution_count": 10,
      "outputs": [
        {
          "output_type": "execute_result",
          "data": {
            "text/plain": [
              "(1000000, 48)"
            ]
          },
          "metadata": {},
          "execution_count": 10
        }
      ]
    },
    {
      "cell_type": "code",
      "execution_count": 11,
      "metadata": {
        "id": "5fkdg-11Lc71"
      },
      "outputs": [],
      "source": [
        "data.drop('ult_fec_cli_1t',axis=1, inplace=True)\n",
        "data.drop('conyuemp',axis=1, inplace=True)\n",
        "data.drop('ind_aval_fin_ult1',axis=1, inplace=True)"
      ]
    },
    {
      "cell_type": "code",
      "execution_count": 12,
      "metadata": {
        "id": "eiy54Uorjc2u"
      },
      "outputs": [],
      "source": [
        "#changing some column name\n",
        "data.rename({'ncodpers':'cust_code', 'ind_empleado':'employee_index', 'fecha_alta': 'date_regist'}, axis=1, inplace=True)\n",
        "data.rename({'Unnamed: 0':'ıd','pais_residencia':'custom_country_residence', 'ind_nuevo':'new_cust_ındex', 'antiguedad':'cust_seniority'}, axis=1, inplace=True)\n",
        "data.rename({'indrel':'primary_cust', 'ult_fec_cli_1t':'last_data_primary_cust', 'indrel_1mes': 'cust_type'}, axis=1, inplace=True)\n",
        "data.rename({'tiprel_1mes':'cust_relation_type', 'indresi':'residence_index', 'indext': 'foreigner_index'}, axis=1, inplace=True)\n",
        "data.rename({'conyuemp':'spouse_index', 'canal_entrada':'channel', 'indfall':'deceased_index','tipodom':'addres_type'}, axis=1, inplace=True)\n",
        "data.rename({'nomprov':'province_name', 'ind_actividad_cliente':'activity_index', 'renta': 'gross_income','ind_ahor_fin_ult1':'save_account'}, axis=1, inplace=True)\n",
        "data.rename({'ind_cco_fin_ult1':'current_account', 'ind_cder_fin_ult1':'derivada_account', 'ind_cno_fin_ult1':'payroll_account','ind_ctju_fin_ult1':'junior_account'}, axis=1, inplace=True)\n",
        "data.rename({'ind_ctma_fin_ult1':'mas_particu_account', 'ind_ctop_fin_ult1':'particu_account','ind_ctpp_fin_ult1':'particu_plus_account'}, axis=1, inplace=True)\n",
        "data.rename({'ind_deco_fin_ult1':'short_term_deposit', 'ind_deme_fin_ult1':'medium_term_deposit', 'ind_dela_fin_ult1':'long_term_deposit','ind_ecue_fin_ult1':'e_account'}, axis=1, inplace=True)\n",
        "data.rename({'ind_fond_fin_ult1':'funds', 'ind_hip_fin_ult1':'mortgage', 'ind_plan_fin_ult1':'pensions','ind_pres_fin_ult1':'loans'}, axis=1, inplace=True)\n",
        "data.rename({'ind_reca_fin_ult1':'taxes', 'ind_tjcr_fin_ult1':'credit_card', 'ind_valo_fin_ult1':'securities','ind_viv_fin_ult1':'home_account'}, axis=1, inplace=True)\n",
        "data.rename({'ind_nomina_ult1':'payroll', 'ind_nom_pens_ult1':'a_pension', 'ind_recibo_ult1':'direct_debit'}, axis=1, inplace=True)"
      ]
    },
    {
      "cell_type": "code",
      "execution_count": 13,
      "metadata": {
        "colab": {
          "base_uri": "https://localhost:8080/"
        },
        "id": "zlUi4DQ1aHag",
        "outputId": "0f4f2961-0c89-4d1f-e9f2-7f6a687eb1a5"
      },
      "outputs": [
        {
          "output_type": "stream",
          "name": "stdout",
          "text": [
            "<class 'pandas.core.frame.DataFrame'>\n",
            "RangeIndex: 1000000 entries, 0 to 999999\n",
            "Data columns (total 45 columns):\n",
            " #   Column                    Non-Null Count    Dtype \n",
            "---  ------                    --------------    ----- \n",
            " 0   ıd                        1000000 non-null  object\n",
            " 1   fecha_dato                1000000 non-null  object\n",
            " 2   cust_code                 1000000 non-null  object\n",
            " 3   employee_index            989218 non-null   object\n",
            " 4   custom_country_residence  989218 non-null   object\n",
            " 5   sexo                      989214 non-null   object\n",
            " 6   age                       989218 non-null   object\n",
            " 7   date_regist               989218 non-null   object\n",
            " 8   new_cust_ındex            989218 non-null   object\n",
            " 9   cust_seniority            989218 non-null   object\n",
            " 10  primary_cust              989218 non-null   object\n",
            " 11  cust_type                 989218 non-null   object\n",
            " 12  cust_relation_type        989218 non-null   object\n",
            " 13  residence_index           989218 non-null   object\n",
            " 14  foreigner_index           989218 non-null   object\n",
            " 15  channel                   989139 non-null   object\n",
            " 16  deceased_index            989218 non-null   object\n",
            " 17  addres_type               989218 non-null   object\n",
            " 18  cod_prov                  982266 non-null   object\n",
            " 19  province_name             982266 non-null   object\n",
            " 20  activity_index            989218 non-null   object\n",
            " 21  gross_income              824817 non-null   object\n",
            " 22  save_account              1000000 non-null  object\n",
            " 23  current_account           1000000 non-null  object\n",
            " 24  derivada_account          1000000 non-null  object\n",
            " 25  payroll_account           1000000 non-null  object\n",
            " 26  junior_account            1000000 non-null  object\n",
            " 27  mas_particu_account       1000000 non-null  object\n",
            " 28  particu_account           1000000 non-null  object\n",
            " 29  particu_plus_account      1000000 non-null  object\n",
            " 30  short_term_deposit        1000000 non-null  object\n",
            " 31  medium_term_deposit       1000000 non-null  object\n",
            " 32  long_term_deposit         1000000 non-null  object\n",
            " 33  e_account                 1000000 non-null  object\n",
            " 34  funds                     1000000 non-null  object\n",
            " 35  mortgage                  1000000 non-null  object\n",
            " 36  pensions                  1000000 non-null  object\n",
            " 37  loans                     1000000 non-null  object\n",
            " 38  taxes                     1000000 non-null  object\n",
            " 39  credit_card               1000000 non-null  object\n",
            " 40  securities                1000000 non-null  object\n",
            " 41  home_account              1000000 non-null  object\n",
            " 42  payroll                   994598 non-null   object\n",
            " 43  a_pension                 994598 non-null   object\n",
            " 44  direct_debit              1000000 non-null  object\n",
            "dtypes: object(45)\n",
            "memory usage: 343.3+ MB\n"
          ]
        }
      ],
      "source": [
        "data.info()"
      ]
    },
    {
      "cell_type": "code",
      "execution_count": 14,
      "metadata": {
        "colab": {
          "base_uri": "https://localhost:8080/",
          "height": 178
        },
        "id": "_J-oo2DYqowq",
        "outputId": "4798c77c-fcc0-4556-baa5-0258a6cf3dc8"
      },
      "outputs": [
        {
          "output_type": "execute_result",
          "data": {
            "text/plain": [
              "residence_index\n",
              "Yes    982264\n",
              "No       6954\n",
              "Name: count, dtype: int64"
            ],
            "text/html": [
              "<div>\n",
              "<style scoped>\n",
              "    .dataframe tbody tr th:only-of-type {\n",
              "        vertical-align: middle;\n",
              "    }\n",
              "\n",
              "    .dataframe tbody tr th {\n",
              "        vertical-align: top;\n",
              "    }\n",
              "\n",
              "    .dataframe thead th {\n",
              "        text-align: right;\n",
              "    }\n",
              "</style>\n",
              "<table border=\"1\" class=\"dataframe\">\n",
              "  <thead>\n",
              "    <tr style=\"text-align: right;\">\n",
              "      <th></th>\n",
              "      <th>count</th>\n",
              "    </tr>\n",
              "    <tr>\n",
              "      <th>residence_index</th>\n",
              "      <th></th>\n",
              "    </tr>\n",
              "  </thead>\n",
              "  <tbody>\n",
              "    <tr>\n",
              "      <th>Yes</th>\n",
              "      <td>982264</td>\n",
              "    </tr>\n",
              "    <tr>\n",
              "      <th>No</th>\n",
              "      <td>6954</td>\n",
              "    </tr>\n",
              "  </tbody>\n",
              "</table>\n",
              "</div><br><label><b>dtype:</b> int64</label>"
            ]
          },
          "metadata": {},
          "execution_count": 14
        }
      ],
      "source": [
        "data['residence_index']=data['residence_index'].replace('S','Yes').replace('N','No')\n",
        "data['residence_index'].value_counts()"
      ]
    },
    {
      "cell_type": "code",
      "execution_count": 15,
      "metadata": {
        "id": "7CfIY4h1FXbv"
      },
      "outputs": [],
      "source": [
        "data['fecha_dato']=pd.to_datetime(data['fecha_dato'],unit='ns')\n",
        "data['date_regist']=pd.to_datetime(data['fecha_dato'],unit='ns')"
      ]
    },
    {
      "cell_type": "code",
      "execution_count": 16,
      "metadata": {
        "colab": {
          "base_uri": "https://localhost:8080/"
        },
        "id": "mYfNjzxhY2GJ",
        "outputId": "227e2dc9-6096-420a-f453-8ddf3b0c1761"
      },
      "outputs": [
        {
          "output_type": "stream",
          "name": "stdout",
          "text": [
            "employee_index\n",
            "N    988260\n",
            "B       387\n",
            "A       287\n",
            "F       282\n",
            "S         2\n",
            "Name: count, dtype: int64\n",
            "10782\n"
          ]
        }
      ],
      "source": [
        "#Employee index: A active, B ex employed, F filial, N not employee, P pasive\n",
        "print(data['employee_index'].value_counts())\n",
        "print(data['employee_index'].isnull().sum())"
      ]
    },
    {
      "cell_type": "code",
      "execution_count": 17,
      "metadata": {
        "colab": {
          "base_uri": "https://localhost:8080/"
        },
        "id": "ICUcWTQsZZLE",
        "outputId": "b047cb31-1d65-47bc-873f-f7c1639bdaf2"
      },
      "outputs": [
        {
          "output_type": "stream",
          "name": "stdout",
          "text": [
            "new_cust_ındex\n",
            "0    988734\n",
            "1       484\n",
            "Name: count, dtype: int64\n",
            "10782\n"
          ]
        }
      ],
      "source": [
        "print(data['new_cust_ındex'].value_counts())\n",
        "print(data['new_cust_ındex'].isnull().sum())"
      ]
    },
    {
      "cell_type": "code",
      "execution_count": 18,
      "metadata": {
        "colab": {
          "base_uri": "https://localhost:8080/",
          "height": 178
        },
        "id": "yo5deKSJdwm9",
        "outputId": "8a9df11c-75c2-48e5-827c-b4b929e79ec3"
      },
      "outputs": [
        {
          "output_type": "execute_result",
          "data": {
            "text/plain": [
              "primary_cust\n",
              "1     988117\n",
              "99      1101\n",
              "Name: count, dtype: int64"
            ],
            "text/html": [
              "<div>\n",
              "<style scoped>\n",
              "    .dataframe tbody tr th:only-of-type {\n",
              "        vertical-align: middle;\n",
              "    }\n",
              "\n",
              "    .dataframe tbody tr th {\n",
              "        vertical-align: top;\n",
              "    }\n",
              "\n",
              "    .dataframe thead th {\n",
              "        text-align: right;\n",
              "    }\n",
              "</style>\n",
              "<table border=\"1\" class=\"dataframe\">\n",
              "  <thead>\n",
              "    <tr style=\"text-align: right;\">\n",
              "      <th></th>\n",
              "      <th>count</th>\n",
              "    </tr>\n",
              "    <tr>\n",
              "      <th>primary_cust</th>\n",
              "      <th></th>\n",
              "    </tr>\n",
              "  </thead>\n",
              "  <tbody>\n",
              "    <tr>\n",
              "      <th>1</th>\n",
              "      <td>988117</td>\n",
              "    </tr>\n",
              "    <tr>\n",
              "      <th>99</th>\n",
              "      <td>1101</td>\n",
              "    </tr>\n",
              "  </tbody>\n",
              "</table>\n",
              "</div><br><label><b>dtype:</b> int64</label>"
            ]
          },
          "metadata": {},
          "execution_count": 18
        }
      ],
      "source": [
        "#1(First/Primary), 99 (Primary customer during the month but not at the end of the month)\n",
        "data['primary_cust'].value_counts()"
      ]
    },
    {
      "cell_type": "code",
      "source": [
        "data['cust_type'].value_counts()"
      ],
      "metadata": {
        "colab": {
          "base_uri": "https://localhost:8080/",
          "height": 209
        },
        "id": "O9lk7mzeKZKA",
        "outputId": "3e370078-b3e5-4c56-8158-281bdb20b62f"
      },
      "execution_count": 19,
      "outputs": [
        {
          "output_type": "execute_result",
          "data": {
            "text/plain": [
              "cust_type\n",
              "1    989175\n",
              "3        41\n",
              "2         2\n",
              "Name: count, dtype: int64"
            ],
            "text/html": [
              "<div>\n",
              "<style scoped>\n",
              "    .dataframe tbody tr th:only-of-type {\n",
              "        vertical-align: middle;\n",
              "    }\n",
              "\n",
              "    .dataframe tbody tr th {\n",
              "        vertical-align: top;\n",
              "    }\n",
              "\n",
              "    .dataframe thead th {\n",
              "        text-align: right;\n",
              "    }\n",
              "</style>\n",
              "<table border=\"1\" class=\"dataframe\">\n",
              "  <thead>\n",
              "    <tr style=\"text-align: right;\">\n",
              "      <th></th>\n",
              "      <th>count</th>\n",
              "    </tr>\n",
              "    <tr>\n",
              "      <th>cust_type</th>\n",
              "      <th></th>\n",
              "    </tr>\n",
              "  </thead>\n",
              "  <tbody>\n",
              "    <tr>\n",
              "      <th>1</th>\n",
              "      <td>989175</td>\n",
              "    </tr>\n",
              "    <tr>\n",
              "      <th>3</th>\n",
              "      <td>41</td>\n",
              "    </tr>\n",
              "    <tr>\n",
              "      <th>2</th>\n",
              "      <td>2</td>\n",
              "    </tr>\n",
              "  </tbody>\n",
              "</table>\n",
              "</div><br><label><b>dtype:</b> int64</label>"
            ]
          },
          "metadata": {},
          "execution_count": 19
        }
      ]
    },
    {
      "cell_type": "code",
      "source": [
        "print(data['cust_code'].isnull().sum())"
      ],
      "metadata": {
        "colab": {
          "base_uri": "https://localhost:8080/"
        },
        "id": "_ThI6r7x2bYY",
        "outputId": "02e97e64-1bea-449a-f8f0-b4da3fb5beff"
      },
      "execution_count": 20,
      "outputs": [
        {
          "output_type": "stream",
          "name": "stdout",
          "text": [
            "0\n"
          ]
        }
      ]
    },
    {
      "cell_type": "code",
      "source": [
        "#Customer relation type at the beginning of the month, A (active), I (inactive), P (former customer),R (Potential)\n",
        "print(data['cust_relation_type'].value_counts())\n",
        "print(data['cust_relation_type'].isnull().sum())"
      ],
      "metadata": {
        "colab": {
          "base_uri": "https://localhost:8080/"
        },
        "id": "tgs4hRW_frns",
        "outputId": "88534142-01e8-4389-ddfd-8272847da559"
      },
      "execution_count": 21,
      "outputs": [
        {
          "output_type": "stream",
          "name": "stdout",
          "text": [
            "cust_relation_type\n",
            "A    547800\n",
            "I    441377\n",
            "P        41\n",
            "Name: count, dtype: int64\n",
            "10782\n"
          ]
        }
      ]
    },
    {
      "cell_type": "code",
      "source": [
        "data['foreigner_index']=data['foreigner_index'].replace('S','Yes').replace('N','No')\n",
        "print(data['foreigner_index'].value_counts())\n",
        "print(data['foreigner_index'].isnull().sum())"
      ],
      "metadata": {
        "colab": {
          "base_uri": "https://localhost:8080/"
        },
        "id": "rETIPwZPhwj_",
        "outputId": "f15d4c6f-9d90-4b2f-e5d3-b7783c62eb23"
      },
      "execution_count": 22,
      "outputs": [
        {
          "output_type": "stream",
          "name": "stdout",
          "text": [
            "foreigner_index\n",
            "No     946328\n",
            "Yes     42890\n",
            "Name: count, dtype: int64\n",
            "10782\n"
          ]
        }
      ]
    },
    {
      "cell_type": "code",
      "source": [
        "print(data['deceased_index'].value_counts())\n",
        "print(data['deceased_index'].isnull().sum())"
      ],
      "metadata": {
        "colab": {
          "base_uri": "https://localhost:8080/"
        },
        "id": "uMbMGwmCCCkt",
        "outputId": "994041ce-d896-4386-8802-db9ba1d0aa96"
      },
      "execution_count": 23,
      "outputs": [
        {
          "output_type": "stream",
          "name": "stdout",
          "text": [
            "deceased_index\n",
            "N    986107\n",
            "S      3111\n",
            "Name: count, dtype: int64\n",
            "10782\n"
          ]
        }
      ]
    },
    {
      "cell_type": "code",
      "source": [
        "print(data['channel'].value_counts())\n",
        "print(data['channel'].isnull().sum())"
      ],
      "metadata": {
        "colab": {
          "base_uri": "https://localhost:8080/"
        },
        "id": "EC2hJSIp4OS_",
        "outputId": "92134475-fb9a-4534-871d-723c383279af"
      },
      "execution_count": 24,
      "outputs": [
        {
          "output_type": "stream",
          "name": "stdout",
          "text": [
            "channel\n",
            "KAT    313944\n",
            "KFC    259035\n",
            "KHE    249254\n",
            "KFA     37733\n",
            "KAS      8190\n",
            "        ...  \n",
            "KDI         2\n",
            "KDB         2\n",
            "KBN         2\n",
            "KGN         1\n",
            "KGC         1\n",
            "Name: count, Length: 156, dtype: int64\n",
            "10861\n"
          ]
        }
      ]
    },
    {
      "cell_type": "code",
      "source": [
        "print(data['addres_type'].value_counts())\n",
        "print(data['addres_type'].isnull().sum())\n",
        "data['addres_type']"
      ],
      "metadata": {
        "colab": {
          "base_uri": "https://localhost:8080/",
          "height": 527
        },
        "id": "MyfnpRMwCbvJ",
        "outputId": "12427a12-a4fb-45ba-be33-5533a311aa56"
      },
      "execution_count": 25,
      "outputs": [
        {
          "output_type": "stream",
          "name": "stdout",
          "text": [
            "addres_type\n",
            "1    989218\n",
            "Name: count, dtype: int64\n",
            "10782\n"
          ]
        },
        {
          "output_type": "execute_result",
          "data": {
            "text/plain": [
              "0         1\n",
              "1         1\n",
              "2         1\n",
              "3         1\n",
              "4         1\n",
              "         ..\n",
              "999995    1\n",
              "999996    1\n",
              "999997    1\n",
              "999998    1\n",
              "999999    1\n",
              "Name: addres_type, Length: 1000000, dtype: object"
            ],
            "text/html": [
              "<div>\n",
              "<style scoped>\n",
              "    .dataframe tbody tr th:only-of-type {\n",
              "        vertical-align: middle;\n",
              "    }\n",
              "\n",
              "    .dataframe tbody tr th {\n",
              "        vertical-align: top;\n",
              "    }\n",
              "\n",
              "    .dataframe thead th {\n",
              "        text-align: right;\n",
              "    }\n",
              "</style>\n",
              "<table border=\"1\" class=\"dataframe\">\n",
              "  <thead>\n",
              "    <tr style=\"text-align: right;\">\n",
              "      <th></th>\n",
              "      <th>addres_type</th>\n",
              "    </tr>\n",
              "  </thead>\n",
              "  <tbody>\n",
              "    <tr>\n",
              "      <th>0</th>\n",
              "      <td>1</td>\n",
              "    </tr>\n",
              "    <tr>\n",
              "      <th>1</th>\n",
              "      <td>1</td>\n",
              "    </tr>\n",
              "    <tr>\n",
              "      <th>2</th>\n",
              "      <td>1</td>\n",
              "    </tr>\n",
              "    <tr>\n",
              "      <th>3</th>\n",
              "      <td>1</td>\n",
              "    </tr>\n",
              "    <tr>\n",
              "      <th>4</th>\n",
              "      <td>1</td>\n",
              "    </tr>\n",
              "    <tr>\n",
              "      <th>...</th>\n",
              "      <td>...</td>\n",
              "    </tr>\n",
              "    <tr>\n",
              "      <th>999995</th>\n",
              "      <td>1</td>\n",
              "    </tr>\n",
              "    <tr>\n",
              "      <th>999996</th>\n",
              "      <td>1</td>\n",
              "    </tr>\n",
              "    <tr>\n",
              "      <th>999997</th>\n",
              "      <td>1</td>\n",
              "    </tr>\n",
              "    <tr>\n",
              "      <th>999998</th>\n",
              "      <td>1</td>\n",
              "    </tr>\n",
              "    <tr>\n",
              "      <th>999999</th>\n",
              "      <td>1</td>\n",
              "    </tr>\n",
              "  </tbody>\n",
              "</table>\n",
              "<p>1000000 rows × 1 columns</p>\n",
              "</div><br><label><b>dtype:</b> object</label>"
            ]
          },
          "metadata": {},
          "execution_count": 25
        }
      ]
    },
    {
      "cell_type": "code",
      "source": [
        "print(data['custom_country_residence'].value_counts())\n",
        "print(data['custom_country_residence'].isnull().sum())"
      ],
      "metadata": {
        "colab": {
          "base_uri": "https://localhost:8080/"
        },
        "id": "dqApD1Yg1-e1",
        "outputId": "680f0ef4-610e-4688-c755-7fa8fd353c95"
      },
      "execution_count": 26,
      "outputs": [
        {
          "output_type": "stream",
          "name": "stdout",
          "text": [
            "custom_country_residence\n",
            "ES    982264\n",
            "FR       546\n",
            "AR       542\n",
            "DE       487\n",
            "GB       480\n",
            "       ...  \n",
            "TN         2\n",
            "LB         2\n",
            "GE         2\n",
            "BZ         2\n",
            "AL         1\n",
            "Name: count, Length: 113, dtype: int64\n",
            "10782\n"
          ]
        }
      ]
    },
    {
      "cell_type": "code",
      "source": [
        "print(data['activity_index'].value_counts())\n",
        "print(data['activity_index'].isnull().sum())"
      ],
      "metadata": {
        "colab": {
          "base_uri": "https://localhost:8080/"
        },
        "id": "KNCoCJMghgB1",
        "outputId": "70c389fb-445d-4f00-d3b7-bd482cfd5a8d"
      },
      "execution_count": 27,
      "outputs": [
        {
          "output_type": "stream",
          "name": "stdout",
          "text": [
            "activity_index\n",
            "1    558879\n",
            "0    430339\n",
            "Name: count, dtype: int64\n",
            "10782\n"
          ]
        }
      ]
    },
    {
      "cell_type": "code",
      "source": [
        "print(data['save_account'].value_counts())\n",
        "print(data['save_account'].isnull().sum())"
      ],
      "metadata": {
        "colab": {
          "base_uri": "https://localhost:8080/"
        },
        "id": "JtGT4B2riKjI",
        "outputId": "55fdc7c5-0d91-49d5-a346-e2ef28a9b387"
      },
      "execution_count": 28,
      "outputs": [
        {
          "output_type": "stream",
          "name": "stdout",
          "text": [
            "save_account\n",
            "0    999823\n",
            "1       177\n",
            "Name: count, dtype: int64\n",
            "0\n"
          ]
        }
      ]
    },
    {
      "cell_type": "code",
      "source": [
        "print(data['current_account'].value_counts())\n",
        "print(data['current_account'].isnull().sum())"
      ],
      "metadata": {
        "colab": {
          "base_uri": "https://localhost:8080/"
        },
        "id": "eCP8Aih0j9ux",
        "outputId": "529bab64-0bbe-4784-ccad-aba369b7ac40"
      },
      "execution_count": null,
      "outputs": [
        {
          "output_type": "stream",
          "name": "stdout",
          "text": [
            "1    749626\n",
            "0    250374\n",
            "Name: current_account, dtype: int64\n",
            "0\n"
          ]
        }
      ]
    },
    {
      "cell_type": "code",
      "source": [
        "print(data['derivada_account'].value_counts())\n",
        "print(data['derivada_account'].isnull().sum())"
      ],
      "metadata": {
        "colab": {
          "base_uri": "https://localhost:8080/"
        },
        "id": "2Qa6slKfkXH9",
        "outputId": "6903a1a8-f4b8-4aa6-d3b5-b539b536cddc"
      },
      "execution_count": 29,
      "outputs": [
        {
          "output_type": "stream",
          "name": "stdout",
          "text": [
            "derivada_account\n",
            "0    999409\n",
            "1       591\n",
            "Name: count, dtype: int64\n",
            "0\n"
          ]
        }
      ]
    },
    {
      "cell_type": "code",
      "source": [
        "print(data['payroll_account'].value_counts())\n",
        "print(data['payroll_account'].isnull().sum())"
      ],
      "metadata": {
        "colab": {
          "base_uri": "https://localhost:8080/"
        },
        "id": "fTkD1q17k0Bc",
        "outputId": "a4ef2293-c6db-46b6-e0c4-211abf255639"
      },
      "execution_count": 30,
      "outputs": [
        {
          "output_type": "stream",
          "name": "stdout",
          "text": [
            "payroll_account\n",
            "0    894704\n",
            "1    105296\n",
            "Name: count, dtype: int64\n",
            "0\n"
          ]
        }
      ]
    },
    {
      "cell_type": "code",
      "source": [
        "print(data['junior_account'].value_counts())\n",
        "print(data['junior_account'].isnull().sum())"
      ],
      "metadata": {
        "colab": {
          "base_uri": "https://localhost:8080/"
        },
        "id": "Qleks2wSmbaT",
        "outputId": "6145e74b-07b5-4eb8-d088-66203e98415b"
      },
      "execution_count": 31,
      "outputs": [
        {
          "output_type": "stream",
          "name": "stdout",
          "text": [
            "junior_account\n",
            "0    986377\n",
            "1     13623\n",
            "Name: count, dtype: int64\n",
            "0\n"
          ]
        }
      ]
    },
    {
      "cell_type": "code",
      "source": [
        "print(data['mas_particu_account'].value_counts())\n",
        "print(data['mas_particu_account'].isnull().sum())"
      ],
      "metadata": {
        "colab": {
          "base_uri": "https://localhost:8080/"
        },
        "id": "gMvWYKlunEX9",
        "outputId": "67d9a832-4423-4f7f-b672-0b7e3828f359"
      },
      "execution_count": 32,
      "outputs": [
        {
          "output_type": "stream",
          "name": "stdout",
          "text": [
            "mas_particu_account\n",
            "0    990106\n",
            "1      9894\n",
            "Name: count, dtype: int64\n",
            "0\n"
          ]
        }
      ]
    },
    {
      "cell_type": "code",
      "source": [
        "print(data['particu_account'].value_counts())\n",
        "print(data['particu_account'].isnull().sum())"
      ],
      "metadata": {
        "colab": {
          "base_uri": "https://localhost:8080/"
        },
        "id": "d5x1l6rKniE9",
        "outputId": "0730de89-f087-4dcf-9b2e-cda4b7e7e697"
      },
      "execution_count": 33,
      "outputs": [
        {
          "output_type": "stream",
          "name": "stdout",
          "text": [
            "particu_account\n",
            "0    787514\n",
            "1    212486\n",
            "Name: count, dtype: int64\n",
            "0\n"
          ]
        }
      ]
    },
    {
      "cell_type": "code",
      "source": [
        "print(data['particu_plus_account'].value_counts())\n",
        "print(data['particu_plus_account'].isnull().sum())"
      ],
      "metadata": {
        "colab": {
          "base_uri": "https://localhost:8080/"
        },
        "id": "bzyNcZsOojhj",
        "outputId": "4f7b8b2b-32ad-4c3f-c350-077d9542c64b"
      },
      "execution_count": 34,
      "outputs": [
        {
          "output_type": "stream",
          "name": "stdout",
          "text": [
            "particu_plus_account\n",
            "0    927921\n",
            "1     72079\n",
            "Name: count, dtype: int64\n",
            "0\n"
          ]
        }
      ]
    },
    {
      "cell_type": "code",
      "source": [
        "print(data['short_term_deposit'].value_counts())\n",
        "print(data['short_term_deposit'].isnull().sum())"
      ],
      "metadata": {
        "colab": {
          "base_uri": "https://localhost:8080/"
        },
        "id": "Rdfij6Mro9x6",
        "outputId": "6f4f1401-7354-483d-b4d7-0f802c074770"
      },
      "execution_count": 35,
      "outputs": [
        {
          "output_type": "stream",
          "name": "stdout",
          "text": [
            "short_term_deposit\n",
            "0    997842\n",
            "1      2158\n",
            "Name: count, dtype: int64\n",
            "0\n"
          ]
        }
      ]
    },
    {
      "cell_type": "code",
      "source": [
        "print(data['medium_term_deposit'].value_counts())\n",
        "print(data['medium_term_deposit'].isnull().sum())"
      ],
      "metadata": {
        "colab": {
          "base_uri": "https://localhost:8080/"
        },
        "id": "tyW2Z7ZYpUhr",
        "outputId": "8cf3827c-e00c-4876-8e2a-ba840735f253"
      },
      "execution_count": 36,
      "outputs": [
        {
          "output_type": "stream",
          "name": "stdout",
          "text": [
            "medium_term_deposit\n",
            "0    996850\n",
            "1      3150\n",
            "Name: count, dtype: int64\n",
            "0\n"
          ]
        }
      ]
    },
    {
      "cell_type": "code",
      "source": [
        "print(data['long_term_deposit'].value_counts())\n",
        "print(data['long_term_deposit'].isnull().sum())"
      ],
      "metadata": {
        "colab": {
          "base_uri": "https://localhost:8080/"
        },
        "id": "WaRhzH-CpvXv",
        "outputId": "f67c354a-28bc-46f2-d85a-338dd5063f20"
      },
      "execution_count": 37,
      "outputs": [
        {
          "output_type": "stream",
          "name": "stdout",
          "text": [
            "long_term_deposit\n",
            "0    933119\n",
            "1     66881\n",
            "Name: count, dtype: int64\n",
            "0\n"
          ]
        }
      ]
    },
    {
      "cell_type": "code",
      "source": [
        "print(data['e_account'].value_counts())\n",
        "print(data['e_account'].isnull().sum())"
      ],
      "metadata": {
        "colab": {
          "base_uri": "https://localhost:8080/"
        },
        "id": "4VoeM862ruzs",
        "outputId": "835e7015-2325-4c5d-86f7-93b394ab0d5b"
      },
      "execution_count": 38,
      "outputs": [
        {
          "output_type": "stream",
          "name": "stdout",
          "text": [
            "e_account\n",
            "0    893733\n",
            "1    106267\n",
            "Name: count, dtype: int64\n",
            "0\n"
          ]
        }
      ]
    },
    {
      "cell_type": "code",
      "source": [
        "print(data['funds'].value_counts())\n",
        "print(data['funds'].isnull().sum())"
      ],
      "metadata": {
        "colab": {
          "base_uri": "https://localhost:8080/"
        },
        "id": "682jBEcrs-z5",
        "outputId": "c7f5e02b-e7d8-4fba-9b22-38c0a9c07f5a"
      },
      "execution_count": 39,
      "outputs": [
        {
          "output_type": "stream",
          "name": "stdout",
          "text": [
            "funds\n",
            "0    972818\n",
            "1     27182\n",
            "Name: count, dtype: int64\n",
            "0\n"
          ]
        }
      ]
    },
    {
      "cell_type": "code",
      "source": [
        "print(data['mortgage'].value_counts())\n",
        "print(data['mortgage'].isnull().sum())"
      ],
      "metadata": {
        "colab": {
          "base_uri": "https://localhost:8080/"
        },
        "id": "TFVs3Hyhtaib",
        "outputId": "d377811e-0cc1-40cd-a185-e07d9a17be9f"
      },
      "execution_count": 40,
      "outputs": [
        {
          "output_type": "stream",
          "name": "stdout",
          "text": [
            "mortgage\n",
            "0    990018\n",
            "1      9982\n",
            "Name: count, dtype: int64\n",
            "0\n"
          ]
        }
      ]
    },
    {
      "cell_type": "code",
      "source": [
        "print(data['pensions'].value_counts())\n",
        "print(data['pensions'].isnull().sum())"
      ],
      "metadata": {
        "colab": {
          "base_uri": "https://localhost:8080/"
        },
        "id": "D8k92a4gt5fr",
        "outputId": "2576de55-4cf4-4fdd-b747-744177c316d6"
      },
      "execution_count": 41,
      "outputs": [
        {
          "output_type": "stream",
          "name": "stdout",
          "text": [
            "pensions\n",
            "0    985447\n",
            "1     14553\n",
            "Name: count, dtype: int64\n",
            "0\n"
          ]
        }
      ]
    },
    {
      "cell_type": "code",
      "source": [
        "print(data['loans'].value_counts())\n",
        "print(data['loans'].isnull().sum())"
      ],
      "metadata": {
        "colab": {
          "base_uri": "https://localhost:8080/"
        },
        "id": "4v8Q6iW3t5i7",
        "outputId": "630730b4-183b-45ea-b946-1dee1ce20f5a"
      },
      "execution_count": 42,
      "outputs": [
        {
          "output_type": "stream",
          "name": "stdout",
          "text": [
            "loans\n",
            "0    995339\n",
            "1      4661\n",
            "Name: count, dtype: int64\n",
            "0\n"
          ]
        }
      ]
    },
    {
      "cell_type": "code",
      "source": [
        "print(data['taxes'].value_counts())\n",
        "print(data['taxes'].isnull().sum())"
      ],
      "metadata": {
        "colab": {
          "base_uri": "https://localhost:8080/"
        },
        "id": "oDSGCwHcuRPu",
        "outputId": "ddcabfd3-8885-4304-bbc0-2ce20e684901"
      },
      "execution_count": 43,
      "outputs": [
        {
          "output_type": "stream",
          "name": "stdout",
          "text": [
            "taxes\n",
            "0    927419\n",
            "1     72581\n",
            "Name: count, dtype: int64\n",
            "0\n"
          ]
        }
      ]
    },
    {
      "cell_type": "code",
      "source": [
        "print(data['credit_card'].value_counts())\n",
        "print(data['credit_card'].isnull().sum())"
      ],
      "metadata": {
        "colab": {
          "base_uri": "https://localhost:8080/"
        },
        "id": "uK5oBYALvmXJ",
        "outputId": "89339009-9d2b-4deb-af5d-177a6b36967a"
      },
      "execution_count": 44,
      "outputs": [
        {
          "output_type": "stream",
          "name": "stdout",
          "text": [
            "credit_card\n",
            "0    933916\n",
            "1     66084\n",
            "Name: count, dtype: int64\n",
            "0\n"
          ]
        }
      ]
    },
    {
      "cell_type": "code",
      "source": [
        "print(data['securities'].value_counts())\n",
        "print(data['securities'].isnull().sum())"
      ],
      "metadata": {
        "colab": {
          "base_uri": "https://localhost:8080/"
        },
        "id": "0AaUOnLdwjOv",
        "outputId": "5b02398a-25e7-4b82-f2fa-20924e6483b6"
      },
      "execution_count": 45,
      "outputs": [
        {
          "output_type": "stream",
          "name": "stdout",
          "text": [
            "securities\n",
            "0    960622\n",
            "1     39378\n",
            "Name: count, dtype: int64\n",
            "0\n"
          ]
        }
      ]
    },
    {
      "cell_type": "code",
      "source": [
        "print(data['home_account'].value_counts())\n",
        "print(data['home_account'].isnull().sum())"
      ],
      "metadata": {
        "colab": {
          "base_uri": "https://localhost:8080/"
        },
        "id": "XJSmEIZaxXTQ",
        "outputId": "efa0c311-630d-4c07-8131-5bc3250f90d5"
      },
      "execution_count": 46,
      "outputs": [
        {
          "output_type": "stream",
          "name": "stdout",
          "text": [
            "home_account\n",
            "0    993558\n",
            "1      6442\n",
            "Name: count, dtype: int64\n",
            "0\n"
          ]
        }
      ]
    },
    {
      "cell_type": "code",
      "source": [
        "print(data['payroll'].value_counts())\n",
        "print(data['payroll'].isnull().sum())"
      ],
      "metadata": {
        "colab": {
          "base_uri": "https://localhost:8080/"
        },
        "id": "AW2AV9HBxoUx",
        "outputId": "fc52e808-5cdd-4bb7-a1b2-184178a476a1"
      },
      "execution_count": 47,
      "outputs": [
        {
          "output_type": "stream",
          "name": "stdout",
          "text": [
            "payroll\n",
            "0    923356\n",
            "1     71242\n",
            "Name: count, dtype: int64\n",
            "5402\n"
          ]
        }
      ]
    },
    {
      "cell_type": "code",
      "source": [
        "print(data['a_pension'].value_counts())\n",
        "print(data['a_pension'].isnull().sum())"
      ],
      "metadata": {
        "colab": {
          "base_uri": "https://localhost:8080/"
        },
        "id": "V4vHB2OeyO6p",
        "outputId": "a7eae542-b87c-4ca2-c09f-bf8251189b4f"
      },
      "execution_count": 48,
      "outputs": [
        {
          "output_type": "stream",
          "name": "stdout",
          "text": [
            "a_pension\n",
            "0    915485\n",
            "1     79113\n",
            "Name: count, dtype: int64\n",
            "5402\n"
          ]
        }
      ]
    },
    {
      "cell_type": "code",
      "source": [
        "print(data['direct_debit'].value_counts())\n",
        "print(data['direct_debit'].isnull().sum())"
      ],
      "metadata": {
        "colab": {
          "base_uri": "https://localhost:8080/"
        },
        "id": "pKmCviLjy2oS",
        "outputId": "59a27a70-3633-4f81-bd6a-3e9897c71115"
      },
      "execution_count": 49,
      "outputs": [
        {
          "output_type": "stream",
          "name": "stdout",
          "text": [
            "direct_debit\n",
            "0    833725\n",
            "1    166275\n",
            "Name: count, dtype: int64\n",
            "0\n"
          ]
        }
      ]
    },
    {
      "cell_type": "code",
      "source": [
        "print(data['sexo'].value_counts())\n",
        "print(data['sexo'].isnull().sum())"
      ],
      "metadata": {
        "colab": {
          "base_uri": "https://localhost:8080/"
        },
        "id": "44XSE72kj56Z",
        "outputId": "39e776e1-ef7d-4ce9-9e0e-f4df1dafe426"
      },
      "execution_count": 50,
      "outputs": [
        {
          "output_type": "stream",
          "name": "stdout",
          "text": [
            "sexo\n",
            "V    562000\n",
            "H    427214\n",
            "Name: count, dtype: int64\n",
            "10786\n"
          ]
        }
      ]
    },
    {
      "cell_type": "code",
      "source": [
        "print(data['province_name'].value_counts())\n",
        "print(data['province_name'].isnull().sum())"
      ],
      "metadata": {
        "colab": {
          "base_uri": "https://localhost:8080/"
        },
        "id": "NjQaPuKFYxUR",
        "outputId": "c35585f1-43f1-4902-9e42-79b99146f5ea"
      },
      "execution_count": 51,
      "outputs": [
        {
          "output_type": "stream",
          "name": "stdout",
          "text": [
            "province_name\n",
            "MADRID                    360131\n",
            "BARCELONA                  87372\n",
            "VALENCIA                   46394\n",
            "SEVILLA                    43922\n",
            "CORUA                      27545\n",
            "MALAGA                     26798\n",
            "MURCIA                     24782\n",
            "ZARAGOZA                   24621\n",
            "ALICANTE                   20323\n",
            "CADIZ                      20292\n",
            "ASTURIAS                   18399\n",
            "PONTEVEDRA                 17482\n",
            "VALLADOLID                 16657\n",
            "PALMAS                     15976\n",
            "BIZKAIA                    15597\n",
            "GRANADA                    12930\n",
            "TOLEDO                     12131\n",
            "BADAJOZ                    11909\n",
            "CANTABRIA                  11264\n",
            "SALAMANCA                  10650\n",
            "CORDOBA                     9829\n",
            "BALEARS                     8361\n",
            "CACERES                     8347\n",
            "HUELVA                      7923\n",
            "CIUDAD REAL                 7782\n",
            "ALBACETE                    7294\n",
            "CASTELLON                   6711\n",
            "NAVARRA                     6584\n",
            "BURGOS                      6403\n",
            "TARRAGONA                   6120\n",
            "RIOJA                       5992\n",
            "LEON                        5968\n",
            "GIRONA                      5735\n",
            "GIPUZKOA                    5708\n",
            "LUGO                        5259\n",
            "OURENSE                     5151\n",
            "SANTA CRUZ DE TENERIFE      5080\n",
            "LERIDA                      4846\n",
            "JAEN                        4492\n",
            "GUADALAJARA                 4327\n",
            "ALMERIA                     4021\n",
            "CUENCA                      3768\n",
            "PALENCIA                    3224\n",
            "ZAMORA                      3213\n",
            "SEGOVIA                     2979\n",
            "ALAVA                       2878\n",
            "HUESCA                      2657\n",
            "AVILA                       2573\n",
            "TERUEL                      1397\n",
            "SORIA                       1179\n",
            "MELILLA                      764\n",
            "CEUTA                        526\n",
            "Name: count, dtype: int64\n",
            "17734\n"
          ]
        }
      ]
    },
    {
      "cell_type": "code",
      "source": [
        "print(data['cod_prov'].value_counts())\n",
        "print(data['cod_prov'].isnull().sum())"
      ],
      "metadata": {
        "colab": {
          "base_uri": "https://localhost:8080/"
        },
        "id": "lRQE0o6IlKps",
        "outputId": "49c2a4df-8af6-4f0a-a6c7-9ba80a8c8905"
      },
      "execution_count": 52,
      "outputs": [
        {
          "output_type": "stream",
          "name": "stdout",
          "text": [
            "cod_prov\n",
            "28    360131\n",
            "8      87372\n",
            "46     46394\n",
            "41     43922\n",
            "15     27545\n",
            "29     26798\n",
            "30     24782\n",
            "50     24621\n",
            "3      20323\n",
            "11     20292\n",
            "33     18399\n",
            "36     17482\n",
            "47     16657\n",
            "35     15976\n",
            "48     15597\n",
            "18     12930\n",
            "45     12131\n",
            "6      11909\n",
            "39     11264\n",
            "37     10650\n",
            "14      9829\n",
            "7       8361\n",
            "10      8347\n",
            "21      7923\n",
            "13      7782\n",
            "2       7294\n",
            "12      6711\n",
            "31      6584\n",
            "9       6403\n",
            "43      6120\n",
            "26      5992\n",
            "24      5968\n",
            "17      5735\n",
            "20      5708\n",
            "27      5259\n",
            "32      5151\n",
            "38      5080\n",
            "25      4846\n",
            "23      4492\n",
            "19      4327\n",
            "4       4021\n",
            "16      3768\n",
            "34      3224\n",
            "49      3213\n",
            "40      2979\n",
            "1       2878\n",
            "22      2657\n",
            "5       2573\n",
            "44      1397\n",
            "42      1179\n",
            "52       764\n",
            "51       526\n",
            "Name: count, dtype: int64\n",
            "17734\n"
          ]
        }
      ]
    },
    {
      "cell_type": "code",
      "source": [
        "data[['cod_prov','province_name']]"
      ],
      "metadata": {
        "colab": {
          "base_uri": "https://localhost:8080/",
          "height": 423
        },
        "id": "yeb_xWZSlY28",
        "outputId": "eeefbb64-8fc3-4f36-84a5-9672f28ea72c"
      },
      "execution_count": 53,
      "outputs": [
        {
          "output_type": "execute_result",
          "data": {
            "text/plain": [
              "       cod_prov province_name\n",
              "0            29        MALAGA\n",
              "1            13   CIUDAD REAL\n",
              "2            13   CIUDAD REAL\n",
              "3            50      ZARAGOZA\n",
              "4            50      ZARAGOZA\n",
              "...         ...           ...\n",
              "999995       28        MADRID\n",
              "999996       15         CORUA\n",
              "999997       15         CORUA\n",
              "999998       28        MADRID\n",
              "999999       11         CADIZ\n",
              "\n",
              "[1000000 rows x 2 columns]"
            ],
            "text/html": [
              "\n",
              "  <div id=\"df-7e44ad9e-5996-41d3-8efc-df9d95c34804\" class=\"colab-df-container\">\n",
              "    <div>\n",
              "<style scoped>\n",
              "    .dataframe tbody tr th:only-of-type {\n",
              "        vertical-align: middle;\n",
              "    }\n",
              "\n",
              "    .dataframe tbody tr th {\n",
              "        vertical-align: top;\n",
              "    }\n",
              "\n",
              "    .dataframe thead th {\n",
              "        text-align: right;\n",
              "    }\n",
              "</style>\n",
              "<table border=\"1\" class=\"dataframe\">\n",
              "  <thead>\n",
              "    <tr style=\"text-align: right;\">\n",
              "      <th></th>\n",
              "      <th>cod_prov</th>\n",
              "      <th>province_name</th>\n",
              "    </tr>\n",
              "  </thead>\n",
              "  <tbody>\n",
              "    <tr>\n",
              "      <th>0</th>\n",
              "      <td>29</td>\n",
              "      <td>MALAGA</td>\n",
              "    </tr>\n",
              "    <tr>\n",
              "      <th>1</th>\n",
              "      <td>13</td>\n",
              "      <td>CIUDAD REAL</td>\n",
              "    </tr>\n",
              "    <tr>\n",
              "      <th>2</th>\n",
              "      <td>13</td>\n",
              "      <td>CIUDAD REAL</td>\n",
              "    </tr>\n",
              "    <tr>\n",
              "      <th>3</th>\n",
              "      <td>50</td>\n",
              "      <td>ZARAGOZA</td>\n",
              "    </tr>\n",
              "    <tr>\n",
              "      <th>4</th>\n",
              "      <td>50</td>\n",
              "      <td>ZARAGOZA</td>\n",
              "    </tr>\n",
              "    <tr>\n",
              "      <th>...</th>\n",
              "      <td>...</td>\n",
              "      <td>...</td>\n",
              "    </tr>\n",
              "    <tr>\n",
              "      <th>999995</th>\n",
              "      <td>28</td>\n",
              "      <td>MADRID</td>\n",
              "    </tr>\n",
              "    <tr>\n",
              "      <th>999996</th>\n",
              "      <td>15</td>\n",
              "      <td>CORUA</td>\n",
              "    </tr>\n",
              "    <tr>\n",
              "      <th>999997</th>\n",
              "      <td>15</td>\n",
              "      <td>CORUA</td>\n",
              "    </tr>\n",
              "    <tr>\n",
              "      <th>999998</th>\n",
              "      <td>28</td>\n",
              "      <td>MADRID</td>\n",
              "    </tr>\n",
              "    <tr>\n",
              "      <th>999999</th>\n",
              "      <td>11</td>\n",
              "      <td>CADIZ</td>\n",
              "    </tr>\n",
              "  </tbody>\n",
              "</table>\n",
              "<p>1000000 rows × 2 columns</p>\n",
              "</div>\n",
              "    <div class=\"colab-df-buttons\">\n",
              "\n",
              "  <div class=\"colab-df-container\">\n",
              "    <button class=\"colab-df-convert\" onclick=\"convertToInteractive('df-7e44ad9e-5996-41d3-8efc-df9d95c34804')\"\n",
              "            title=\"Convert this dataframe to an interactive table.\"\n",
              "            style=\"display:none;\">\n",
              "\n",
              "  <svg xmlns=\"http://www.w3.org/2000/svg\" height=\"24px\" viewBox=\"0 -960 960 960\">\n",
              "    <path d=\"M120-120v-720h720v720H120Zm60-500h600v-160H180v160Zm220 220h160v-160H400v160Zm0 220h160v-160H400v160ZM180-400h160v-160H180v160Zm440 0h160v-160H620v160ZM180-180h160v-160H180v160Zm440 0h160v-160H620v160Z\"/>\n",
              "  </svg>\n",
              "    </button>\n",
              "\n",
              "  <style>\n",
              "    .colab-df-container {\n",
              "      display:flex;\n",
              "      gap: 12px;\n",
              "    }\n",
              "\n",
              "    .colab-df-convert {\n",
              "      background-color: #E8F0FE;\n",
              "      border: none;\n",
              "      border-radius: 50%;\n",
              "      cursor: pointer;\n",
              "      display: none;\n",
              "      fill: #1967D2;\n",
              "      height: 32px;\n",
              "      padding: 0 0 0 0;\n",
              "      width: 32px;\n",
              "    }\n",
              "\n",
              "    .colab-df-convert:hover {\n",
              "      background-color: #E2EBFA;\n",
              "      box-shadow: 0px 1px 2px rgba(60, 64, 67, 0.3), 0px 1px 3px 1px rgba(60, 64, 67, 0.15);\n",
              "      fill: #174EA6;\n",
              "    }\n",
              "\n",
              "    .colab-df-buttons div {\n",
              "      margin-bottom: 4px;\n",
              "    }\n",
              "\n",
              "    [theme=dark] .colab-df-convert {\n",
              "      background-color: #3B4455;\n",
              "      fill: #D2E3FC;\n",
              "    }\n",
              "\n",
              "    [theme=dark] .colab-df-convert:hover {\n",
              "      background-color: #434B5C;\n",
              "      box-shadow: 0px 1px 3px 1px rgba(0, 0, 0, 0.15);\n",
              "      filter: drop-shadow(0px 1px 2px rgba(0, 0, 0, 0.3));\n",
              "      fill: #FFFFFF;\n",
              "    }\n",
              "  </style>\n",
              "\n",
              "    <script>\n",
              "      const buttonEl =\n",
              "        document.querySelector('#df-7e44ad9e-5996-41d3-8efc-df9d95c34804 button.colab-df-convert');\n",
              "      buttonEl.style.display =\n",
              "        google.colab.kernel.accessAllowed ? 'block' : 'none';\n",
              "\n",
              "      async function convertToInteractive(key) {\n",
              "        const element = document.querySelector('#df-7e44ad9e-5996-41d3-8efc-df9d95c34804');\n",
              "        const dataTable =\n",
              "          await google.colab.kernel.invokeFunction('convertToInteractive',\n",
              "                                                    [key], {});\n",
              "        if (!dataTable) return;\n",
              "\n",
              "        const docLinkHtml = 'Like what you see? Visit the ' +\n",
              "          '<a target=\"_blank\" href=https://colab.research.google.com/notebooks/data_table.ipynb>data table notebook</a>'\n",
              "          + ' to learn more about interactive tables.';\n",
              "        element.innerHTML = '';\n",
              "        dataTable['output_type'] = 'display_data';\n",
              "        await google.colab.output.renderOutput(dataTable, element);\n",
              "        const docLink = document.createElement('div');\n",
              "        docLink.innerHTML = docLinkHtml;\n",
              "        element.appendChild(docLink);\n",
              "      }\n",
              "    </script>\n",
              "  </div>\n",
              "\n",
              "\n",
              "<div id=\"df-c2b7f3de-7a88-4f94-9efa-8f4edfb3657f\">\n",
              "  <button class=\"colab-df-quickchart\" onclick=\"quickchart('df-c2b7f3de-7a88-4f94-9efa-8f4edfb3657f')\"\n",
              "            title=\"Suggest charts\"\n",
              "            style=\"display:none;\">\n",
              "\n",
              "<svg xmlns=\"http://www.w3.org/2000/svg\" height=\"24px\"viewBox=\"0 0 24 24\"\n",
              "     width=\"24px\">\n",
              "    <g>\n",
              "        <path d=\"M19 3H5c-1.1 0-2 .9-2 2v14c0 1.1.9 2 2 2h14c1.1 0 2-.9 2-2V5c0-1.1-.9-2-2-2zM9 17H7v-7h2v7zm4 0h-2V7h2v10zm4 0h-2v-4h2v4z\"/>\n",
              "    </g>\n",
              "</svg>\n",
              "  </button>\n",
              "\n",
              "<style>\n",
              "  .colab-df-quickchart {\n",
              "      --bg-color: #E8F0FE;\n",
              "      --fill-color: #1967D2;\n",
              "      --hover-bg-color: #E2EBFA;\n",
              "      --hover-fill-color: #174EA6;\n",
              "      --disabled-fill-color: #AAA;\n",
              "      --disabled-bg-color: #DDD;\n",
              "  }\n",
              "\n",
              "  [theme=dark] .colab-df-quickchart {\n",
              "      --bg-color: #3B4455;\n",
              "      --fill-color: #D2E3FC;\n",
              "      --hover-bg-color: #434B5C;\n",
              "      --hover-fill-color: #FFFFFF;\n",
              "      --disabled-bg-color: #3B4455;\n",
              "      --disabled-fill-color: #666;\n",
              "  }\n",
              "\n",
              "  .colab-df-quickchart {\n",
              "    background-color: var(--bg-color);\n",
              "    border: none;\n",
              "    border-radius: 50%;\n",
              "    cursor: pointer;\n",
              "    display: none;\n",
              "    fill: var(--fill-color);\n",
              "    height: 32px;\n",
              "    padding: 0;\n",
              "    width: 32px;\n",
              "  }\n",
              "\n",
              "  .colab-df-quickchart:hover {\n",
              "    background-color: var(--hover-bg-color);\n",
              "    box-shadow: 0 1px 2px rgba(60, 64, 67, 0.3), 0 1px 3px 1px rgba(60, 64, 67, 0.15);\n",
              "    fill: var(--button-hover-fill-color);\n",
              "  }\n",
              "\n",
              "  .colab-df-quickchart-complete:disabled,\n",
              "  .colab-df-quickchart-complete:disabled:hover {\n",
              "    background-color: var(--disabled-bg-color);\n",
              "    fill: var(--disabled-fill-color);\n",
              "    box-shadow: none;\n",
              "  }\n",
              "\n",
              "  .colab-df-spinner {\n",
              "    border: 2px solid var(--fill-color);\n",
              "    border-color: transparent;\n",
              "    border-bottom-color: var(--fill-color);\n",
              "    animation:\n",
              "      spin 1s steps(1) infinite;\n",
              "  }\n",
              "\n",
              "  @keyframes spin {\n",
              "    0% {\n",
              "      border-color: transparent;\n",
              "      border-bottom-color: var(--fill-color);\n",
              "      border-left-color: var(--fill-color);\n",
              "    }\n",
              "    20% {\n",
              "      border-color: transparent;\n",
              "      border-left-color: var(--fill-color);\n",
              "      border-top-color: var(--fill-color);\n",
              "    }\n",
              "    30% {\n",
              "      border-color: transparent;\n",
              "      border-left-color: var(--fill-color);\n",
              "      border-top-color: var(--fill-color);\n",
              "      border-right-color: var(--fill-color);\n",
              "    }\n",
              "    40% {\n",
              "      border-color: transparent;\n",
              "      border-right-color: var(--fill-color);\n",
              "      border-top-color: var(--fill-color);\n",
              "    }\n",
              "    60% {\n",
              "      border-color: transparent;\n",
              "      border-right-color: var(--fill-color);\n",
              "    }\n",
              "    80% {\n",
              "      border-color: transparent;\n",
              "      border-right-color: var(--fill-color);\n",
              "      border-bottom-color: var(--fill-color);\n",
              "    }\n",
              "    90% {\n",
              "      border-color: transparent;\n",
              "      border-bottom-color: var(--fill-color);\n",
              "    }\n",
              "  }\n",
              "</style>\n",
              "\n",
              "  <script>\n",
              "    async function quickchart(key) {\n",
              "      const quickchartButtonEl =\n",
              "        document.querySelector('#' + key + ' button');\n",
              "      quickchartButtonEl.disabled = true;  // To prevent multiple clicks.\n",
              "      quickchartButtonEl.classList.add('colab-df-spinner');\n",
              "      try {\n",
              "        const charts = await google.colab.kernel.invokeFunction(\n",
              "            'suggestCharts', [key], {});\n",
              "      } catch (error) {\n",
              "        console.error('Error during call to suggestCharts:', error);\n",
              "      }\n",
              "      quickchartButtonEl.classList.remove('colab-df-spinner');\n",
              "      quickchartButtonEl.classList.add('colab-df-quickchart-complete');\n",
              "    }\n",
              "    (() => {\n",
              "      let quickchartButtonEl =\n",
              "        document.querySelector('#df-c2b7f3de-7a88-4f94-9efa-8f4edfb3657f button');\n",
              "      quickchartButtonEl.style.display =\n",
              "        google.colab.kernel.accessAllowed ? 'block' : 'none';\n",
              "    })();\n",
              "  </script>\n",
              "</div>\n",
              "\n",
              "    </div>\n",
              "  </div>\n"
            ],
            "application/vnd.google.colaboratory.intrinsic+json": {
              "type": "dataframe"
            }
          },
          "metadata": {},
          "execution_count": 53
        }
      ]
    },
    {
      "cell_type": "code",
      "source": [
        "#g = data.dropna(subset=['province_name']).drop_duplicates('cod_prov').set_index('cod_prov')['province_name']\n",
        "#data['cod_prov'] = data['cod_prov'].fillna(data['province_name'].map(g))"
      ],
      "metadata": {
        "id": "g3R2T8Smn3dR"
      },
      "execution_count": null,
      "outputs": []
    },
    {
      "cell_type": "code",
      "execution_count": 54,
      "metadata": {
        "id": "Y_-ZpgXJVxIc"
      },
      "outputs": [],
      "source": [
        "data['new_cust_ındex']=data['new_cust_ındex'].astype(\"float\")\n",
        "data['cust_seniority']=data['cust_seniority'].astype(\"float\")\n",
        "data['age']=data['age'].astype(\"float\")\n",
        "data['cust_type']=data['cust_type'].astype(\"float\")\n",
        "data['primary_cust']=data['primary_cust'].astype(\"float\")\n",
        "data['activity_index']=data['activity_index'].astype(\"float\")\n",
        "data['gross_income']=data['gross_income'].astype(\"float\")"
      ]
    },
    {
      "cell_type": "code",
      "source": [
        "data['age'].head(264)"
      ],
      "metadata": {
        "colab": {
          "base_uri": "https://localhost:8080/"
        },
        "id": "P41pCMNQ1RbN",
        "outputId": "fb5487e3-7f84-4cae-c482-b5f16a7c9adc"
      },
      "execution_count": null,
      "outputs": [
        {
          "output_type": "execute_result",
          "data": {
            "text/plain": [
              "0      35.0\n",
              "1      23.0\n",
              "2      23.0\n",
              "3      22.0\n",
              "4      23.0\n",
              "       ... \n",
              "259    22.0\n",
              "260    23.0\n",
              "261     NaN\n",
              "262    25.0\n",
              "263    23.0\n",
              "Name: age, Length: 264, dtype: float64"
            ]
          },
          "metadata": {},
          "execution_count": 53
        }
      ]
    },
    {
      "cell_type": "code",
      "source": [
        "data['cust_seniority']=data['cust_seniority'].fillna(data['cust_seniority'].mean())\n",
        "data['cust_seniority'].head(264)"
      ],
      "metadata": {
        "colab": {
          "base_uri": "https://localhost:8080/",
          "height": 458
        },
        "id": "JwXdAwhV08te",
        "outputId": "539a26b7-98c8-4118-e824-1f5b5e7509fb"
      },
      "execution_count": 55,
      "outputs": [
        {
          "output_type": "execute_result",
          "data": {
            "text/plain": [
              "0       6.000000\n",
              "1      35.000000\n",
              "2      35.000000\n",
              "3      35.000000\n",
              "4      35.000000\n",
              "         ...    \n",
              "259    35.000000\n",
              "260    35.000000\n",
              "261    93.093975\n",
              "262    35.000000\n",
              "263    35.000000\n",
              "Name: cust_seniority, Length: 264, dtype: float64"
            ],
            "text/html": [
              "<div>\n",
              "<style scoped>\n",
              "    .dataframe tbody tr th:only-of-type {\n",
              "        vertical-align: middle;\n",
              "    }\n",
              "\n",
              "    .dataframe tbody tr th {\n",
              "        vertical-align: top;\n",
              "    }\n",
              "\n",
              "    .dataframe thead th {\n",
              "        text-align: right;\n",
              "    }\n",
              "</style>\n",
              "<table border=\"1\" class=\"dataframe\">\n",
              "  <thead>\n",
              "    <tr style=\"text-align: right;\">\n",
              "      <th></th>\n",
              "      <th>cust_seniority</th>\n",
              "    </tr>\n",
              "  </thead>\n",
              "  <tbody>\n",
              "    <tr>\n",
              "      <th>0</th>\n",
              "      <td>6.000000</td>\n",
              "    </tr>\n",
              "    <tr>\n",
              "      <th>1</th>\n",
              "      <td>35.000000</td>\n",
              "    </tr>\n",
              "    <tr>\n",
              "      <th>2</th>\n",
              "      <td>35.000000</td>\n",
              "    </tr>\n",
              "    <tr>\n",
              "      <th>3</th>\n",
              "      <td>35.000000</td>\n",
              "    </tr>\n",
              "    <tr>\n",
              "      <th>4</th>\n",
              "      <td>35.000000</td>\n",
              "    </tr>\n",
              "    <tr>\n",
              "      <th>...</th>\n",
              "      <td>...</td>\n",
              "    </tr>\n",
              "    <tr>\n",
              "      <th>259</th>\n",
              "      <td>35.000000</td>\n",
              "    </tr>\n",
              "    <tr>\n",
              "      <th>260</th>\n",
              "      <td>35.000000</td>\n",
              "    </tr>\n",
              "    <tr>\n",
              "      <th>261</th>\n",
              "      <td>93.093975</td>\n",
              "    </tr>\n",
              "    <tr>\n",
              "      <th>262</th>\n",
              "      <td>35.000000</td>\n",
              "    </tr>\n",
              "    <tr>\n",
              "      <th>263</th>\n",
              "      <td>35.000000</td>\n",
              "    </tr>\n",
              "  </tbody>\n",
              "</table>\n",
              "<p>264 rows × 1 columns</p>\n",
              "</div><br><label><b>dtype:</b> float64</label>"
            ]
          },
          "metadata": {},
          "execution_count": 55
        }
      ]
    },
    {
      "cell_type": "code",
      "source": [
        "#  Imputation of missing values\n",
        "\n",
        "def impute_missing_values(data):\n",
        "\n",
        "    data['age'] = data['age'].fillna(data['age'].mean())\n",
        "\n",
        "    data['gross_income'].interpolate(method='linear', limit_direction='backward', inplace=True)\n",
        "\n",
        "    categorical_columns = [\n",
        "        'cust_type', 'primary_cust', 'cust_relation_type',\n",
        "        'residence_index', 'foreigner_index', 'channel',\n",
        "        'deceased_index', 'addres_type', 'province_name',\n",
        "        'activity_index', 'payroll', 'a_pension',\n",
        "        'employee_index', 'custom_country_residence',\n",
        "        'sexo', 'new_cust_ındex', 'cod_prov'\n",
        "    ]\n",
        "\n",
        "    for column in categorical_columns:\n",
        "        data[column] = data[column].fillna(method='ffill')\n",
        "\n",
        "    return data\n",
        "\n",
        "# Interpolate backwardly across the column:\n",
        "#data['gross_income'].interpolate(method ='linear', limit_direction ='backward', inplace=True)"
      ],
      "metadata": {
        "id": "TfvAVYqkJIz9"
      },
      "execution_count": 66,
      "outputs": []
    },
    {
      "cell_type": "code",
      "source": [
        "def convert_columns_to_int64(data, columns):\n",
        "\n",
        "    for column in columns:\n",
        "        data[column] = data[column].astype(\"int64\")\n",
        "\n",
        "    return data\n",
        "\n",
        "columns_to_convert = [\n",
        "    'ıd', 'cust_code', 'cust_seniority', 'age', 'cust_type',\n",
        "    'activity_index', 'gross_income', 'save_account', 'current_account',\n",
        "    'derivada_account', 'payroll_account', 'junior_account',\n",
        "    'mas_particu_account', 'particu_account', 'particu_plus_account',\n",
        "    'short_term_deposit', 'medium_term_deposit', 'long_term_deposit',\n",
        "    'e_account', 'funds', 'mortgage', 'pensions', 'loans',\n",
        "    'taxes', 'credit_card', 'securities', 'home_account',\n",
        "    'payroll', 'a_pension', 'direct_debit'\n",
        "]\n",
        "\n",
        "data = convert_columns_to_int64(data, columns_to_convert)"
      ],
      "metadata": {
        "id": "Cf5XcphzJ4TK"
      },
      "execution_count": 64,
      "outputs": []
    },
    {
      "cell_type": "code",
      "execution_count": 65,
      "metadata": {
        "colab": {
          "base_uri": "https://localhost:8080/"
        },
        "id": "XH9sV-HrVcY8",
        "outputId": "8fe43cc3-491a-4e1c-c4d2-e3b7500a4454"
      },
      "outputs": [
        {
          "output_type": "stream",
          "name": "stdout",
          "text": [
            "<class 'pandas.core.frame.DataFrame'>\n",
            "RangeIndex: 1000000 entries, 0 to 999999\n",
            "Data columns (total 45 columns):\n",
            " #   Column                    Non-Null Count    Dtype         \n",
            "---  ------                    --------------    -----         \n",
            " 0   ıd                        1000000 non-null  int64         \n",
            " 1   fecha_dato                1000000 non-null  datetime64[ns]\n",
            " 2   cust_code                 1000000 non-null  int64         \n",
            " 3   employee_index            1000000 non-null  object        \n",
            " 4   custom_country_residence  1000000 non-null  object        \n",
            " 5   sexo                      1000000 non-null  object        \n",
            " 6   age                       1000000 non-null  int64         \n",
            " 7   date_regist               1000000 non-null  datetime64[ns]\n",
            " 8   new_cust_ındex            1000000 non-null  float64       \n",
            " 9   cust_seniority            1000000 non-null  int64         \n",
            " 10  primary_cust              1000000 non-null  float64       \n",
            " 11  cust_type                 1000000 non-null  int64         \n",
            " 12  cust_relation_type        1000000 non-null  object        \n",
            " 13  residence_index           1000000 non-null  object        \n",
            " 14  foreigner_index           1000000 non-null  object        \n",
            " 15  channel                   1000000 non-null  object        \n",
            " 16  deceased_index            1000000 non-null  object        \n",
            " 17  addres_type               1000000 non-null  object        \n",
            " 18  cod_prov                  1000000 non-null  object        \n",
            " 19  province_name             1000000 non-null  object        \n",
            " 20  activity_index            1000000 non-null  int64         \n",
            " 21  gross_income              1000000 non-null  int64         \n",
            " 22  save_account              1000000 non-null  int64         \n",
            " 23  current_account           1000000 non-null  int64         \n",
            " 24  derivada_account          1000000 non-null  int64         \n",
            " 25  payroll_account           1000000 non-null  int64         \n",
            " 26  junior_account            1000000 non-null  int64         \n",
            " 27  mas_particu_account       1000000 non-null  int64         \n",
            " 28  particu_account           1000000 non-null  int64         \n",
            " 29  particu_plus_account      1000000 non-null  int64         \n",
            " 30  short_term_deposit        1000000 non-null  int64         \n",
            " 31  medium_term_deposit       1000000 non-null  int64         \n",
            " 32  long_term_deposit         1000000 non-null  int64         \n",
            " 33  e_account                 1000000 non-null  int64         \n",
            " 34  funds                     1000000 non-null  int64         \n",
            " 35  mortgage                  1000000 non-null  int64         \n",
            " 36  pensions                  1000000 non-null  int64         \n",
            " 37  loans                     1000000 non-null  int64         \n",
            " 38  taxes                     1000000 non-null  int64         \n",
            " 39  credit_card               1000000 non-null  int64         \n",
            " 40  securities                1000000 non-null  int64         \n",
            " 41  home_account              1000000 non-null  int64         \n",
            " 42  payroll                   1000000 non-null  int64         \n",
            " 43  a_pension                 1000000 non-null  int64         \n",
            " 44  direct_debit              1000000 non-null  int64         \n",
            "dtypes: datetime64[ns](2), float64(2), int64(30), object(11)\n",
            "memory usage: 343.3+ MB\n"
          ]
        }
      ],
      "source": [
        "data.info()"
      ]
    },
    {
      "cell_type": "code",
      "execution_count": 67,
      "metadata": {
        "colab": {
          "base_uri": "https://localhost:8080/",
          "height": 1000
        },
        "id": "qXAWZocaEbb7",
        "outputId": "d3999199-1e75-49b1-84b5-e8e6f5e57fe6"
      },
      "outputs": [
        {
          "output_type": "execute_result",
          "data": {
            "text/plain": [
              "ıd                          0\n",
              "fecha_dato                  0\n",
              "cust_code                   0\n",
              "employee_index              0\n",
              "custom_country_residence    0\n",
              "sexo                        0\n",
              "age                         0\n",
              "date_regist                 0\n",
              "new_cust_ındex              0\n",
              "cust_seniority              0\n",
              "primary_cust                0\n",
              "cust_type                   0\n",
              "cust_relation_type          0\n",
              "residence_index             0\n",
              "foreigner_index             0\n",
              "channel                     0\n",
              "deceased_index              0\n",
              "addres_type                 0\n",
              "cod_prov                    0\n",
              "province_name               0\n",
              "activity_index              0\n",
              "gross_income                0\n",
              "save_account                0\n",
              "current_account             0\n",
              "derivada_account            0\n",
              "payroll_account             0\n",
              "junior_account              0\n",
              "mas_particu_account         0\n",
              "particu_account             0\n",
              "particu_plus_account        0\n",
              "short_term_deposit          0\n",
              "medium_term_deposit         0\n",
              "long_term_deposit           0\n",
              "e_account                   0\n",
              "funds                       0\n",
              "mortgage                    0\n",
              "pensions                    0\n",
              "loans                       0\n",
              "taxes                       0\n",
              "credit_card                 0\n",
              "securities                  0\n",
              "home_account                0\n",
              "payroll                     0\n",
              "a_pension                   0\n",
              "direct_debit                0\n",
              "dtype: int64"
            ],
            "text/html": [
              "<div>\n",
              "<style scoped>\n",
              "    .dataframe tbody tr th:only-of-type {\n",
              "        vertical-align: middle;\n",
              "    }\n",
              "\n",
              "    .dataframe tbody tr th {\n",
              "        vertical-align: top;\n",
              "    }\n",
              "\n",
              "    .dataframe thead th {\n",
              "        text-align: right;\n",
              "    }\n",
              "</style>\n",
              "<table border=\"1\" class=\"dataframe\">\n",
              "  <thead>\n",
              "    <tr style=\"text-align: right;\">\n",
              "      <th></th>\n",
              "      <th>0</th>\n",
              "    </tr>\n",
              "  </thead>\n",
              "  <tbody>\n",
              "    <tr>\n",
              "      <th>ıd</th>\n",
              "      <td>0</td>\n",
              "    </tr>\n",
              "    <tr>\n",
              "      <th>fecha_dato</th>\n",
              "      <td>0</td>\n",
              "    </tr>\n",
              "    <tr>\n",
              "      <th>cust_code</th>\n",
              "      <td>0</td>\n",
              "    </tr>\n",
              "    <tr>\n",
              "      <th>employee_index</th>\n",
              "      <td>0</td>\n",
              "    </tr>\n",
              "    <tr>\n",
              "      <th>custom_country_residence</th>\n",
              "      <td>0</td>\n",
              "    </tr>\n",
              "    <tr>\n",
              "      <th>sexo</th>\n",
              "      <td>0</td>\n",
              "    </tr>\n",
              "    <tr>\n",
              "      <th>age</th>\n",
              "      <td>0</td>\n",
              "    </tr>\n",
              "    <tr>\n",
              "      <th>date_regist</th>\n",
              "      <td>0</td>\n",
              "    </tr>\n",
              "    <tr>\n",
              "      <th>new_cust_ındex</th>\n",
              "      <td>0</td>\n",
              "    </tr>\n",
              "    <tr>\n",
              "      <th>cust_seniority</th>\n",
              "      <td>0</td>\n",
              "    </tr>\n",
              "    <tr>\n",
              "      <th>primary_cust</th>\n",
              "      <td>0</td>\n",
              "    </tr>\n",
              "    <tr>\n",
              "      <th>cust_type</th>\n",
              "      <td>0</td>\n",
              "    </tr>\n",
              "    <tr>\n",
              "      <th>cust_relation_type</th>\n",
              "      <td>0</td>\n",
              "    </tr>\n",
              "    <tr>\n",
              "      <th>residence_index</th>\n",
              "      <td>0</td>\n",
              "    </tr>\n",
              "    <tr>\n",
              "      <th>foreigner_index</th>\n",
              "      <td>0</td>\n",
              "    </tr>\n",
              "    <tr>\n",
              "      <th>channel</th>\n",
              "      <td>0</td>\n",
              "    </tr>\n",
              "    <tr>\n",
              "      <th>deceased_index</th>\n",
              "      <td>0</td>\n",
              "    </tr>\n",
              "    <tr>\n",
              "      <th>addres_type</th>\n",
              "      <td>0</td>\n",
              "    </tr>\n",
              "    <tr>\n",
              "      <th>cod_prov</th>\n",
              "      <td>0</td>\n",
              "    </tr>\n",
              "    <tr>\n",
              "      <th>province_name</th>\n",
              "      <td>0</td>\n",
              "    </tr>\n",
              "    <tr>\n",
              "      <th>activity_index</th>\n",
              "      <td>0</td>\n",
              "    </tr>\n",
              "    <tr>\n",
              "      <th>gross_income</th>\n",
              "      <td>0</td>\n",
              "    </tr>\n",
              "    <tr>\n",
              "      <th>save_account</th>\n",
              "      <td>0</td>\n",
              "    </tr>\n",
              "    <tr>\n",
              "      <th>current_account</th>\n",
              "      <td>0</td>\n",
              "    </tr>\n",
              "    <tr>\n",
              "      <th>derivada_account</th>\n",
              "      <td>0</td>\n",
              "    </tr>\n",
              "    <tr>\n",
              "      <th>payroll_account</th>\n",
              "      <td>0</td>\n",
              "    </tr>\n",
              "    <tr>\n",
              "      <th>junior_account</th>\n",
              "      <td>0</td>\n",
              "    </tr>\n",
              "    <tr>\n",
              "      <th>mas_particu_account</th>\n",
              "      <td>0</td>\n",
              "    </tr>\n",
              "    <tr>\n",
              "      <th>particu_account</th>\n",
              "      <td>0</td>\n",
              "    </tr>\n",
              "    <tr>\n",
              "      <th>particu_plus_account</th>\n",
              "      <td>0</td>\n",
              "    </tr>\n",
              "    <tr>\n",
              "      <th>short_term_deposit</th>\n",
              "      <td>0</td>\n",
              "    </tr>\n",
              "    <tr>\n",
              "      <th>medium_term_deposit</th>\n",
              "      <td>0</td>\n",
              "    </tr>\n",
              "    <tr>\n",
              "      <th>long_term_deposit</th>\n",
              "      <td>0</td>\n",
              "    </tr>\n",
              "    <tr>\n",
              "      <th>e_account</th>\n",
              "      <td>0</td>\n",
              "    </tr>\n",
              "    <tr>\n",
              "      <th>funds</th>\n",
              "      <td>0</td>\n",
              "    </tr>\n",
              "    <tr>\n",
              "      <th>mortgage</th>\n",
              "      <td>0</td>\n",
              "    </tr>\n",
              "    <tr>\n",
              "      <th>pensions</th>\n",
              "      <td>0</td>\n",
              "    </tr>\n",
              "    <tr>\n",
              "      <th>loans</th>\n",
              "      <td>0</td>\n",
              "    </tr>\n",
              "    <tr>\n",
              "      <th>taxes</th>\n",
              "      <td>0</td>\n",
              "    </tr>\n",
              "    <tr>\n",
              "      <th>credit_card</th>\n",
              "      <td>0</td>\n",
              "    </tr>\n",
              "    <tr>\n",
              "      <th>securities</th>\n",
              "      <td>0</td>\n",
              "    </tr>\n",
              "    <tr>\n",
              "      <th>home_account</th>\n",
              "      <td>0</td>\n",
              "    </tr>\n",
              "    <tr>\n",
              "      <th>payroll</th>\n",
              "      <td>0</td>\n",
              "    </tr>\n",
              "    <tr>\n",
              "      <th>a_pension</th>\n",
              "      <td>0</td>\n",
              "    </tr>\n",
              "    <tr>\n",
              "      <th>direct_debit</th>\n",
              "      <td>0</td>\n",
              "    </tr>\n",
              "  </tbody>\n",
              "</table>\n",
              "</div><br><label><b>dtype:</b> int64</label>"
            ]
          },
          "metadata": {},
          "execution_count": 67
        }
      ],
      "source": [
        "data.isnull().sum()"
      ]
    },
    {
      "cell_type": "code",
      "source": [
        "data.duplicated().sum()"
      ],
      "metadata": {
        "colab": {
          "base_uri": "https://localhost:8080/"
        },
        "id": "lYjLDqShAiPe",
        "outputId": "47728e78-9bb0-4873-d58c-49d92325c9fa"
      },
      "execution_count": 68,
      "outputs": [
        {
          "output_type": "execute_result",
          "data": {
            "text/plain": [
              "0"
            ]
          },
          "metadata": {},
          "execution_count": 68
        }
      ]
    },
    {
      "cell_type": "code",
      "source": [
        "#outliers values\n",
        "plt.figure(figsize=(20,15))\n",
        "ax=sns.boxplot(data = data, palette='BuPu')\n",
        "ax.set_xticklabels(ax.get_xticklabels(),rotation=90)\n",
        "\n",
        "plt.show()"
      ],
      "metadata": {
        "colab": {
          "base_uri": "https://localhost:8080/",
          "height": 1000
        },
        "id": "8TLYfWNZxeHa",
        "outputId": "a2929537-e248-480f-9c55-128fcce84789"
      },
      "execution_count": 69,
      "outputs": [
        {
          "output_type": "stream",
          "name": "stderr",
          "text": [
            "<ipython-input-69-6f2d898bfdcf>:4: UserWarning: set_ticklabels() should only be used with a fixed number of ticks, i.e. after set_ticks() or using a FixedLocator.\n",
            "  ax.set_xticklabels(ax.get_xticklabels(),rotation=90)\n"
          ]
        },
        {
          "output_type": "display_data",
          "data": {
            "text/plain": [
              "<Figure size 2000x1500 with 1 Axes>"
            ],
            "image/png": "[encoded data removed]"
          },
          "metadata": {}
        }
      ]
    },
    {
      "cell_type": "code",
      "source": [
        "numeric_value = data.select_dtypes(exclude=\"object\")\n",
        "numeric_value.shape"
      ],
      "metadata": {
        "colab": {
          "base_uri": "https://localhost:8080/"
        },
        "id": "4mirz2lzJkIn",
        "outputId": "57eef407-d610-4412-e257-0e165c6b6657"
      },
      "execution_count": 70,
      "outputs": [
        {
          "output_type": "execute_result",
          "data": {
            "text/plain": [
              "(1000000, 34)"
            ]
          },
          "metadata": {},
          "execution_count": 70
        }
      ]
    },
    {
      "cell_type": "code",
      "source": [
        "numeric_list=['gross_income']\n"
      ],
      "metadata": {
        "id": "Lta-pSUdJDDY"
      },
      "execution_count": 71,
      "outputs": []
    },
    {
      "cell_type": "code",
      "source": [
        "#detecting outliers\n",
        "for variables in numeric_list:\n",
        "   q1= numeric_value[variables].quantile(.25)\n",
        "   q3 =numeric_value[variables].quantile(.75)\n",
        "   med=np.median(numeric_value[variables])\n",
        "   iqr = q3 - q1\n",
        "\n",
        "   lower_limit = q1 - (1.5 * iqr)\n",
        "   upper_limit = q3 + (1.5 * iqr)\n",
        "\n",
        "   outliers=numeric_value.index[(numeric_value[variables]>upper_limit) | (numeric_value[variables]<lower_limit)]\n",
        "\n",
        "   #outliers suppression\n",
        "   outliers = (numeric_value[variables] < (lower_limit))\n",
        "   outliers = (numeric_value[variables] > (upper_limit))\n",
        "\n",
        "   numeric_value[outliers] = lower_limit\n",
        "   numeric_value[outliers] = upper_limit"
      ],
      "metadata": {
        "id": "m6UON1wav_qm",
        "colab": {
          "base_uri": "https://localhost:8080/"
        },
        "outputId": "dfe81634-6e1c-4297-e775-c17d774096df"
      },
      "execution_count": 72,
      "outputs": [
        {
          "output_type": "stream",
          "name": "stderr",
          "text": [
            "<ipython-input-72-725b7598c394>:17: FutureWarning: Setting an item of incompatible dtype is deprecated and will raise an error in a future version of pandas. Value '-59429.125' has dtype incompatible with int64, please explicitly cast to a compatible dtype first.\n",
            "  numeric_value[outliers] = lower_limit\n",
            "<ipython-input-72-725b7598c394>:17: FutureWarning: Setting an item of incompatible dtype is deprecated and will raise an error in a future version of pandas. Value '-59429.125' has dtype incompatible with datetime64[ns], please explicitly cast to a compatible dtype first.\n",
            "  numeric_value[outliers] = lower_limit\n",
            "<ipython-input-72-725b7598c394>:17: FutureWarning: Setting an item of incompatible dtype is deprecated and will raise an error in a future version of pandas. Value '-59429.125' has dtype incompatible with int64, please explicitly cast to a compatible dtype first.\n",
            "  numeric_value[outliers] = lower_limit\n",
            "<ipython-input-72-725b7598c394>:17: FutureWarning: Setting an item of incompatible dtype is deprecated and will raise an error in a future version of pandas. Value '-59429.125' has dtype incompatible with int64, please explicitly cast to a compatible dtype first.\n",
            "  numeric_value[outliers] = lower_limit\n",
            "<ipython-input-72-725b7598c394>:17: FutureWarning: Setting an item of incompatible dtype is deprecated and will raise an error in a future version of pandas. Value '-59429.125' has dtype incompatible with datetime64[ns], please explicitly cast to a compatible dtype first.\n",
            "  numeric_value[outliers] = lower_limit\n",
            "<ipython-input-72-725b7598c394>:17: FutureWarning: Setting an item of incompatible dtype is deprecated and will raise an error in a future version of pandas. Value '-59429.125' has dtype incompatible with int64, please explicitly cast to a compatible dtype first.\n",
            "  numeric_value[outliers] = lower_limit\n",
            "<ipython-input-72-725b7598c394>:17: FutureWarning: Setting an item of incompatible dtype is deprecated and will raise an error in a future version of pandas. Value '-59429.125' has dtype incompatible with int64, please explicitly cast to a compatible dtype first.\n",
            "  numeric_value[outliers] = lower_limit\n",
            "<ipython-input-72-725b7598c394>:17: FutureWarning: Setting an item of incompatible dtype is deprecated and will raise an error in a future version of pandas. Value '-59429.125' has dtype incompatible with int64, please explicitly cast to a compatible dtype first.\n",
            "  numeric_value[outliers] = lower_limit\n",
            "<ipython-input-72-725b7598c394>:17: FutureWarning: Setting an item of incompatible dtype is deprecated and will raise an error in a future version of pandas. Value '-59429.125' has dtype incompatible with int64, please explicitly cast to a compatible dtype first.\n",
            "  numeric_value[outliers] = lower_limit\n",
            "<ipython-input-72-725b7598c394>:17: FutureWarning: Setting an item of incompatible dtype is deprecated and will raise an error in a future version of pandas. Value '-59429.125' has dtype incompatible with int64, please explicitly cast to a compatible dtype first.\n",
            "  numeric_value[outliers] = lower_limit\n",
            "<ipython-input-72-725b7598c394>:17: FutureWarning: Setting an item of incompatible dtype is deprecated and will raise an error in a future version of pandas. Value '-59429.125' has dtype incompatible with int64, please explicitly cast to a compatible dtype first.\n",
            "  numeric_value[outliers] = lower_limit\n",
            "<ipython-input-72-725b7598c394>:17: FutureWarning: Setting an item of incompatible dtype is deprecated and will raise an error in a future version of pandas. Value '-59429.125' has dtype incompatible with int64, please explicitly cast to a compatible dtype first.\n",
            "  numeric_value[outliers] = lower_limit\n",
            "<ipython-input-72-725b7598c394>:17: FutureWarning: Setting an item of incompatible dtype is deprecated and will raise an error in a future version of pandas. Value '-59429.125' has dtype incompatible with int64, please explicitly cast to a compatible dtype first.\n",
            "  numeric_value[outliers] = lower_limit\n",
            "<ipython-input-72-725b7598c394>:17: FutureWarning: Setting an item of incompatible dtype is deprecated and will raise an error in a future version of pandas. Value '-59429.125' has dtype incompatible with int64, please explicitly cast to a compatible dtype first.\n",
            "  numeric_value[outliers] = lower_limit\n",
            "<ipython-input-72-725b7598c394>:17: FutureWarning: Setting an item of incompatible dtype is deprecated and will raise an error in a future version of pandas. Value '-59429.125' has dtype incompatible with int64, please explicitly cast to a compatible dtype first.\n",
            "  numeric_value[outliers] = lower_limit\n",
            "<ipython-input-72-725b7598c394>:17: FutureWarning: Setting an item of incompatible dtype is deprecated and will raise an error in a future version of pandas. Value '-59429.125' has dtype incompatible with int64, please explicitly cast to a compatible dtype first.\n",
            "  numeric_value[outliers] = lower_limit\n",
            "<ipython-input-72-725b7598c394>:17: FutureWarning: Setting an item of incompatible dtype is deprecated and will raise an error in a future version of pandas. Value '-59429.125' has dtype incompatible with int64, please explicitly cast to a compatible dtype first.\n",
            "  numeric_value[outliers] = lower_limit\n",
            "<ipython-input-72-725b7598c394>:17: FutureWarning: Setting an item of incompatible dtype is deprecated and will raise an error in a future version of pandas. Value '-59429.125' has dtype incompatible with int64, please explicitly cast to a compatible dtype first.\n",
            "  numeric_value[outliers] = lower_limit\n",
            "<ipython-input-72-725b7598c394>:17: FutureWarning: Setting an item of incompatible dtype is deprecated and will raise an error in a future version of pandas. Value '-59429.125' has dtype incompatible with int64, please explicitly cast to a compatible dtype first.\n",
            "  numeric_value[outliers] = lower_limit\n",
            "<ipython-input-72-725b7598c394>:17: FutureWarning: Setting an item of incompatible dtype is deprecated and will raise an error in a future version of pandas. Value '-59429.125' has dtype incompatible with int64, please explicitly cast to a compatible dtype first.\n",
            "  numeric_value[outliers] = lower_limit\n",
            "<ipython-input-72-725b7598c394>:17: FutureWarning: Setting an item of incompatible dtype is deprecated and will raise an error in a future version of pandas. Value '-59429.125' has dtype incompatible with int64, please explicitly cast to a compatible dtype first.\n",
            "  numeric_value[outliers] = lower_limit\n",
            "<ipython-input-72-725b7598c394>:17: FutureWarning: Setting an item of incompatible dtype is deprecated and will raise an error in a future version of pandas. Value '-59429.125' has dtype incompatible with int64, please explicitly cast to a compatible dtype first.\n",
            "  numeric_value[outliers] = lower_limit\n",
            "<ipython-input-72-725b7598c394>:17: FutureWarning: Setting an item of incompatible dtype is deprecated and will raise an error in a future version of pandas. Value '-59429.125' has dtype incompatible with int64, please explicitly cast to a compatible dtype first.\n",
            "  numeric_value[outliers] = lower_limit\n",
            "<ipython-input-72-725b7598c394>:17: FutureWarning: Setting an item of incompatible dtype is deprecated and will raise an error in a future version of pandas. Value '-59429.125' has dtype incompatible with int64, please explicitly cast to a compatible dtype first.\n",
            "  numeric_value[outliers] = lower_limit\n",
            "<ipython-input-72-725b7598c394>:17: FutureWarning: Setting an item of incompatible dtype is deprecated and will raise an error in a future version of pandas. Value '-59429.125' has dtype incompatible with int64, please explicitly cast to a compatible dtype first.\n",
            "  numeric_value[outliers] = lower_limit\n",
            "<ipython-input-72-725b7598c394>:17: FutureWarning: Setting an item of incompatible dtype is deprecated and will raise an error in a future version of pandas. Value '-59429.125' has dtype incompatible with int64, please explicitly cast to a compatible dtype first.\n",
            "  numeric_value[outliers] = lower_limit\n",
            "<ipython-input-72-725b7598c394>:17: FutureWarning: Setting an item of incompatible dtype is deprecated and will raise an error in a future version of pandas. Value '-59429.125' has dtype incompatible with int64, please explicitly cast to a compatible dtype first.\n",
            "  numeric_value[outliers] = lower_limit\n",
            "<ipython-input-72-725b7598c394>:17: FutureWarning: Setting an item of incompatible dtype is deprecated and will raise an error in a future version of pandas. Value '-59429.125' has dtype incompatible with int64, please explicitly cast to a compatible dtype first.\n",
            "  numeric_value[outliers] = lower_limit\n",
            "<ipython-input-72-725b7598c394>:17: FutureWarning: Setting an item of incompatible dtype is deprecated and will raise an error in a future version of pandas. Value '-59429.125' has dtype incompatible with int64, please explicitly cast to a compatible dtype first.\n",
            "  numeric_value[outliers] = lower_limit\n",
            "<ipython-input-72-725b7598c394>:17: FutureWarning: Setting an item of incompatible dtype is deprecated and will raise an error in a future version of pandas. Value '-59429.125' has dtype incompatible with int64, please explicitly cast to a compatible dtype first.\n",
            "  numeric_value[outliers] = lower_limit\n",
            "<ipython-input-72-725b7598c394>:17: FutureWarning: Setting an item of incompatible dtype is deprecated and will raise an error in a future version of pandas. Value '-59429.125' has dtype incompatible with int64, please explicitly cast to a compatible dtype first.\n",
            "  numeric_value[outliers] = lower_limit\n",
            "<ipython-input-72-725b7598c394>:17: FutureWarning: Setting an item of incompatible dtype is deprecated and will raise an error in a future version of pandas. Value '-59429.125' has dtype incompatible with int64, please explicitly cast to a compatible dtype first.\n",
            "  numeric_value[outliers] = lower_limit\n"
          ]
        }
      ]
    },
    {
      "cell_type": "code",
      "source": [
        "unique_value = data.nunique()\n",
        "print(\"Number of unique values:\\n{}\".format(unique_value))"
      ],
      "metadata": {
        "colab": {
          "base_uri": "https://localhost:8080/"
        },
        "id": "dwMuj_n0w84r",
        "outputId": "914b34d4-91a0-4640-9078-1ac23f226df5"
      },
      "execution_count": 74,
      "outputs": [
        {
          "output_type": "stream",
          "name": "stdout",
          "text": [
            "Number of unique values:\n",
            "ıd                          1000000\n",
            "fecha_dato                        2\n",
            "cust_code                    626159\n",
            "employee_index                    5\n",
            "custom_country_residence        113\n",
            "sexo                              2\n",
            "age                             114\n",
            "date_regist                       2\n",
            "new_cust_ındex                    2\n",
            "cust_seniority                  248\n",
            "primary_cust                      2\n",
            "cust_type                         3\n",
            "cust_relation_type                3\n",
            "residence_index                   2\n",
            "foreigner_index                   2\n",
            "channel                         156\n",
            "deceased_index                    2\n",
            "addres_type                       1\n",
            "cod_prov                         52\n",
            "province_name                    52\n",
            "activity_index                    2\n",
            "gross_income                 216084\n",
            "save_account                      2\n",
            "current_account                   2\n",
            "derivada_account                  2\n",
            "payroll_account                   2\n",
            "junior_account                    2\n",
            "mas_particu_account               2\n",
            "particu_account                   2\n",
            "particu_plus_account              2\n",
            "short_term_deposit                2\n",
            "medium_term_deposit               2\n",
            "long_term_deposit                 2\n",
            "e_account                         2\n",
            "funds                             2\n",
            "mortgage                          2\n",
            "pensions                          2\n",
            "loans                             2\n",
            "taxes                             2\n",
            "credit_card                       2\n",
            "securities                        2\n",
            "home_account                      2\n",
            "payroll                           2\n",
            "a_pension                         2\n",
            "direct_debit                      2\n",
            "dtype: int64\n"
          ]
        }
      ]
    },
    {
      "cell_type": "code",
      "source": [
        "print(\"Unique values in each categorical column:\")\n",
        "for col in data.select_dtypes(include=[object]):\n",
        "    print(col,\":\", data[col].unique())"
      ],
      "metadata": {
        "colab": {
          "base_uri": "https://localhost:8080/"
        },
        "id": "JRisHByrxbEg",
        "outputId": "e8c7b793-7750-4f90-f610-2a44e807fdf8"
      },
      "execution_count": 75,
      "outputs": [
        {
          "output_type": "stream",
          "name": "stdout",
          "text": [
            "Unique values in each categorical column:\n",
            "employee_index : ['N' 'A' 'B' 'F' 'S']\n",
            "custom_country_residence : ['ES' 'CA' 'CH' 'CL' 'IE' 'AT' 'NL' 'FR' 'GB' 'DE' 'DO' 'BE' 'AR' 'VE'\n",
            " 'US' 'MX' 'BR' 'IT' 'EC' 'PE' 'CO' 'HN' 'FI' 'SE' 'AL' 'PT' 'MZ' 'CN'\n",
            " 'TW' 'PL' 'IN' 'CR' 'NI' 'HK' 'AD' 'CZ' 'AE' 'MA' 'GR' 'PR' 'RO' 'IL'\n",
            " 'RU' 'GT' 'GA' 'NO' 'SN' 'MR' 'UA' 'BG' 'PY' 'EE' 'SV' 'ET' 'CM' 'SA'\n",
            " 'CI' 'QA' 'LU' 'PA' 'BA' 'BO' 'AU' 'BY' 'KE' 'SG' 'HR' 'MD' 'SK' 'TR'\n",
            " 'AO' 'CU' 'GQ' 'EG' 'ZA' 'DK' 'UY' 'GE' 'TH' 'DZ' 'LB' 'JP' 'NG' 'PK'\n",
            " 'TN' 'TG' 'KR' 'GH' 'RS' 'VN' 'PH' 'KW' 'NZ' 'MM' 'KH' 'GI' 'SL' 'GN'\n",
            " 'GW' 'OM' 'CG' 'LV' 'LT' 'ML' 'MK' 'HU' 'IS' 'LY' 'CF' 'GM' 'KZ' 'CD'\n",
            " 'BZ']\n",
            "sexo : ['H' 'V']\n",
            "cust_relation_type : ['A' 'I' 'P']\n",
            "residence_index : ['Yes' 'No']\n",
            "foreigner_index : ['No' 'Yes']\n",
            "channel : ['KHL' 'KHE' 'KHD' 'KFA' 'KFC' 'KAT' 'KAZ' 'RED' 'KHC' 'KHK' 'KGN' 'KHM'\n",
            " 'KHO' 'KDH' 'KEH' 'KAD' 'KBG' 'KGC' 'KHF' 'KFK' 'KHN' 'KHA' 'KAF' 'KGX'\n",
            " 'KFD' 'KAG' 'KFG' 'KAB' 'KCC' 'KAE' 'KAH' 'KAR' 'KFJ' 'KFL' 'KAI' 'KFU'\n",
            " 'KAQ' 'KFS' 'KAA' 'KFP' 'KAJ' 'KFN' 'KGV' 'KGY' 'KFF' 'KAP' 'KDE' 'KFV'\n",
            " '13' 'K00' 'KAK' 'KCK' 'KCL' 'KAY' 'KBU' 'KDR' 'KAC' 'KDT' 'KCG' 'KDO'\n",
            " 'KDY' 'KBQ' 'KDA' 'KBO' 'KCI' 'KEC' 'KBZ' 'KES' 'KDX' 'KAS' '7' 'KEU'\n",
            " 'KCA' 'KAL' 'KDC' 'KAW' 'KCS' 'KCB' 'KDU' 'KDQ' 'KCN' 'KCM' '4' 'KCH'\n",
            " 'KCD' 'KCE' 'KEV' 'KBL' 'KEA' 'KBH' 'KDV' 'KFT' 'KEY' 'KAO' 'KEJ' 'KEO'\n",
            " 'KEI' 'KEW' 'KDZ' 'KBV' 'KBR' 'KBF' 'KDP' 'KCO' 'KCF' 'KCV' 'KAM' 'KEZ'\n",
            " 'KBD' 'KAN' 'KBY' 'KCT' 'KDD' 'KBW' 'KCU' 'KBX' 'KDB' 'KBS' 'KBE' 'KCX'\n",
            " 'KBP' 'KBN' 'KEB' 'KDS' 'KEL' 'KDG' 'KDF' 'KEF' 'KCP' 'KDM' 'KBB' 'KDW'\n",
            " 'KBJ' 'KFI' 'KBM' 'KEG' 'KEN' 'KEQ' 'KAV' 'KFH' 'KFM' 'KAU' 'KED' 'KFR'\n",
            " 'KEK' 'KFB' 'KGW' 'KFE' 'KGU' 'KDI' 'KDN' 'KEE' 'KCR' 'KCQ' 'KEM' 'KCJ']\n",
            "deceased_index : ['N' 'S']\n",
            "addres_type : ['1']\n",
            "cod_prov : ['29' '13' '50' '45' '24' '20' '10' '17' '49' '8' '37' '9' '22' '31' '5'\n",
            " '40' '27' '25' '28' '3' '42' '41' '39' '7' '47' '36' '46' '44' '15' '32'\n",
            " '23' '16' '48' '12' '26' '2' '6' '30' '11' '4' '19' '34' '35' '14' '21'\n",
            " '18' '33' '38' '52' '43' '1' '51']\n",
            "province_name : ['MALAGA' 'CIUDAD REAL' 'ZARAGOZA' 'TOLEDO' 'LEON' 'GIPUZKOA' 'CACERES'\n",
            " 'GIRONA' 'ZAMORA' 'BARCELONA' 'SALAMANCA' 'BURGOS' 'HUESCA' 'NAVARRA'\n",
            " 'AVILA' 'SEGOVIA' 'LUGO' 'LERIDA' 'MADRID' 'ALICANTE' 'SORIA' 'SEVILLA'\n",
            " 'CANTABRIA' 'BALEARS' 'VALLADOLID' 'PONTEVEDRA' 'VALENCIA' 'TERUEL'\n",
            " 'CORUA' 'OURENSE' 'JAEN' 'CUENCA' 'BIZKAIA' 'CASTELLON' 'RIOJA'\n",
            " 'ALBACETE' 'BADAJOZ' 'MURCIA' 'CADIZ' 'ALMERIA' 'GUADALAJARA' 'PALENCIA'\n",
            " 'PALMAS' 'CORDOBA' 'HUELVA' 'GRANADA' 'ASTURIAS' 'SANTA CRUZ DE TENERIFE'\n",
            " 'MELILLA' 'TARRAGONA' 'ALAVA' 'CEUTA']\n"
          ]
        }
      ]
    },
    {
      "cell_type": "code",
      "source": [
        "data.describe().T"
      ],
      "metadata": {
        "colab": {
          "base_uri": "https://localhost:8080/",
          "height": 1000
        },
        "id": "nyFYI_KG3ooY",
        "outputId": "cc1f58f7-5bbf-464a-b824-5e121a66bb9f"
      },
      "execution_count": 76,
      "outputs": [
        {
          "output_type": "execute_result",
          "data": {
            "text/plain": [
              "                          count                        mean  \\\n",
              "ıd                    1000000.0                    499999.5   \n",
              "fecha_dato              1000000  2015-02-08 14:39:35.971200   \n",
              "cust_code             1000000.0               690596.670395   \n",
              "age                   1000000.0                   43.266717   \n",
              "date_regist             1000000  2015-02-08 14:39:35.971200   \n",
              "new_cust_ındex        1000000.0                    0.000496   \n",
              "cust_seniority        1000000.0                   93.092962   \n",
              "primary_cust          1000000.0                    1.109172   \n",
              "cust_type             1000000.0                    1.000088   \n",
              "activity_index        1000000.0                    0.565418   \n",
              "gross_income          1000000.0               139104.125364   \n",
              "save_account          1000000.0                    0.000177   \n",
              "current_account       1000000.0                    0.749626   \n",
              "derivada_account      1000000.0                    0.000591   \n",
              "payroll_account       1000000.0                    0.105296   \n",
              "junior_account        1000000.0                    0.013623   \n",
              "mas_particu_account   1000000.0                    0.009894   \n",
              "particu_account       1000000.0                    0.212486   \n",
              "particu_plus_account  1000000.0                    0.072079   \n",
              "short_term_deposit    1000000.0                    0.002158   \n",
              "medium_term_deposit   1000000.0                     0.00315   \n",
              "long_term_deposit     1000000.0                    0.066881   \n",
              "e_account             1000000.0                    0.106267   \n",
              "funds                 1000000.0                    0.027182   \n",
              "mortgage              1000000.0                    0.009982   \n",
              "pensions              1000000.0                    0.014553   \n",
              "loans                 1000000.0                    0.004661   \n",
              "taxes                 1000000.0                    0.072581   \n",
              "credit_card           1000000.0                    0.066084   \n",
              "securities            1000000.0                    0.039378   \n",
              "home_account          1000000.0                    0.006442   \n",
              "payroll               1000000.0                    0.071693   \n",
              "a_pension             1000000.0                    0.079606   \n",
              "direct_debit          1000000.0                    0.166275   \n",
              "\n",
              "                                      min                  25%  \\\n",
              "ıd                                    0.0            249999.75   \n",
              "fecha_dato            2015-01-28 00:00:00  2015-01-28 00:00:00   \n",
              "cust_code                         15889.0             336411.0   \n",
              "age                                   2.0                 27.0   \n",
              "date_regist           2015-01-28 00:00:00  2015-01-28 00:00:00   \n",
              "new_cust_ındex                        0.0                  0.0   \n",
              "cust_seniority                  -999999.0                 33.0   \n",
              "primary_cust                          1.0                  1.0   \n",
              "cust_type                             1.0                  1.0   \n",
              "activity_index                        0.0                  0.0   \n",
              "gross_income                       1202.0             73622.75   \n",
              "save_account                          0.0                  0.0   \n",
              "current_account                       0.0                  0.0   \n",
              "derivada_account                      0.0                  0.0   \n",
              "payroll_account                       0.0                  0.0   \n",
              "junior_account                        0.0                  0.0   \n",
              "mas_particu_account                   0.0                  0.0   \n",
              "particu_account                       0.0                  0.0   \n",
              "particu_plus_account                  0.0                  0.0   \n",
              "short_term_deposit                    0.0                  0.0   \n",
              "medium_term_deposit                   0.0                  0.0   \n",
              "long_term_deposit                     0.0                  0.0   \n",
              "e_account                             0.0                  0.0   \n",
              "funds                                 0.0                  0.0   \n",
              "mortgage                              0.0                  0.0   \n",
              "pensions                              0.0                  0.0   \n",
              "loans                                 0.0                  0.0   \n",
              "taxes                                 0.0                  0.0   \n",
              "credit_card                           0.0                  0.0   \n",
              "securities                            0.0                  0.0   \n",
              "home_account                          0.0                  0.0   \n",
              "payroll                               0.0                  0.0   \n",
              "a_pension                             0.0                  0.0   \n",
              "direct_debit                          0.0                  0.0   \n",
              "\n",
              "                                      50%                  75%  \\\n",
              "ıd                               499999.5            749999.25   \n",
              "fecha_dato            2015-01-28 00:00:00  2015-02-28 00:00:00   \n",
              "cust_code                        664476.0           1074511.25   \n",
              "age                                  43.0                 53.0   \n",
              "date_regist           2015-01-28 00:00:00  2015-02-28 00:00:00   \n",
              "new_cust_ındex                        0.0                  0.0   \n",
              "cust_seniority                       95.0                156.0   \n",
              "primary_cust                          1.0                  1.0   \n",
              "cust_type                             1.0                  1.0   \n",
              "activity_index                        1.0                  1.0   \n",
              "gross_income                     108048.0             162324.0   \n",
              "save_account                          0.0                  0.0   \n",
              "current_account                       1.0                  1.0   \n",
              "derivada_account                      0.0                  0.0   \n",
              "payroll_account                       0.0                  0.0   \n",
              "junior_account                        0.0                  0.0   \n",
              "mas_particu_account                   0.0                  0.0   \n",
              "particu_account                       0.0                  0.0   \n",
              "particu_plus_account                  0.0                  0.0   \n",
              "short_term_deposit                    0.0                  0.0   \n",
              "medium_term_deposit                   0.0                  0.0   \n",
              "long_term_deposit                     0.0                  0.0   \n",
              "e_account                             0.0                  0.0   \n",
              "funds                                 0.0                  0.0   \n",
              "mortgage                              0.0                  0.0   \n",
              "pensions                              0.0                  0.0   \n",
              "loans                                 0.0                  0.0   \n",
              "taxes                                 0.0                  0.0   \n",
              "credit_card                           0.0                  0.0   \n",
              "securities                            0.0                  0.0   \n",
              "home_account                          0.0                  0.0   \n",
              "payroll                               0.0                  0.0   \n",
              "a_pension                             0.0                  0.0   \n",
              "direct_debit                          0.0                  0.0   \n",
              "\n",
              "                                      max            std  \n",
              "ıd                               999999.0  288675.278933  \n",
              "fecha_dato            2015-02-28 00:00:00            NaN  \n",
              "cust_code                       1379131.0  404408.432011  \n",
              "age                                 116.0      17.065626  \n",
              "date_regist           2015-02-28 00:00:00            NaN  \n",
              "new_cust_ındex                        1.0       0.022266  \n",
              "cust_seniority                      246.0    2001.260509  \n",
              "primary_cust                         99.0        3.26909  \n",
              "cust_type                             3.0       0.013191  \n",
              "activity_index                        1.0       0.495702  \n",
              "gross_income                   28894395.0  229305.904318  \n",
              "save_account                          1.0       0.013303  \n",
              "current_account                       1.0       0.433229  \n",
              "derivada_account                      1.0       0.024303  \n",
              "payroll_account                       1.0       0.306935  \n",
              "junior_account                        1.0        0.11592  \n",
              "mas_particu_account                   1.0       0.098975  \n",
              "particu_account                       1.0       0.409067  \n",
              "particu_plus_account                  1.0       0.258619  \n",
              "short_term_deposit                    1.0       0.046404  \n",
              "medium_term_deposit                   1.0       0.056036  \n",
              "long_term_deposit                     1.0       0.249816  \n",
              "e_account                             1.0       0.308179  \n",
              "funds                                 1.0       0.162614  \n",
              "mortgage                              1.0        0.09941  \n",
              "pensions                              1.0       0.119755  \n",
              "loans                                 1.0       0.068112  \n",
              "taxes                                 1.0       0.259448  \n",
              "credit_card                           1.0       0.248429  \n",
              "securities                            1.0       0.194493  \n",
              "home_account                          1.0       0.080003  \n",
              "payroll                               1.0       0.257979  \n",
              "a_pension                             1.0       0.270682  \n",
              "direct_debit                          1.0       0.372327  "
            ],
            "text/html": [
              "\n",
              "  <div id=\"df-3f65e365-e513-4438-94dc-b0c8d4a80fef\" class=\"colab-df-container\">\n",
              "    <div>\n",
              "<style scoped>\n",
              "    .dataframe tbody tr th:only-of-type {\n",
              "        vertical-align: middle;\n",
              "    }\n",
              "\n",
              "    .dataframe tbody tr th {\n",
              "        vertical-align: top;\n",
              "    }\n",
              "\n",
              "    .dataframe thead th {\n",
              "        text-align: right;\n",
              "    }\n",
              "</style>\n",
              "<table border=\"1\" class=\"dataframe\">\n",
              "  <thead>\n",
              "    <tr style=\"text-align: right;\">\n",
              "      <th></th>\n",
              "      <th>count</th>\n",
              "      <th>mean</th>\n",
              "      <th>min</th>\n",
              "      <th>25%</th>\n",
              "      <th>50%</th>\n",
              "      <th>75%</th>\n",
              "      <th>max</th>\n",
              "      <th>std</th>\n",
              "    </tr>\n",
              "  </thead>\n",
              "  <tbody>\n",
              "    <tr>\n",
              "      <th>ıd</th>\n",
              "      <td>1000000.0</td>\n",
              "      <td>499999.5</td>\n",
              "      <td>0.0</td>\n",
              "      <td>249999.75</td>\n",
              "      <td>499999.5</td>\n",
              "      <td>749999.25</td>\n",
              "      <td>999999.0</td>\n",
              "      <td>288675.278933</td>\n",
              "    </tr>\n",
              "    <tr>\n",
              "      <th>fecha_dato</th>\n",
              "      <td>1000000</td>\n",
              "      <td>2015-02-08 14:39:35.971200</td>\n",
              "      <td>2015-01-28 00:00:00</td>\n",
              "      <td>2015-01-28 00:00:00</td>\n",
              "      <td>2015-01-28 00:00:00</td>\n",
              "      <td>2015-02-28 00:00:00</td>\n",
              "      <td>2015-02-28 00:00:00</td>\n",
              "      <td>NaN</td>\n",
              "    </tr>\n",
              "    <tr>\n",
              "      <th>cust_code</th>\n",
              "      <td>1000000.0</td>\n",
              "      <td>690596.670395</td>\n",
              "      <td>15889.0</td>\n",
              "      <td>336411.0</td>\n",
              "      <td>664476.0</td>\n",
              "      <td>1074511.25</td>\n",
              "      <td>1379131.0</td>\n",
              "      <td>404408.432011</td>\n",
              "    </tr>\n",
              "    <tr>\n",
              "      <th>age</th>\n",
              "      <td>1000000.0</td>\n",
              "      <td>43.266717</td>\n",
              "      <td>2.0</td>\n",
              "      <td>27.0</td>\n",
              "      <td>43.0</td>\n",
              "      <td>53.0</td>\n",
              "      <td>116.0</td>\n",
              "      <td>17.065626</td>\n",
              "    </tr>\n",
              "    <tr>\n",
              "      <th>date_regist</th>\n",
              "      <td>1000000</td>\n",
              "      <td>2015-02-08 14:39:35.971200</td>\n",
              "      <td>2015-01-28 00:00:00</td>\n",
              "      <td>2015-01-28 00:00:00</td>\n",
              "      <td>2015-01-28 00:00:00</td>\n",
              "      <td>2015-02-28 00:00:00</td>\n",
              "      <td>2015-02-28 00:00:00</td>\n",
              "      <td>NaN</td>\n",
              "    </tr>\n",
              "    <tr>\n",
              "      <th>new_cust_ındex</th>\n",
              "      <td>1000000.0</td>\n",
              "      <td>0.000496</td>\n",
              "      <td>0.0</td>\n",
              "      <td>0.0</td>\n",
              "      <td>0.0</td>\n",
              "      <td>0.0</td>\n",
              "      <td>1.0</td>\n",
              "      <td>0.022266</td>\n",
              "    </tr>\n",
              "    <tr>\n",
              "      <th>cust_seniority</th>\n",
              "      <td>1000000.0</td>\n",
              "      <td>93.092962</td>\n",
              "      <td>-999999.0</td>\n",
              "      <td>33.0</td>\n",
              "      <td>95.0</td>\n",
              "      <td>156.0</td>\n",
              "      <td>246.0</td>\n",
              "      <td>2001.260509</td>\n",
              "    </tr>\n",
              "    <tr>\n",
              "      <th>primary_cust</th>\n",
              "      <td>1000000.0</td>\n",
              "      <td>1.109172</td>\n",
              "      <td>1.0</td>\n",
              "      <td>1.0</td>\n",
              "      <td>1.0</td>\n",
              "      <td>1.0</td>\n",
              "      <td>99.0</td>\n",
              "      <td>3.26909</td>\n",
              "    </tr>\n",
              "    <tr>\n",
              "      <th>cust_type</th>\n",
              "      <td>1000000.0</td>\n",
              "      <td>1.000088</td>\n",
              "      <td>1.0</td>\n",
              "      <td>1.0</td>\n",
              "      <td>1.0</td>\n",
              "      <td>1.0</td>\n",
              "      <td>3.0</td>\n",
              "      <td>0.013191</td>\n",
              "    </tr>\n",
              "    <tr>\n",
              "      <th>activity_index</th>\n",
              "      <td>1000000.0</td>\n",
              "      <td>0.565418</td>\n",
              "      <td>0.0</td>\n",
              "      <td>0.0</td>\n",
              "      <td>1.0</td>\n",
              "      <td>1.0</td>\n",
              "      <td>1.0</td>\n",
              "      <td>0.495702</td>\n",
              "    </tr>\n",
              "    <tr>\n",
              "      <th>gross_income</th>\n",
              "      <td>1000000.0</td>\n",
              "      <td>139104.125364</td>\n",
              "      <td>1202.0</td>\n",
              "      <td>73622.75</td>\n",
              "      <td>108048.0</td>\n",
              "      <td>162324.0</td>\n",
              "      <td>28894395.0</td>\n",
              "      <td>229305.904318</td>\n",
              "    </tr>\n",
              "    <tr>\n",
              "      <th>save_account</th>\n",
              "      <td>1000000.0</td>\n",
              "      <td>0.000177</td>\n",
              "      <td>0.0</td>\n",
              "      <td>0.0</td>\n",
              "      <td>0.0</td>\n",
              "      <td>0.0</td>\n",
              "      <td>1.0</td>\n",
              "      <td>0.013303</td>\n",
              "    </tr>\n",
              "    <tr>\n",
              "      <th>current_account</th>\n",
              "      <td>1000000.0</td>\n",
              "      <td>0.749626</td>\n",
              "      <td>0.0</td>\n",
              "      <td>0.0</td>\n",
              "      <td>1.0</td>\n",
              "      <td>1.0</td>\n",
              "      <td>1.0</td>\n",
              "      <td>0.433229</td>\n",
              "    </tr>\n",
              "    <tr>\n",
              "      <th>derivada_account</th>\n",
              "      <td>1000000.0</td>\n",
              "      <td>0.000591</td>\n",
              "      <td>0.0</td>\n",
              "      <td>0.0</td>\n",
              "      <td>0.0</td>\n",
              "      <td>0.0</td>\n",
              "      <td>1.0</td>\n",
              "      <td>0.024303</td>\n",
              "    </tr>\n",
              "    <tr>\n",
              "      <th>payroll_account</th>\n",
              "      <td>1000000.0</td>\n",
              "      <td>0.105296</td>\n",
              "      <td>0.0</td>\n",
              "      <td>0.0</td>\n",
              "      <td>0.0</td>\n",
              "      <td>0.0</td>\n",
              "      <td>1.0</td>\n",
              "      <td>0.306935</td>\n",
              "    </tr>\n",
              "    <tr>\n",
              "      <th>junior_account</th>\n",
              "      <td>1000000.0</td>\n",
              "      <td>0.013623</td>\n",
              "      <td>0.0</td>\n",
              "      <td>0.0</td>\n",
              "      <td>0.0</td>\n",
              "      <td>0.0</td>\n",
              "      <td>1.0</td>\n",
              "      <td>0.11592</td>\n",
              "    </tr>\n",
              "    <tr>\n",
              "      <th>mas_particu_account</th>\n",
              "      <td>1000000.0</td>\n",
              "      <td>0.009894</td>\n",
              "      <td>0.0</td>\n",
              "      <td>0.0</td>\n",
              "      <td>0.0</td>\n",
              "      <td>0.0</td>\n",
              "      <td>1.0</td>\n",
              "      <td>0.098975</td>\n",
              "    </tr>\n",
              "    <tr>\n",
              "      <th>particu_account</th>\n",
              "      <td>1000000.0</td>\n",
              "      <td>0.212486</td>\n",
              "      <td>0.0</td>\n",
              "      <td>0.0</td>\n",
              "      <td>0.0</td>\n",
              "      <td>0.0</td>\n",
              "      <td>1.0</td>\n",
              "      <td>0.409067</td>\n",
              "    </tr>\n",
              "    <tr>\n",
              "      <th>particu_plus_account</th>\n",
              "      <td>1000000.0</td>\n",
              "      <td>0.072079</td>\n",
              "      <td>0.0</td>\n",
              "      <td>0.0</td>\n",
              "      <td>0.0</td>\n",
              "      <td>0.0</td>\n",
              "      <td>1.0</td>\n",
              "      <td>0.258619</td>\n",
              "    </tr>\n",
              "    <tr>\n",
              "      <th>short_term_deposit</th>\n",
              "      <td>1000000.0</td>\n",
              "      <td>0.002158</td>\n",
              "      <td>0.0</td>\n",
              "      <td>0.0</td>\n",
              "      <td>0.0</td>\n",
              "      <td>0.0</td>\n",
              "      <td>1.0</td>\n",
              "      <td>0.046404</td>\n",
              "    </tr>\n",
              "    <tr>\n",
              "      <th>medium_term_deposit</th>\n",
              "      <td>1000000.0</td>\n",
              "      <td>0.00315</td>\n",
              "      <td>0.0</td>\n",
              "      <td>0.0</td>\n",
              "      <td>0.0</td>\n",
              "      <td>0.0</td>\n",
              "      <td>1.0</td>\n",
              "      <td>0.056036</td>\n",
              "    </tr>\n",
              "    <tr>\n",
              "      <th>long_term_deposit</th>\n",
              "      <td>1000000.0</td>\n",
              "      <td>0.066881</td>\n",
              "      <td>0.0</td>\n",
              "      <td>0.0</td>\n",
              "      <td>0.0</td>\n",
              "      <td>0.0</td>\n",
              "      <td>1.0</td>\n",
              "      <td>0.249816</td>\n",
              "    </tr>\n",
              "    <tr>\n",
              "      <th>e_account</th>\n",
              "      <td>1000000.0</td>\n",
              "      <td>0.106267</td>\n",
              "      <td>0.0</td>\n",
              "      <td>0.0</td>\n",
              "      <td>0.0</td>\n",
              "      <td>0.0</td>\n",
              "      <td>1.0</td>\n",
              "      <td>0.308179</td>\n",
              "    </tr>\n",
              "    <tr>\n",
              "      <th>funds</th>\n",
              "      <td>1000000.0</td>\n",
              "      <td>0.027182</td>\n",
              "      <td>0.0</td>\n",
              "      <td>0.0</td>\n",
              "      <td>0.0</td>\n",
              "      <td>0.0</td>\n",
              "      <td>1.0</td>\n",
              "      <td>0.162614</td>\n",
              "    </tr>\n",
              "    <tr>\n",
              "      <th>mortgage</th>\n",
              "      <td>1000000.0</td>\n",
              "      <td>0.009982</td>\n",
              "      <td>0.0</td>\n",
              "      <td>0.0</td>\n",
              "      <td>0.0</td>\n",
              "      <td>0.0</td>\n",
              "      <td>1.0</td>\n",
              "      <td>0.09941</td>\n",
              "    </tr>\n",
              "    <tr>\n",
              "      <th>pensions</th>\n",
              "      <td>1000000.0</td>\n",
              "      <td>0.014553</td>\n",
              "      <td>0.0</td>\n",
              "      <td>0.0</td>\n",
              "      <td>0.0</td>\n",
              "      <td>0.0</td>\n",
              "      <td>1.0</td>\n",
              "      <td>0.119755</td>\n",
              "    </tr>\n",
              "    <tr>\n",
              "      <th>loans</th>\n",
              "      <td>1000000.0</td>\n",
              "      <td>0.004661</td>\n",
              "      <td>0.0</td>\n",
              "      <td>0.0</td>\n",
              "      <td>0.0</td>\n",
              "      <td>0.0</td>\n",
              "      <td>1.0</td>\n",
              "      <td>0.068112</td>\n",
              "    </tr>\n",
              "    <tr>\n",
              "      <th>taxes</th>\n",
              "      <td>1000000.0</td>\n",
              "      <td>0.072581</td>\n",
              "      <td>0.0</td>\n",
              "      <td>0.0</td>\n",
              "      <td>0.0</td>\n",
              "      <td>0.0</td>\n",
              "      <td>1.0</td>\n",
              "      <td>0.259448</td>\n",
              "    </tr>\n",
              "    <tr>\n",
              "      <th>credit_card</th>\n",
              "      <td>1000000.0</td>\n",
              "      <td>0.066084</td>\n",
              "      <td>0.0</td>\n",
              "      <td>0.0</td>\n",
              "      <td>0.0</td>\n",
              "      <td>0.0</td>\n",
              "      <td>1.0</td>\n",
              "      <td>0.248429</td>\n",
              "    </tr>\n",
              "    <tr>\n",
              "      <th>securities</th>\n",
              "      <td>1000000.0</td>\n",
              "      <td>0.039378</td>\n",
              "      <td>0.0</td>\n",
              "      <td>0.0</td>\n",
              "      <td>0.0</td>\n",
              "      <td>0.0</td>\n",
              "      <td>1.0</td>\n",
              "      <td>0.194493</td>\n",
              "    </tr>\n",
              "    <tr>\n",
              "      <th>home_account</th>\n",
              "      <td>1000000.0</td>\n",
              "      <td>0.006442</td>\n",
              "      <td>0.0</td>\n",
              "      <td>0.0</td>\n",
              "      <td>0.0</td>\n",
              "      <td>0.0</td>\n",
              "      <td>1.0</td>\n",
              "      <td>0.080003</td>\n",
              "    </tr>\n",
              "    <tr>\n",
              "      <th>payroll</th>\n",
              "      <td>1000000.0</td>\n",
              "      <td>0.071693</td>\n",
              "      <td>0.0</td>\n",
              "      <td>0.0</td>\n",
              "      <td>0.0</td>\n",
              "      <td>0.0</td>\n",
              "      <td>1.0</td>\n",
              "      <td>0.257979</td>\n",
              "    </tr>\n",
              "    <tr>\n",
              "      <th>a_pension</th>\n",
              "      <td>1000000.0</td>\n",
              "      <td>0.079606</td>\n",
              "      <td>0.0</td>\n",
              "      <td>0.0</td>\n",
              "      <td>0.0</td>\n",
              "      <td>0.0</td>\n",
              "      <td>1.0</td>\n",
              "      <td>0.270682</td>\n",
              "    </tr>\n",
              "    <tr>\n",
              "      <th>direct_debit</th>\n",
              "      <td>1000000.0</td>\n",
              "      <td>0.166275</td>\n",
              "      <td>0.0</td>\n",
              "      <td>0.0</td>\n",
              "      <td>0.0</td>\n",
              "      <td>0.0</td>\n",
              "      <td>1.0</td>\n",
              "      <td>0.372327</td>\n",
              "    </tr>\n",
              "  </tbody>\n",
              "</table>\n",
              "</div>\n",
              "    <div class=\"colab-df-buttons\">\n",
              "\n",
              "  <div class=\"colab-df-container\">\n",
              "    <button class=\"colab-df-convert\" onclick=\"convertToInteractive('df-3f65e365-e513-4438-94dc-b0c8d4a80fef')\"\n",
              "            title=\"Convert this dataframe to an interactive table.\"\n",
              "            style=\"display:none;\">\n",
              "\n",
              "  <svg xmlns=\"http://www.w3.org/2000/svg\" height=\"24px\" viewBox=\"0 -960 960 960\">\n",
              "    <path d=\"M120-120v-720h720v720H120Zm60-500h600v-160H180v160Zm220 220h160v-160H400v160Zm0 220h160v-160H400v160ZM180-400h160v-160H180v160Zm440 0h160v-160H620v160ZM180-180h160v-160H180v160Zm440 0h160v-160H620v160Z\"/>\n",
              "  </svg>\n",
              "    </button>\n",
              "\n",
              "  <style>\n",
              "    .colab-df-container {\n",
              "      display:flex;\n",
              "      gap: 12px;\n",
              "    }\n",
              "\n",
              "    .colab-df-convert {\n",
              "      background-color: #E8F0FE;\n",
              "      border: none;\n",
              "      border-radius: 50%;\n",
              "      cursor: pointer;\n",
              "      display: none;\n",
              "      fill: #1967D2;\n",
              "      height: 32px;\n",
              "      padding: 0 0 0 0;\n",
              "      width: 32px;\n",
              "    }\n",
              "\n",
              "    .colab-df-convert:hover {\n",
              "      background-color: #E2EBFA;\n",
              "      box-shadow: 0px 1px 2px rgba(60, 64, 67, 0.3), 0px 1px 3px 1px rgba(60, 64, 67, 0.15);\n",
              "      fill: #174EA6;\n",
              "    }\n",
              "\n",
              "    .colab-df-buttons div {\n",
              "      margin-bottom: 4px;\n",
              "    }\n",
              "\n",
              "    [theme=dark] .colab-df-convert {\n",
              "      background-color: #3B4455;\n",
              "      fill: #D2E3FC;\n",
              "    }\n",
              "\n",
              "    [theme=dark] .colab-df-convert:hover {\n",
              "      background-color: #434B5C;\n",
              "      box-shadow: 0px 1px 3px 1px rgba(0, 0, 0, 0.15);\n",
              "      filter: drop-shadow(0px 1px 2px rgba(0, 0, 0, 0.3));\n",
              "      fill: #FFFFFF;\n",
              "    }\n",
              "  </style>\n",
              "\n",
              "    <script>\n",
              "      const buttonEl =\n",
              "        document.querySelector('#df-3f65e365-e513-4438-94dc-b0c8d4a80fef button.colab-df-convert');\n",
              "      buttonEl.style.display =\n",
              "        google.colab.kernel.accessAllowed ? 'block' : 'none';\n",
              "\n",
              "      async function convertToInteractive(key) {\n",
              "        const element = document.querySelector('#df-3f65e365-e513-4438-94dc-b0c8d4a80fef');\n",
              "        const dataTable =\n",
              "          await google.colab.kernel.invokeFunction('convertToInteractive',\n",
              "                                                    [key], {});\n",
              "        if (!dataTable) return;\n",
              "\n",
              "        const docLinkHtml = 'Like what you see? Visit the ' +\n",
              "          '<a target=\"_blank\" href=https://colab.research.google.com/notebooks/data_table.ipynb>data table notebook</a>'\n",
              "          + ' to learn more about interactive tables.';\n",
              "        element.innerHTML = '';\n",
              "        dataTable['output_type'] = 'display_data';\n",
              "        await google.colab.output.renderOutput(dataTable, element);\n",
              "        const docLink = document.createElement('div');\n",
              "        docLink.innerHTML = docLinkHtml;\n",
              "        element.appendChild(docLink);\n",
              "      }\n",
              "    </script>\n",
              "  </div>\n",
              "\n",
              "\n",
              "<div id=\"df-7f986a02-6894-4f90-b638-24e8a37d1a3e\">\n",
              "  <button class=\"colab-df-quickchart\" onclick=\"quickchart('df-7f986a02-6894-4f90-b638-24e8a37d1a3e')\"\n",
              "            title=\"Suggest charts\"\n",
              "            style=\"display:none;\">\n",
              "\n",
              "<svg xmlns=\"http://www.w3.org/2000/svg\" height=\"24px\"viewBox=\"0 0 24 24\"\n",
              "     width=\"24px\">\n",
              "    <g>\n",
              "        <path d=\"M19 3H5c-1.1 0-2 .9-2 2v14c0 1.1.9 2 2 2h14c1.1 0 2-.9 2-2V5c0-1.1-.9-2-2-2zM9 17H7v-7h2v7zm4 0h-2V7h2v10zm4 0h-2v-4h2v4z\"/>\n",
              "    </g>\n",
              "</svg>\n",
              "  </button>\n",
              "\n",
              "<style>\n",
              "  .colab-df-quickchart {\n",
              "      --bg-color: #E8F0FE;\n",
              "      --fill-color: #1967D2;\n",
              "      --hover-bg-color: #E2EBFA;\n",
              "      --hover-fill-color: #174EA6;\n",
              "      --disabled-fill-color: #AAA;\n",
              "      --disabled-bg-color: #DDD;\n",
              "  }\n",
              "\n",
              "  [theme=dark] .colab-df-quickchart {\n",
              "      --bg-color: #3B4455;\n",
              "      --fill-color: #D2E3FC;\n",
              "      --hover-bg-color: #434B5C;\n",
              "      --hover-fill-color: #FFFFFF;\n",
              "      --disabled-bg-color: #3B4455;\n",
              "      --disabled-fill-color: #666;\n",
              "  }\n",
              "\n",
              "  .colab-df-quickchart {\n",
              "    background-color: var(--bg-color);\n",
              "    border: none;\n",
              "    border-radius: 50%;\n",
              "    cursor: pointer;\n",
              "    display: none;\n",
              "    fill: var(--fill-color);\n",
              "    height: 32px;\n",
              "    padding: 0;\n",
              "    width: 32px;\n",
              "  }\n",
              "\n",
              "  .colab-df-quickchart:hover {\n",
              "    background-color: var(--hover-bg-color);\n",
              "    box-shadow: 0 1px 2px rgba(60, 64, 67, 0.3), 0 1px 3px 1px rgba(60, 64, 67, 0.15);\n",
              "    fill: var(--button-hover-fill-color);\n",
              "  }\n",
              "\n",
              "  .colab-df-quickchart-complete:disabled,\n",
              "  .colab-df-quickchart-complete:disabled:hover {\n",
              "    background-color: var(--disabled-bg-color);\n",
              "    fill: var(--disabled-fill-color);\n",
              "    box-shadow: none;\n",
              "  }\n",
              "\n",
              "  .colab-df-spinner {\n",
              "    border: 2px solid var(--fill-color);\n",
              "    border-color: transparent;\n",
              "    border-bottom-color: var(--fill-color);\n",
              "    animation:\n",
              "      spin 1s steps(1) infinite;\n",
              "  }\n",
              "\n",
              "  @keyframes spin {\n",
              "    0% {\n",
              "      border-color: transparent;\n",
              "      border-bottom-color: var(--fill-color);\n",
              "      border-left-color: var(--fill-color);\n",
              "    }\n",
              "    20% {\n",
              "      border-color: transparent;\n",
              "      border-left-color: var(--fill-color);\n",
              "      border-top-color: var(--fill-color);\n",
              "    }\n",
              "    30% {\n",
              "      border-color: transparent;\n",
              "      border-left-color: var(--fill-color);\n",
              "      border-top-color: var(--fill-color);\n",
              "      border-right-color: var(--fill-color);\n",
              "    }\n",
              "    40% {\n",
              "      border-color: transparent;\n",
              "      border-right-color: var(--fill-color);\n",
              "      border-top-color: var(--fill-color);\n",
              "    }\n",
              "    60% {\n",
              "      border-color: transparent;\n",
              "      border-right-color: var(--fill-color);\n",
              "    }\n",
              "    80% {\n",
              "      border-color: transparent;\n",
              "      border-right-color: var(--fill-color);\n",
              "      border-bottom-color: var(--fill-color);\n",
              "    }\n",
              "    90% {\n",
              "      border-color: transparent;\n",
              "      border-bottom-color: var(--fill-color);\n",
              "    }\n",
              "  }\n",
              "</style>\n",
              "\n",
              "  <script>\n",
              "    async function quickchart(key) {\n",
              "      const quickchartButtonEl =\n",
              "        document.querySelector('#' + key + ' button');\n",
              "      quickchartButtonEl.disabled = true;  // To prevent multiple clicks.\n",
              "      quickchartButtonEl.classList.add('colab-df-spinner');\n",
              "      try {\n",
              "        const charts = await google.colab.kernel.invokeFunction(\n",
              "            'suggestCharts', [key], {});\n",
              "      } catch (error) {\n",
              "        console.error('Error during call to suggestCharts:', error);\n",
              "      }\n",
              "      quickchartButtonEl.classList.remove('colab-df-spinner');\n",
              "      quickchartButtonEl.classList.add('colab-df-quickchart-complete');\n",
              "    }\n",
              "    (() => {\n",
              "      let quickchartButtonEl =\n",
              "        document.querySelector('#df-7f986a02-6894-4f90-b638-24e8a37d1a3e button');\n",
              "      quickchartButtonEl.style.display =\n",
              "        google.colab.kernel.accessAllowed ? 'block' : 'none';\n",
              "    })();\n",
              "  </script>\n",
              "</div>\n",
              "\n",
              "    </div>\n",
              "  </div>\n"
            ],
            "application/vnd.google.colaboratory.intrinsic+json": {
              "type": "dataframe",
              "summary": "{\n  \"name\": \"data\",\n  \"rows\": 34,\n  \"fields\": [\n    {\n      \"column\": \"count\",\n      \"properties\": {\n        \"dtype\": \"date\",\n        \"min\": 1000000.0,\n        \"max\": 1000000.0,\n        \"num_unique_values\": 1,\n        \"samples\": [\n          1000000.0\n        ],\n        \"semantic_type\": \"\",\n        \"description\": \"\"\n      }\n    },\n    {\n      \"column\": \"mean\",\n      \"properties\": {\n        \"dtype\": \"date\",\n        \"min\": \"1970-01-01 00:00:00\",\n        \"max\": \"2015-02-08 14:39:35.971200\",\n        \"num_unique_values\": 33,\n        \"samples\": [\n          0.079606\n        ],\n        \"semantic_type\": \"\",\n        \"description\": \"\"\n      }\n    },\n    {\n      \"column\": \"min\",\n      \"properties\": {\n        \"dtype\": \"date\",\n        \"min\": \"1969-12-31 23:59:59.999000001\",\n        \"max\": \"2015-01-28 00:00:00\",\n        \"num_unique_values\": 7,\n        \"samples\": [\n          0.0\n        ],\n        \"semantic_type\": \"\",\n        \"description\": \"\"\n      }\n    },\n    {\n      \"column\": \"25%\",\n      \"properties\": {\n        \"dtype\": \"date\",\n        \"min\": \"1970-01-01 00:00:00\",\n        \"max\": \"2015-01-28 00:00:00\",\n        \"num_unique_values\": 8,\n        \"samples\": [\n          \"2015-01-28 00:00:00\"\n        ],\n        \"semantic_type\": \"\",\n        \"description\": \"\"\n      }\n    },\n    {\n      \"column\": \"50%\",\n      \"properties\": {\n        \"dtype\": \"date\",\n        \"min\": \"1970-01-01 00:00:00\",\n        \"max\": \"2015-01-28 00:00:00\",\n        \"num_unique_values\": 8,\n        \"samples\": [\n          \"2015-01-28 00:00:00\"\n        ],\n        \"semantic_type\": \"\",\n        \"description\": \"\"\n      }\n    },\n    {\n      \"column\": \"75%\",\n      \"properties\": {\n        \"dtype\": \"date\",\n        \"min\": \"1970-01-01 00:00:00\",\n        \"max\": \"2015-02-28 00:00:00\",\n        \"num_unique_values\": 8,\n        \"samples\": [\n          \"2015-02-28 00:00:00\"\n        ],\n        \"semantic_type\": \"\",\n        \"description\": \"\"\n      }\n    },\n    {\n      \"column\": \"max\",\n      \"properties\": {\n        \"dtype\": \"date\",\n        \"min\": \"1970-01-01 00:00:00.000000001\",\n        \"max\": \"2015-02-28 00:00:00\",\n        \"num_unique_values\": 9,\n        \"samples\": [\n          3.0\n        ],\n        \"semantic_type\": \"\",\n        \"description\": \"\"\n      }\n    },\n    {\n      \"column\": \"std\",\n      \"properties\": {\n        \"dtype\": \"date\",\n        \"min\": 0.013190619014903059,\n        \"max\": 404408.43201132125,\n        \"num_unique_values\": 32,\n        \"samples\": [\n          0.25797903074492057\n        ],\n        \"semantic_type\": \"\",\n        \"description\": \"\"\n      }\n    }\n  ]\n}"
            }
          },
          "metadata": {},
          "execution_count": 76
        }
      ]
    }
  ],
  "metadata": {
    "colab": {
      "provenance": []
    },
    "kernelspec": {
      "display_name": "Python 3",
      "name": "python3"
    },
    "language_info": {
      "name": "python"
    }
  },
  "nbformat": 4,
  "nbformat_minor": 0
}